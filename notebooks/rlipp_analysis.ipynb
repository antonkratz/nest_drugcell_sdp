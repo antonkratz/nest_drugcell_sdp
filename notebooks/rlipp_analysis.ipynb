{
 "cells": [
  {
   "cell_type": "code",
   "execution_count": null,
   "metadata": {},
   "outputs": [],
   "source": [
    "import pandas as pd\n",
    "import numpy as np\n",
    "import matplotlib.pyplot as plt\n",
    "\n",
    "from collections import Counter"
   ]
  },
  {
   "cell_type": "code",
   "execution_count": null,
   "metadata": {},
   "outputs": [],
   "source": [
    "def create_manhattan_plt(score_list, x_label, y_label, title):\n",
    "    fig = plt.figure(figsize=(8, 6))\n",
    "    ax = fig.add_subplot(111)\n",
    "    ax.bar(score_list.keys(), score_list.values(), width=1.0)\n",
    "    ax.set_xlabel(x_label)\n",
    "    ax.set_ylabel(y_label)\n",
    "    ax.set_title(title)\n",
    "    plt.xticks(rotation=75)\n",
    "    plt.show()\n",
    "    return fig"
   ]
  },
  {
   "cell_type": "code",
   "execution_count": null,
   "metadata": {},
   "outputs": [],
   "source": [
    "def get_top_systems(drug, drug_name):\n",
    "    score_list = {}\n",
    "    for i, row in rlipp_df.iterrows():\n",
    "        if row['Drug'] == drug:\n",
    "            score_list[row['Term']] = (row['RLIPP'])\n",
    "    score_list = {term:rlipp for term,rlipp in sorted(score_list.items(), key=lambda item:item[1], reverse=True)}\n",
    "    top_scores = {}\n",
    "    subsys_df = pd.DataFrame()\n",
    "    for i,key in enumerate(score_list):\n",
    "        if i < 5:\n",
    "            top_scores[nest_map[key]] = score_list[key]\n",
    "        subsys_df = subsys_df.append({'Rank' : (i+1), 'Term' : key, 'RLIPP Score' : score_list[key], 'Name' : nest_map[key], 'Type' : nest_h_map[key]}, ignore_index = True)\n",
    "        \n",
    "    fig = create_manhattan_plt(top_scores, 'Top 5 subsystems', 'RLIPP score', drug_name)\n",
    "    return top_scores, subsys_df, fig"
   ]
  },
  {
   "cell_type": "code",
   "execution_count": null,
   "metadata": {},
   "outputs": [],
   "source": [
    "rlipp_df = pd.read_csv('../result/rlipp.out', sep='\\t')\n",
    "nest_df = pd.read_csv('../data/nest_map.csv', sep=',')\n",
    "nest_map = {row['name'].replace('.', '-'):row['Annotation'] for i, row in nest_df.iterrows()}\n",
    "nest_h_map = {row['name'].replace('.', '-'):row['Main Hallmark'] for i, row in nest_df.iterrows()}"
   ]
  },
  {
   "cell_type": "code",
   "execution_count": null,
   "metadata": {},
   "outputs": [],
   "source": [
    "drug = 'CC1=C2C(=C(N(C1=O)C)NC3=C(C=C(C=C3)I)F)C(=O)N(C(=O)N2C4=CC(=CC=C4)NC(=O)C)C5CC5'\n",
    "top_scores, subsys_df, fig = get_top_systems(drug, 'Trametinib')"
   ]
  },
  {
   "cell_type": "code",
   "execution_count": null,
   "metadata": {},
   "outputs": [],
   "source": [
    "drug = 'CC[C@@]1(C[C@H]2C[C@@](C3=C(CCN(C2)C1)C4=CC=CC=C4N3)(C5=C(C=C6C(=C5)[C@]78CCN9[C@H]7[C@@](C=CC9)([C@H]([C@@]([C@@H]8N6C=O)(C(=O)OC)O)OC(=O)C)CC)OC)C(=O)OC)O'\n",
    "top_scores, subsys_df, fig = get_top_systems(drug, 'Vincristine')"
   ]
  },
  {
   "cell_type": "code",
   "execution_count": null,
   "metadata": {},
   "outputs": [],
   "source": [
    "drug = 'COC1=CC(=C(C=C1)OC)C2=NN=C3N2N=C(CS3)C4=CC(=C(C=C4)OC)OC'\n",
    "top_scores, subsys_df, fig = get_top_systems(drug, 'Triazolothiadiazine')"
   ]
  },
  {
   "cell_type": "code",
   "execution_count": null,
   "metadata": {},
   "outputs": [],
   "source": [
    "drug = 'C1=CC(=C(C=C1I)F)NC2=C(C(=C(C=C2C(=O)NOCC(CO)O)Br)F)F'\n",
    "top_scores, subsys_df, fig = get_top_systems(drug, 'Benzamide')"
   ]
  },
  {
   "cell_type": "code",
   "execution_count": null,
   "metadata": {},
   "outputs": [],
   "source": [
    "drug = 'C1COCCN1CCOC2=CC=C(C=C2)C3=CN=C(C=C3)CC(=O)NCC4=CC=CC=C4'\n",
    "top_scores, subsys_df, fig = get_top_systems(drug, 'Tirbanibulin')"
   ]
  },
  {
   "cell_type": "code",
   "execution_count": null,
   "metadata": {},
   "outputs": [],
   "source": [
    "drug = 'CC1=C2[C@H](C(=O)[C@@]3([C@H](C[C@@H]4[C@](C3[C@@H]([C@@](C2(C)C)(C[C@@H]1OC(=O)[C@@H]([C@H](C5=CC=CC=C5)NC(=O)C6=CC=CC=C6)O)O)OC(=O)C7=CC=CC=C7)(CO4)OC(=O)C)O)C)OC(=O)C'\n",
    "top_scores, subsys_df, fig = get_top_systems(drug, 'Paclitaxel')"
   ]
  },
  {
   "cell_type": "code",
   "execution_count": null,
   "metadata": {},
   "outputs": [],
   "source": [
    "subsys_df.to_csv('../plots/paclitaxel_subsystems.csv', index=False)"
   ]
  }
 ],
 "metadata": {
  "kernelspec": {
   "display_name": "Python 3",
   "language": "python",
   "name": "python3"
  },
  "language_info": {
   "codemirror_mode": {
    "name": "ipython",
    "version": 3
   },
   "file_extension": ".py",
   "mimetype": "text/x-python",
   "name": "python",
   "nbconvert_exporter": "python",
   "pygments_lexer": "ipython3",
   "version": "3.7.6"
  }
 },
 "nbformat": 4,
 "nbformat_minor": 4
}
