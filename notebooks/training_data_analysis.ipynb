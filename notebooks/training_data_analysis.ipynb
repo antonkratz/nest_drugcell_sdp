{
 "cells": [
  {
   "cell_type": "code",
   "execution_count": null,
   "metadata": {},
   "outputs": [],
   "source": [
    "import pandas as pd\n",
    "import numpy as np\n",
    "import math\n",
    "from matplotlib_venn import venn2, venn3\n",
    "import matplotlib.pyplot as plt\n",
    "from matplotlib.ticker import ScalarFormatter\n",
    "from scipy import stats\n",
    "import networkx as nx\n",
    "\n",
    "%matplotlib inline"
   ]
  },
  {
   "cell_type": "code",
   "execution_count": null,
   "metadata": {},
   "outputs": [],
   "source": [
    "SMALL_SIZE = 12\n",
    "MEDIUM_SIZE = 16\n",
    "BIGGER_SIZE = 22\n",
    "\n",
    "plt.rc('font', size=SMALL_SIZE)          # controls default text sizes\n",
    "plt.rc('axes', titlesize=SMALL_SIZE)     # fontsize of the axes title\n",
    "plt.rc('axes', labelsize=MEDIUM_SIZE)    # fontsize of the x and y labels\n",
    "plt.rc('xtick', labelsize=SMALL_SIZE)    # fontsize of the tick labels\n",
    "plt.rc('ytick', labelsize=SMALL_SIZE)    # fontsize of the tick labels\n",
    "plt.rc('legend', fontsize=SMALL_SIZE)    # legend fontsize\n",
    "plt.rc('figure', titlesize=BIGGER_SIZE)  # fontsize of the figure title"
   ]
  },
  {
   "cell_type": "code",
   "execution_count": null,
   "metadata": {},
   "outputs": [],
   "source": [
    "def create_bar_plot(data, x_title, y_title):\n",
    "    fig = plt.figure(figsize=(9, 8))\n",
    "    ax = fig.add_subplot(111)\n",
    "    ax.hist(x=data, bins='auto', alpha=0.7, rwidth=0.85)\n",
    "    ax.grid(False)\n",
    "    ax.set_xlabel(x_title)\n",
    "    ax.set_ylabel(y_title)\n",
    "    ax.set_xscale(\"log\")\n",
    "    #ax.set_xlim(1, 1000)\n",
    "    ax.xaxis.set_major_formatter(ScalarFormatter())\n",
    "    plt.show()\n",
    "    return fig"
   ]
  },
  {
   "cell_type": "code",
   "execution_count": null,
   "metadata": {},
   "outputs": [],
   "source": [
    "def load_ontology(file_name):\n",
    "    dG = nx.DiGraph()\n",
    "    file_handle = open(file_name)\n",
    "    for line in file_handle:\n",
    "        line = line.rstrip().split()\n",
    "        if line[2] == 'default':\n",
    "            dG.add_edge(line[0], line[1])\n",
    "    file_handle.close()    \n",
    "    return dG"
   ]
  },
  {
   "cell_type": "code",
   "execution_count": null,
   "metadata": {},
   "outputs": [],
   "source": [
    "def get_next_layer(dg, stack, term_visited):\n",
    "    new_stack = []\n",
    "    count = 0\n",
    "    while len(stack) > 0:\n",
    "        term = stack.pop()\n",
    "        count += 1\n",
    "        if term in term_visited:\n",
    "            continue\n",
    "        term_visited[term] = 1\n",
    "        for n in list(dg.neighbors(term)):\n",
    "            new_stack.append(n)\n",
    "    return new_stack, count"
   ]
  },
  {
   "cell_type": "code",
   "execution_count": null,
   "metadata": {},
   "outputs": [],
   "source": [
    "def get_cell_lines_by_tissue_type(tissue_type, cell_annot_df, cell_lines_df):\n",
    "    ccle_tissue_cell_lines = list(cell_annot_df.query('Site_Primary == @tissue_type')['CCLE_ID'])\n",
    "    return cell_lines_df.query('C in @ccle_tissue_cell_lines')"
   ]
  },
  {
   "cell_type": "code",
   "execution_count": null,
   "metadata": {},
   "outputs": [],
   "source": [
    "#train_df = pd.read_csv('../data/drugcell_all.txt', sep='\\t', header=None, names=['C', 'D', 'AUC'])\n",
    "\n",
    "drugs = pd.read_csv('../data/drug2ind_cg.txt', sep='\\t', header=None, names=['I', 'D'])['D']\n",
    "cell_lines_df = pd.read_csv('../data/cell2ind_cg.txt', sep='\\t', header=None, names=['I', 'C'])\n",
    "\n",
    "ontology_file = '../data/ontology_clinical_trial.txt'\n",
    "cell_mutation = np.loadtxt('../data/cell2mutation_cg.txt', delimiter=',')\n",
    "genes = set(pd.read_csv('../data/gene2ind_cg.txt', sep='\\t', header=None, names=['I', 'G'])['G'])\n",
    "\n",
    "genes_orig = set(pd.read_csv('../../drugcell/data/gene2ind.txt', sep='\\t', header=None, names=['I', 'G'])['G'])\n",
    "cells_orig = set(pd.read_csv('../../drugcell/data/cell2ind.txt', sep='\\t', header=None, names=['I', 'C'])['C'])\n",
    "cell_mutation_orig = np.loadtxt('../../drugcell/data/cell2mutation.txt', delimiter=',')\n",
    "\n",
    "cell_types_df = pd.read_csv('../data/CCLE/CCLE_mutations.csv', sep='\\t')\n",
    "cell_annot_df = pd.read_csv('../data/CCLE/sample_info.csv', sep=\"\\t\")\n",
    "\n",
    "nest_gene_list = []\n",
    "with open('../data/NeST/gene_list_NeST.txt', 'r') as file:\n",
    "    nest_gene_list = file.read().split()\n",
    "\n",
    "genie_genes = set(pd.read_csv('../data/GENIE/GENIE_gene_list.txt', sep='\\t', header=None, names=['G'])['G'])\n",
    "\n",
    "gene_panels = pd.read_csv(\"../data/ClinicalGenePanels.txt\", sep='\\t')"
   ]
  },
  {
   "cell_type": "code",
   "execution_count": null,
   "metadata": {},
   "outputs": [],
   "source": [
    "fig = plt.figure(figsize=(8,8))\n",
    "venn2([genes, genie_genes], ['DrugCell 2.0', 'GENIE'])\n",
    "plt.show()"
   ]
  },
  {
   "cell_type": "code",
   "execution_count": null,
   "metadata": {},
   "outputs": [],
   "source": [
    "# No. of mutations in cell-lines\n",
    "\n",
    "mutation_count = np.count_nonzero(cell_mutation == 1, axis=1)\n",
    "print('Median per cell line:', np.median(mutation_count))\n",
    "print('Mean per cell line:', np.mean(mutation_count))\n",
    "\n",
    "fig = create_bar_plot(mutation_count, 'Number of mutations', 'Number of cell lines')"
   ]
  },
  {
   "cell_type": "code",
   "execution_count": null,
   "metadata": {},
   "outputs": [],
   "source": [
    "tissue = 'breast'\n",
    "tissue_cl_df = get_cell_lines_by_tissue_type(tissue, cell_annot_df, cell_lines_df)\n",
    "tissue_cl_indices = list(tissue_cl_df['I'])\n",
    "tissue_cell_mutation = cell_mutation[tissue_cl_indices, :]\n",
    "mutation_count = np.count_nonzero(tissue_cell_mutation == 1, axis=1)\n",
    "\n",
    "print('Median per cell line:', np.median(mutation_count))\n",
    "print('Mean per cell line:', np.mean(mutation_count))\n",
    "\n",
    "fig = create_bar_plot(mutation_count, 'Number of mutations', 'Number of cell lines')"
   ]
  },
  {
   "cell_type": "code",
   "execution_count": null,
   "metadata": {},
   "outputs": [],
   "source": [
    "mut_count_per_gene = cell_mutation.transpose()\n",
    "mutation_count_g = np.count_nonzero(mut_count_per_gene == 1, axis=1)\n",
    "print('Median per gene:', np.median(mutation_count_g))\n",
    "print('Mean per gene:', np.mean(mutation_count_g))"
   ]
  },
  {
   "cell_type": "code",
   "execution_count": null,
   "metadata": {},
   "outputs": [],
   "source": [
    "cell_mutation_r = np.loadtxt('../data/cell2mutation_random_326.txt', delimiter=',')\n",
    "mut_count_per_gene = cell_mutation_r.transpose()\n",
    "mutation_count_g = np.count_nonzero(mut_count_per_gene == 1, axis=1)\n",
    "print('Median per gene:', np.median(mutation_count_g))\n",
    "print('Mean per gene:', np.mean(mutation_count_g))"
   ]
  },
  {
   "cell_type": "code",
   "execution_count": null,
   "metadata": {},
   "outputs": [],
   "source": [
    "cell_mutation_mf = np.loadtxt('../data/cell2mutation_mf_326.txt', delimiter=',')\n",
    "mut_count_per_gene = cell_mutation_mf.transpose()\n",
    "mutation_count_g = np.count_nonzero(mut_count_per_gene == 1, axis=1)\n",
    "print('Median per gene:', np.median(mutation_count_g))\n",
    "print('Mean per gene:', np.mean(mutation_count_g))"
   ]
  },
  {
   "cell_type": "code",
   "execution_count": null,
   "metadata": {},
   "outputs": [],
   "source": [
    "# No. of mutations in cell-lines\n",
    "\n",
    "mutation_count = np.count_nonzero(cell_mutation_orig == 1, axis=1)\n",
    "print('Median per cell line:', np.median(mutation_count))\n",
    "print('Mean per cell line:', np.mean(mutation_count))\n",
    "\n",
    "fig = create_bar_plot(mutation_count, 'Number of mutations', 'Number of cell lines')"
   ]
  },
  {
   "cell_type": "code",
   "execution_count": null,
   "metadata": {},
   "outputs": [],
   "source": [
    "mut_count_per_gene = cell_mutation_orig.transpose()\n",
    "mutation_count_g = np.count_nonzero(mut_count_per_gene == 1, axis=1)\n",
    "print('Median per gene:', np.median(mutation_count_g))\n",
    "print('Mean per gene:', np.mean(mutation_count_g))"
   ]
  },
  {
   "cell_type": "code",
   "execution_count": null,
   "metadata": {},
   "outputs": [],
   "source": [
    "tissue = 'breast'\n",
    "tissue_cl_df = get_cell_lines_by_tissue_type(tissue, cell_annot_df, cell_lines_df)\n",
    "tissue_cl_indices = list(tissue_cl_df['I'])\n",
    "tissue_cell_mutation = cell_mutation_orig[tissue_cl_indices, :]\n",
    "mutation_count = np.count_nonzero(tissue_cell_mutation == 1, axis=1)\n",
    "\n",
    "print('Median per cell line:', np.median(mutation_count))\n",
    "print('Mean per cell line:', np.mean(mutation_count))\n",
    "\n",
    "fig = create_bar_plot(mutation_count, 'Number of mutations', 'Number of cell lines')"
   ]
  },
  {
   "cell_type": "code",
   "execution_count": null,
   "metadata": {},
   "outputs": [],
   "source": [
    "breast_cancer_cl = list(tissue_cl_df['C'])\n",
    "bc_test_df = train_df.query('C in @breast_cancer_cl')"
   ]
  },
  {
   "cell_type": "code",
   "execution_count": null,
   "metadata": {},
   "outputs": [],
   "source": [
    "bc_test_df.to_csv(\"../data/drugcell_breast_cancer_test.txt\", sep='\\t', header=False, index=False)"
   ]
  },
  {
   "cell_type": "code",
   "execution_count": null,
   "metadata": {},
   "outputs": [],
   "source": [
    "dg = load_ontology(ontology_file)\n",
    "\n",
    "root = [n for n in dg.nodes() if dg.in_degree(n) == 0][0]\n",
    "next_layer = list(dg.neighbors(root))\n",
    "term_visited = {}\n",
    "layers = []\n",
    "i = 0\n",
    "layers.append(1)\n",
    "term_visited[root] = 1\n",
    "while len(next_layer) > 0:\n",
    "    i += 1\n",
    "    layers.append(0)\n",
    "    next_layer, layers[i] = get_next_layer(dg, next_layer, term_visited)\n",
    "\n",
    "layers.reverse()"
   ]
  },
  {
   "cell_type": "code",
   "execution_count": null,
   "metadata": {},
   "outputs": [],
   "source": [
    "layers"
   ]
  },
  {
   "cell_type": "code",
   "execution_count": null,
   "metadata": {},
   "outputs": [],
   "source": [
    "fig = plt.figure(figsize=(9, 8))\n",
    "ax = fig.add_subplot(111)\n",
    "ax.plot(range(1, len(layers)+1), layers, alpha=0.7)\n",
    "ax.grid(False)\n",
    "ax.set_xlabel('Distance from bottom layer')\n",
    "ax.set_ylabel('Number of terms')\n",
    "plt.show()\n",
    "#fig.savefig('../plots/NeST_neuron_count.png')"
   ]
  },
  {
   "cell_type": "code",
   "execution_count": null,
   "metadata": {},
   "outputs": [],
   "source": [
    "fig = plt.figure(figsize=(8,8))\n",
    "venn2([genes_orig, genes], ['DrugCell Classic', 'Clinical trial'])\n",
    "plt.show()\n",
    "fig.savefig('../plots/DC_classic_clinical_trial_gene_overlap.png')"
   ]
  },
  {
   "cell_type": "code",
   "execution_count": null,
   "metadata": {},
   "outputs": [],
   "source": [
    "fig = plt.figure(figsize=(8,8))\n",
    "venn2([set(nest_gene_list), genes], ['NeST', 'Clinical trial'])\n",
    "plt.show()\n",
    "#fig.savefig('../plots/GO_clinical_trial_gene_overlap.png')"
   ]
  },
  {
   "cell_type": "code",
   "execution_count": null,
   "metadata": {},
   "outputs": [],
   "source": [
    "fig = plt.figure(figsize=(8,8))\n",
    "venn2([onco_kb_genes, genes], ['OncoKB', 'Clinical trial'])\n",
    "plt.show()\n",
    "#fig.savefig('../plots/GO_clinical_trial_gene_overlap.png')"
   ]
  },
  {
   "cell_type": "code",
   "execution_count": null,
   "metadata": {},
   "outputs": [],
   "source": [
    "non_overlapping_genes = [g for g in onco_kb_genes if g not in genes]\n",
    "non_overlapping_genes"
   ]
  },
  {
   "cell_type": "code",
   "execution_count": null,
   "metadata": {},
   "outputs": [],
   "source": [
    "fig = plt.figure(figsize=(8,8))\n",
    "venn2([set(nest_gene_list), onco_kb_genes], ['NeST', 'OncoKB'])\n",
    "plt.show()\n",
    "#fig.savefig('../plots/GO_clinical_trial_gene_overlap.png')"
   ]
  },
  {
   "cell_type": "code",
   "execution_count": null,
   "metadata": {},
   "outputs": [],
   "source": [
    "fig = plt.figure(figsize=(8,8))\n",
    "venn2([genes_orig, onco_kb_genes], ['GO hierarchy', 'OncoKB'])\n",
    "plt.show()\n",
    "#fig.savefig('../plots/GO_clinical_trial_gene_overlap.png')"
   ]
  },
  {
   "cell_type": "code",
   "execution_count": null,
   "metadata": {},
   "outputs": [],
   "source": [
    "fig = plt.figure(figsize=(8,8))\n",
    "venn2([genes_orig, genie_genes], ['DrugCell Classic', 'GENIE'])\n",
    "plt.show()\n",
    "fig.savefig('../plots/DC_classic_GENIE_gene_overlap.png')"
   ]
  },
  {
   "cell_type": "code",
   "execution_count": null,
   "metadata": {},
   "outputs": [],
   "source": [
    "fig = plt.figure(figsize=(8,8))\n",
    "venn2([genes, genie_genes], ['Clinical trial', 'GENIE'])\n",
    "plt.show()\n",
    "#fig.savefig('../plots/clinical_trial_GENIE_gene_overlap.png')"
   ]
  },
  {
   "cell_type": "code",
   "execution_count": null,
   "metadata": {},
   "outputs": [],
   "source": [
    "fig = plt.figure(figsize=(8,8))\n",
    "venn2([set(nest_gene_list), genie_genes], ['NeST', 'GENIE'])\n",
    "plt.show()\n",
    "#fig.savefig('../plots/GO_clinical_trial_gene_overlap.png')"
   ]
  },
  {
   "cell_type": "code",
   "execution_count": null,
   "metadata": {},
   "outputs": [],
   "source": [
    "fm_genes = list(gene_panels.query('`FM One` == 1')['Gene'])\n",
    "\n",
    "fig = plt.figure(figsize=(8,8))\n",
    "venn2([set(fm_genes), genie_genes], ['FM One', 'GENIE'])\n",
    "plt.show()"
   ]
  },
  {
   "cell_type": "code",
   "execution_count": null,
   "metadata": {},
   "outputs": [],
   "source": [
    "tempus_genes = list(gene_panels.query('`Tempus xT` == 1')['Gene'])\n",
    "\n",
    "fig = plt.figure(figsize=(8,8))\n",
    "venn2([set(tempus_genes), genie_genes], ['Tempus xT', 'GENIE'])\n",
    "plt.show()"
   ]
  },
  {
   "cell_type": "code",
   "execution_count": null,
   "metadata": {},
   "outputs": [],
   "source": [
    "fm_tempus_genes = list(gene_panels.query('`FM One` == 1 & `Tempus xT` == 1')['Gene'])\n",
    "\n",
    "fig = plt.figure(figsize=(8,8))\n",
    "venn2([set(fm_tempus_genes), genie_genes], ['FM one and Tempus xT', 'GENIE'])\n",
    "plt.show()"
   ]
  },
  {
   "cell_type": "code",
   "execution_count": null,
   "metadata": {},
   "outputs": [],
   "source": [
    "tempus_genes = list(gene_panels.query('`Tempus xT` == 1')['Gene'])\n",
    "fm_genes = list(gene_panels.query('`FM One` == 1')['Gene'])\n",
    "\n",
    "fig = plt.figure(figsize=(8,8))\n",
    "venn3([set(fm_genes), set(tempus_genes), genie_genes], ['FM One', 'Tempus xT', 'GENIE'])\n",
    "plt.show()"
   ]
  },
  {
   "cell_type": "code",
   "execution_count": null,
   "metadata": {},
   "outputs": [],
   "source": []
  }
 ],
 "metadata": {
  "kernelspec": {
   "display_name": "Python 3 (ipykernel)",
   "language": "python",
   "name": "python3"
  },
  "language_info": {
   "codemirror_mode": {
    "name": "ipython",
    "version": 3
   },
   "file_extension": ".py",
   "mimetype": "text/x-python",
   "name": "python",
   "nbconvert_exporter": "python",
   "pygments_lexer": "ipython3",
   "version": "3.7.10"
  }
 },
 "nbformat": 4,
 "nbformat_minor": 4
}
