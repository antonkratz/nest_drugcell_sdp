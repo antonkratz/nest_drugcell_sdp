{
 "cells": [
  {
   "cell_type": "code",
   "execution_count": 1,
   "id": "b20feee9-29d5-44aa-96cf-a0ac824115ee",
   "metadata": {},
   "outputs": [],
   "source": [
    "import pandas as pd\n",
    "import numpy as np\n",
    "from rdkit import Chem\n",
    "from rdkit.Chem import rdMolDescriptors"
   ]
  },
  {
   "cell_type": "code",
   "execution_count": 2,
   "id": "600e0440-8aed-4a81-9aae-2fc8c6da8e57",
   "metadata": {},
   "outputs": [],
   "source": [
    "drug_list = list(pd.read_csv(\"../data/drug2ind_cg.txt\", sep=\"\\t\", header=None, names=['I', 'D'])['D'])"
   ]
  },
  {
   "cell_type": "code",
   "execution_count": 3,
   "id": "a7eb8090-7a22-4bcb-9628-edfb25ca3771",
   "metadata": {},
   "outputs": [],
   "source": [
    "fp_size = 512\n",
    "\n",
    "fp_df = pd.DataFrame(columns=range(fp_size))\n",
    "\n",
    "for i, drug in enumerate(drug_list):\n",
    "    try:\n",
    "        mol = Chem.MolFromSmiles(drug)\n",
    "        fingerprint = rdMolDescriptors.GetMorganFingerprintAsBitVect(mol, radius=2, nBits=fp_size)\n",
    "        fp_df.loc[i] = list(fingerprint)\n",
    "    except:\n",
    "        print(drug, mol)\n",
    "\n",
    "fp_df.to_csv(\"../data/drug2fingerprint_cg.txt\", header=None, index=False)"
   ]
  },
  {
   "cell_type": "code",
   "execution_count": null,
   "id": "697a5387-55da-49a9-8963-c6ffb6a1bc9d",
   "metadata": {},
   "outputs": [],
   "source": []
  }
 ],
 "metadata": {
  "kernelspec": {
   "display_name": "Python 3 (ipykernel)",
   "language": "python",
   "name": "python3"
  },
  "language_info": {
   "codemirror_mode": {
    "name": "ipython",
    "version": 3
   },
   "file_extension": ".py",
   "mimetype": "text/x-python",
   "name": "python",
   "nbconvert_exporter": "python",
   "pygments_lexer": "ipython3",
   "version": "3.7.10"
  }
 },
 "nbformat": 4,
 "nbformat_minor": 5
}
