{
 "cells": [
  {
   "cell_type": "code",
   "execution_count": null,
   "metadata": {},
   "outputs": [],
   "source": [
    "import random as rd\n",
    "import pandas as pd\n",
    "import numpy as np\n",
    "from collections import Counter"
   ]
  },
  {
   "cell_type": "code",
   "execution_count": null,
   "metadata": {},
   "outputs": [],
   "source": [
    "ccle_map = pd.read_csv(\"../data/CCLE/ccle_maf.txt\", sep='\\t')\n",
    "\n",
    "cell_annot = pd.read_csv(\"../data/CCLE/cell_line_annotations.txt\", sep=\"\\t\")\n",
    "\n",
    "cell_index = pd.read_csv(\"../data/cell2ind.txt\", sep=\"\\t\", header=None, names=['I', 'C'])\n",
    "\n",
    "drug_index = pd.read_csv(\"../data/drug2ind.txt\", sep=\"\\t\", header=None, names=['I', 'D'])\n",
    "\n",
    "all_df = pd.read_csv(\"../data/drugcell_all.txt\", sep='\\t', header=None, names=['C', 'D', 'AUC'])\n",
    "\n",
    "gene_panels = pd.read_csv(\"../data/ClinicalGenePanels.txt\", sep='\\t')\n",
    "\n",
    "ctDNA_genes_df = pd.read_csv(\"../data/gene_list_ctDNA.txt\", sep=\"\\t\", header=None, names=['G'])\n",
    "\n",
    "nest_gene_list = []\n",
    "with open('../data/gene_list_NeST.txt', 'r') as file:\n",
    "    nest_gene_list = file.read().split()\n",
    "    \n",
    "clinical_trial_gene_list = []\n",
    "with open('../data/gene_list_clinical_trial.txt', 'r') as file:\n",
    "    clinical_trial_gene_list = file.read().split()\n",
    "    \n",
    "ddram_gene_list = []\n",
    "with open('../data/DDRAM/gene_list_DDRAM.txt', 'r') as file:\n",
    "    ddram_gene_list = file.read().split()"
   ]
  },
  {
   "cell_type": "code",
   "execution_count": null,
   "metadata": {},
   "outputs": [],
   "source": [
    "#Create genotype (cell2mutation) data\n",
    "\n",
    "def create_genotype_data(gene_list, cell_list, cell_gene_map):\n",
    "\n",
    "    cell_gene_df = pd.DataFrame(columns=gene_list)\n",
    "\n",
    "    i = 0\n",
    "    for cell in cell_list:\n",
    "        ko_list = []\n",
    "        mut_list = cell_gene_map[cell]\n",
    "        for gene in filtered_gene_list:\n",
    "            if gene in mut_list:\n",
    "                ko_list.append(1)\n",
    "            else:\n",
    "                ko_list.append(0)\n",
    "        cell_gene_df.loc[i] = ko_list\n",
    "        i += 1\n",
    "        \n",
    "    return cell_gene_df"
   ]
  },
  {
   "cell_type": "code",
   "execution_count": null,
   "metadata": {},
   "outputs": [],
   "source": [
    "# creating clinical trial gene list\n",
    "\n",
    "#ctDNA_genes = list(ctDNA_genes_df['G'])\n",
    "#fm_tempus_genes = list(gene_panels.query('`FM One` == 1 & `Tempus xT` == 1')['Gene'])\n",
    "#clinical_trial_genes = []\n",
    "#clinical_trial_genes.extend(ctDNA_genes)\n",
    "#clinical_trial_genes.extend(fm_tempus_genes)\n",
    "#clinical_trial_genes = sorted(set(clinical_trial_genes))"
   ]
  },
  {
   "cell_type": "code",
   "execution_count": null,
   "metadata": {},
   "outputs": [],
   "source": [
    "#Remove cell lines from DrugCell data not present in CCLE\n",
    "\n",
    "cell_id_map = dict()\n",
    "cell_list = list(cell_index['C'])\n",
    "\n",
    "for _,row in cell_annot.iterrows():\n",
    "    if row['CCLE_ID'] in cell_list:\n",
    "        cell_id_map[row['CCLE_ID']] = row['depMapID']\n"
   ]
  },
  {
   "cell_type": "code",
   "execution_count": null,
   "metadata": {},
   "outputs": [],
   "source": [
    "#Get all valid cell-gene_list pairs in form of dict {cell : genes[]}\n",
    "\n",
    "mut_list = ['Missense_Mutation', 'Nonsense_Mutation', 'Frame_Shift_Del', 'Frame_Shift_Ins', \n",
    "            'Splice_Site', 'Splice_Region', 'In_Frame_Del', 'In_Frame_Ins', 'Nonstop_Mutation']\n",
    "\n",
    "filtered_ccle_map_df = ccle_map.query('Broad_ID in @cell_id_map.values() and Variant_Classification in @mut_list and Hugo_Symbol in @nest_gene_list')\n",
    "\n",
    "cell_gene_map = dict()\n",
    "for cell in cell_list:\n",
    "    broad_id = cell_id_map[cell]\n",
    "    cell_gene_map[cell] = list(filtered_ccle_map_df.query('Broad_ID == @broad_id')['Hugo_Symbol'])"
   ]
  },
  {
   "cell_type": "code",
   "execution_count": null,
   "metadata": {},
   "outputs": [],
   "source": [
    "n = len(clinical_trial_gene_list)"
   ]
  },
  {
   "cell_type": "code",
   "execution_count": null,
   "metadata": {},
   "outputs": [],
   "source": [
    "filtered_gene_list = clinical_trial_gene_list\n",
    "\n",
    "gene2ind_file = \"../data/gene2ind_clinical_trial.txt\"\n",
    "cell2mut_file = \"../data/cell2mutation_clinical_trial.txt\""
   ]
  },
  {
   "cell_type": "code",
   "execution_count": null,
   "metadata": {},
   "outputs": [],
   "source": [
    "#Most frequently mutated genes\n",
    "\n",
    "gene_mutation_freq = Counter(list(filtered_ccle_map_df['Hugo_Symbol']))\n",
    "filtered_gene_list = sorted(tup[0] for tup in gene_mutation_freq.most_common(n))\n",
    "\n",
    "gene2ind_file = \"../data/gene2ind_mf_\" + str(n) + \".txt\"\n",
    "cell2mut_file = \"../data/cell2mutation_mf_\" + str(n) + \".txt\""
   ]
  },
  {
   "cell_type": "code",
   "execution_count": null,
   "metadata": {},
   "outputs": [],
   "source": [
    "#Random genes\n",
    "\n",
    "filtered_gene_list = sorted(rd.sample(list(filtered_ccle_map_df['Hugo_Symbol'].unique()), n))\n",
    "\n",
    "gene2ind_file = \"../data/gene2ind_random_\" + str(n) + \".txt\"\n",
    "cell2mut_file = \"../data/cell2mutation_random_\" + str(n) + \".txt\""
   ]
  },
  {
   "cell_type": "code",
   "execution_count": null,
   "metadata": {},
   "outputs": [],
   "source": [
    "gene_index = pd.DataFrame(filtered_gene_list, columns=(['G']))\n",
    "gene_index.to_csv(gene2ind_file, sep='\\t', header=False, index=True)\n",
    "\n",
    "cell_gene_df = create_genotype_data(filtered_gene_list, cell_list, cell_gene_map)\n",
    "cell_gene_df.to_csv(cell2mut_file, header=False, index=False)"
   ]
  },
  {
   "cell_type": "code",
   "execution_count": null,
   "metadata": {},
   "outputs": [],
   "source": [
    "cell_gene_df"
   ]
  },
  {
   "cell_type": "code",
   "execution_count": null,
   "metadata": {},
   "outputs": [],
   "source": [
    "#Generate DDRAM data\n",
    "\n",
    "mut_list = ['Missense_Mutation', 'Nonsense_Mutation', 'Frame_Shift_Del', 'Frame_Shift_Ins', \n",
    "            'Splice_Site', 'Splice_Region', 'In_Frame_Del', 'In_Frame_Ins', 'Nonstop_Mutation']\n",
    "\n",
    "filtered_ccle_map_df = ccle_map.query('Broad_ID in @cell_id_map.values() and Variant_Classification in @mut_list and Hugo_Symbol in @ddram_gene_list')\n",
    "\n",
    "cell_gene_map = dict()\n",
    "for cell in cell_list:\n",
    "    broad_id = cell_id_map[cell]\n",
    "    cell_gene_map[cell] = list(filtered_ccle_map_df.query('Broad_ID == @broad_id')['Hugo_Symbol'])"
   ]
  },
  {
   "cell_type": "code",
   "execution_count": null,
   "metadata": {},
   "outputs": [],
   "source": [
    "filtered_gene_list = ddram_gene_list\n",
    "\n",
    "gene2ind_file = \"../data/gene2ind_ddram.txt\"\n",
    "cell2mut_file = \"../data/cell2mutation_ddram.txt\"\n",
    "\n",
    "gene_index = pd.DataFrame(filtered_gene_list, columns=(['G']))\n",
    "gene_index.to_csv(gene2ind_file, sep='\\t', header=False, index=True)\n",
    "\n",
    "cell_gene_df = create_genotype_data(filtered_gene_list, cell_list, cell_gene_map)\n",
    "cell_gene_df.to_csv(cell2mut_file, header=False, index=False)\n",
    "\n",
    "cell_gene_df"
   ]
  },
  {
   "cell_type": "code",
   "execution_count": null,
   "metadata": {},
   "outputs": [],
   "source": [
    "onco_kb_data = pd.read_csv(\"../data/ONCO_KB/oncokb.tsv\", sep='\\t')\n",
    "drug_names_df = pd.read_csv(\"../data/compound_names.txt\", sep='\\t')"
   ]
  },
  {
   "cell_type": "code",
   "execution_count": null,
   "metadata": {},
   "outputs": [],
   "source": [
    "onco_kb_drugs = set(onco_kb_data['Drugs'])\n",
    "drug_name_map = dict(zip(drug_names_df.Name, drug_names_df.SMILE))"
   ]
  },
  {
   "cell_type": "code",
   "execution_count": null,
   "metadata": {},
   "outputs": [],
   "source": [
    "onco_kb_drugs_smile = []\n",
    "for d in onco_kb_drugs:\n",
    "    if d in drug_name_map:\n",
    "        onco_kb_drugs_smile.append(drug_name_map[d])\n",
    "\n",
    "onco_kb_all_df = all_df.query(\"D in @onco_kb_drugs_smile\")"
   ]
  },
  {
   "cell_type": "code",
   "execution_count": null,
   "metadata": {},
   "outputs": [],
   "source": [
    "train_df = onco_kb_all_df.sample(frac=0.8)\n",
    "test_df = onco_kb_all_df.drop(train_df.index)"
   ]
  },
  {
   "cell_type": "code",
   "execution_count": null,
   "metadata": {},
   "outputs": [],
   "source": [
    "onco_kb_all_df.to_csv(\"../data/drugcell_oncokb_all.txt\", sep='\\t', header=False, index=False)\n",
    "test_df.to_csv(\"../data/drugcell_oncokb_test.txt\", sep='\\t', header=False, index=False)\n",
    "train_df.to_csv(\"../data/drugcell_oncokb_train.txt\", sep='\\t', header=False, index=False)"
   ]
  },
  {
   "cell_type": "code",
   "execution_count": null,
   "metadata": {},
   "outputs": [],
   "source": [
    "onco_kb_drug_df = drug_index.query(\"D in @onco_kb_drugs_smile\")"
   ]
  },
  {
   "cell_type": "code",
   "execution_count": null,
   "metadata": {},
   "outputs": [],
   "source": [
    "onco_kb_drug_df.to_csv(\"../data/drug2ind_oncokb.txt\", sep='\\t', header=False, index=False)"
   ]
  }
 ],
 "metadata": {
  "kernelspec": {
   "display_name": "Python 3",
   "language": "python",
   "name": "python3"
  },
  "language_info": {
   "codemirror_mode": {
    "name": "ipython",
    "version": 3
   },
   "file_extension": ".py",
   "mimetype": "text/x-python",
   "name": "python",
   "nbconvert_exporter": "python",
   "pygments_lexer": "ipython3",
   "version": "3.7.6"
  }
 },
 "nbformat": 4,
 "nbformat_minor": 4
}
