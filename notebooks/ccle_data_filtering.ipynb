{
 "cells": [
  {
   "cell_type": "code",
   "execution_count": null,
   "metadata": {},
   "outputs": [],
   "source": [
    "import random as rd\n",
    "import pandas as pd\n",
    "import numpy as np\n",
    "from collections import Counter"
   ]
  },
  {
   "cell_type": "code",
   "execution_count": null,
   "metadata": {},
   "outputs": [],
   "source": [
    "#Create genotype (cell2mutation) data\n",
    "\n",
    "def create_genotype_data(gene_list, cell_list, cell_gene_map):\n",
    "\n",
    "    cell_gene_df = pd.DataFrame(columns=gene_list)\n",
    "\n",
    "    i = 0\n",
    "    for cell in cell_list:\n",
    "        ko_list = []\n",
    "        mut_list = cell_gene_map[cell]\n",
    "        for gene in gene_list:\n",
    "            if gene in mut_list:\n",
    "                ko_list.append(1)\n",
    "            else:\n",
    "                ko_list.append(0)\n",
    "        cell_gene_df.loc[i] = ko_list\n",
    "        i += 1\n",
    "        \n",
    "    return cell_gene_df"
   ]
  },
  {
   "cell_type": "code",
   "execution_count": null,
   "metadata": {},
   "outputs": [],
   "source": [
    "# creating clinical trial gene list\n",
    "\n",
    "def create_clinical_trial_gene_list():\n",
    "    ctDNA_genes = list(ctDNA_genes_df['G'])\n",
    "    print(len(ctDNA_genes))\n",
    "\n",
    "    fm_tempus_genes = list(gene_panels.query('`FM One` == 1 or `Tempus xT` == 1')['Gene'])\n",
    "    print(len(fm_tempus_genes))\n",
    "\n",
    "    genie_oncokb_genes = list(genie_oncokb_genes_df['G'])\n",
    "    print(len(genie_oncokb_genes))\n",
    "\n",
    "    clinical_trial_genes = []\n",
    "    clinical_trial_genes.extend(ctDNA_genes)\n",
    "    clinical_trial_genes.extend(fm_tempus_genes)\n",
    "    clinical_trial_genes.extend(genie_oncokb_genes)\n",
    "    clinical_trial_genes = sorted(set(clinical_trial_genes))\n",
    "    print(len(clinical_trial_genes))\n",
    "\n",
    "    return sorted(set(clinical_trial_genes) & set(nest_gene_list))"
   ]
  },
  {
   "cell_type": "code",
   "execution_count": null,
   "metadata": {},
   "outputs": [],
   "source": [
    "ccle_map = pd.read_csv(\"../data/CCLE/CCLE_mutations.csv\")\n",
    "\n",
    "ccle_sample_info = pd.read_csv(\"../data/CCLE/sample_info.csv\")\n",
    "\n",
    "gene_panels = pd.read_csv(\"../data/ClinicalGenePanels.txt\", sep='\\t')\n",
    "\n",
    "ctDNA_genes_df = pd.read_csv(\"../data/gene_list_ctDNA.txt\", sep=\"\\t\", header=None, names=['G'])\n",
    "\n",
    "genie_oncokb_genes_df = pd.read_csv(\"../data/GENIE/GENIE_gene_list.txt\", sep=\"\\t\", header=None, names=['G'])\n",
    "\n",
    "nest_gene_list = []\n",
    "with open('../data/NeST/gene_list_NeST.txt', 'r') as file:\n",
    "    nest_gene_list = file.read().split()\n",
    "\n",
    "cell_index = pd.read_csv(\"../data/cell2ind_cg.txt\", sep=\"\\t\", header=None, names=['I', 'C'], dtype={'I':int, 'C':str})\n",
    "    \n",
    "gene_list_cg = list(pd.read_csv(\"../data/gene2ind_cg.txt\", sep=\"\\t\", header=None, names=['I', 'G'])['G'])\n"
   ]
  },
  {
   "cell_type": "code",
   "execution_count": null,
   "metadata": {},
   "outputs": [],
   "source": [
    "#Remove cell lines from DrugCell data not present in CCLE\n",
    "\n",
    "cell_id_map = dict()\n",
    "cell_list = list(cell_index['C'])\n",
    "\n",
    "for _,row in ccle_sample_info.iterrows():\n",
    "    if row['CCLE_Name'] in cell_list:\n",
    "        cell_id_map[row['CCLE_Name']] = row['DepMap_ID']\n",
    "\n",
    "cell_list = sorted(list(cell_id_map.keys()))"
   ]
  },
  {
   "cell_type": "code",
   "execution_count": null,
   "metadata": {},
   "outputs": [],
   "source": [
    "print(len(cell_list))"
   ]
  },
  {
   "cell_type": "code",
   "execution_count": null,
   "metadata": {},
   "outputs": [],
   "source": [
    "#Get all valid cell-gene_list pairs in form of dict {cell : genes[]}\n",
    "\n",
    "#For most mutated and random lists change the query to have nest_gene_list\n",
    "\n",
    "mut_list = ['Missense_Mutation', 'Nonsense_Mutation', 'Frame_Shift_Del', 'Frame_Shift_Ins', \n",
    "            'Splice_Site', 'Splice_Region', 'In_Frame_Del', 'In_Frame_Ins', 'Nonstop_Mutation']\n",
    "\n",
    "filtered_ccle_map_df = ccle_map.query('DepMap_ID in @cell_id_map.values() and Variant_Classification in @mut_list and Hugo_Symbol in @nest_gene_list')\n",
    "\n",
    "cell_gene_map = dict()\n",
    "for cell in cell_list:\n",
    "    depmap_id = cell_id_map[cell]\n",
    "    cell_gene_map[cell] = list(filtered_ccle_map_df.query('DepMap_ID == @depmap_id')['Hugo_Symbol'])"
   ]
  },
  {
   "cell_type": "code",
   "execution_count": null,
   "metadata": {},
   "outputs": [],
   "source": [
    "# Clinical trial genes\n",
    "\n",
    "filtered_gene_list = gene_list_cg\n",
    "\n",
    "gene2ind_file = \"../data/gene2ind_nci.txt\"\n",
    "cell2ind_file = \"../data/cell2ind_nci.txt\"\n",
    "cell2mut_file = \"../data/cell2mutation_nci.txt\""
   ]
  },
  {
   "cell_type": "code",
   "execution_count": null,
   "metadata": {},
   "outputs": [],
   "source": [
    "#Most frequently mutated genes\n",
    "\n",
    "n = len(gene_list_cg)\n",
    "print(n)\n",
    "\n",
    "gene_mutation_freq = Counter(list(filtered_ccle_map_df['Hugo_Symbol']))\n",
    "filtered_gene_list = sorted(tup[0] for tup in gene_mutation_freq.most_common(n))\n",
    "\n",
    "gene2ind_file = \"../data/gene2ind_mf_\" + str(n) + \".txt\"\n",
    "cell2mut_file = \"../data/cell2mutation_mf_\" + str(n) + \".txt\""
   ]
  },
  {
   "cell_type": "code",
   "execution_count": null,
   "metadata": {},
   "outputs": [],
   "source": [
    "#Random genes\n",
    "\n",
    "n = len(gene_list_cg)\n",
    "print(n)\n",
    "\n",
    "filtered_gene_list = sorted(rd.sample(list(filtered_ccle_map_df['Hugo_Symbol'].unique()), n))\n",
    "\n",
    "gene2ind_file = \"../data/gene2ind_random_\" + str(n) + \"_e.txt\"\n",
    "cell2mut_file = \"../data/cell2mutation_random_\" + str(n) + \"_e.txt\""
   ]
  },
  {
   "cell_type": "code",
   "execution_count": null,
   "metadata": {},
   "outputs": [],
   "source": [
    "#Saving both gene2ind and cell2mut files\n",
    "\n",
    "gene_index = pd.DataFrame(filtered_gene_list, columns=(['G']))\n",
    "gene_index.to_csv(gene2ind_file, sep='\\t', header=False, index=True)\n",
    "\n",
    "#cell_index = pd.DataFrame(cell_list, columns=(['C']))\n",
    "#cell_index.to_csv(cell2ind_file, sep='\\t', header=False, index=True)\n",
    "\n",
    "cell_gene_df = create_genotype_data(filtered_gene_list, cell_list, cell_gene_map)\n",
    "cell_gene_df.to_csv(cell2mut_file, header=False, index=False)"
   ]
  },
  {
   "cell_type": "code",
   "execution_count": null,
   "metadata": {},
   "outputs": [],
   "source": [
    "cell_gene_df"
   ]
  },
  {
   "cell_type": "code",
   "execution_count": null,
   "metadata": {},
   "outputs": [],
   "source": []
  }
 ],
 "metadata": {
  "kernelspec": {
   "display_name": "Python 3 (ipykernel)",
   "language": "python",
   "name": "python3"
  },
  "language_info": {
   "codemirror_mode": {
    "name": "ipython",
    "version": 3
   },
   "file_extension": ".py",
   "mimetype": "text/x-python",
   "name": "python",
   "nbconvert_exporter": "python",
   "pygments_lexer": "ipython3",
   "version": "3.7.10"
  }
 },
 "nbformat": 4,
 "nbformat_minor": 4
}
