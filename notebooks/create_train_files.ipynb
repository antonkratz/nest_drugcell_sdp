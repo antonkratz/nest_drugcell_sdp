{
 "cells": [
  {
   "cell_type": "code",
   "execution_count": 1,
   "id": "bf9c1d4d-c6bc-4fc2-b76e-2139f68b4e7d",
   "metadata": {},
   "outputs": [],
   "source": [
    "import pandas as pd\n",
    "import numpy as np"
   ]
  },
  {
   "cell_type": "code",
   "execution_count": 2,
   "id": "dac13022-54f2-401a-8f45-f6a4d17fdd10",
   "metadata": {},
   "outputs": [],
   "source": [
    "ctrp1_auc = pd.read_csv(\"../data/CTRP/ctrp1_auc.tab\", sep=\"\\t\")[['ccle_name', 'isomeric_smiles', 'auc']]\n",
    "ctrp2_auc = pd.read_csv(\"../data/CTRP/ctrp2_auc.tab\", sep=\"\\t\")[['ccle_name', 'isomeric_smiles', 'auc']]\n",
    "\n",
    "gdsc1_auc = pd.read_csv(\"../data/GDSC/gdsc1_auc.tab\", sep=\"\\t\")[['ccle_name', 'isomeric_smiles', 'auc']]\n",
    "gdsc2_auc = pd.read_csv(\"../data/GDSC/gdsc2_auc.tab\", sep=\"\\t\")[['ccle_name', 'isomeric_smiles', 'auc']]\n",
    "\n",
    "cell_list = list(pd.read_csv(\"../data/cell2ind_cg.txt\", sep=\"\\t\", header=None, names=['I', 'C'])['C'])"
   ]
  },
  {
   "cell_type": "code",
   "execution_count": 3,
   "id": "13f55e75-2be3-45ea-911f-35dbf4d06712",
   "metadata": {},
   "outputs": [],
   "source": [
    "filtered_df = [ctrp1_auc.query(\"ccle_name in @cell_list\"),\n",
    "ctrp2_auc.query(\"ccle_name in @cell_list\"),\n",
    "gdsc1_auc.query(\"ccle_name in @cell_list\"),\n",
    "gdsc2_auc.query(\"ccle_name in @cell_list\")]\n",
    "\n",
    "drugcell_all_cg_df = pd.concat(filtered_df)\n",
    "drugcell_all_cg_df = drugcell_all_cg_df.sample(frac=1).reset_index(drop=True)"
   ]
  },
  {
   "cell_type": "code",
   "execution_count": 4,
   "id": "31846277-cbf5-46d3-882e-b25ae6200242",
   "metadata": {},
   "outputs": [
    {
     "name": "stdout",
     "output_type": "stream",
     "text": [
      "1258\n",
      "888\n"
     ]
    }
   ],
   "source": [
    "print(len(set(drugcell_all_cg_df['ccle_name'])))\n",
    "print(len(set(drugcell_all_cg_df['isomeric_smiles'])))"
   ]
  },
  {
   "cell_type": "code",
   "execution_count": 5,
   "id": "a6adb093-c289-43e9-b9cd-0ae9731c9049",
   "metadata": {},
   "outputs": [],
   "source": [
    "drugcell_all_cg_df.to_csv(\"../data/drugcell_all_cg.txt\", sep=\"\\t\", header=None, index=None)"
   ]
  }
 ],
 "metadata": {
  "kernelspec": {
   "display_name": "Python 3 (ipykernel)",
   "language": "python",
   "name": "python3"
  },
  "language_info": {
   "codemirror_mode": {
    "name": "ipython",
    "version": 3
   },
   "file_extension": ".py",
   "mimetype": "text/x-python",
   "name": "python",
   "nbconvert_exporter": "python",
   "pygments_lexer": "ipython3",
   "version": "3.7.10"
  }
 },
 "nbformat": 4,
 "nbformat_minor": 5
}
