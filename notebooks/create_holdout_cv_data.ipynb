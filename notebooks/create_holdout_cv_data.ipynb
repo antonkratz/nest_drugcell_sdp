{
 "cells": [
  {
   "cell_type": "code",
   "execution_count": null,
   "id": "3e81d55f-d100-45af-b5f0-b733f8dc8c8e",
   "metadata": {},
   "outputs": [],
   "source": [
    "import math\n",
    "import pandas as pd\n",
    "import numpy as np\n",
    "import random as rd\n",
    "import matplotlib.pyplot as plt"
   ]
  },
  {
   "cell_type": "code",
   "execution_count": null,
   "id": "ad57f13f-a5ad-4156-ad2b-2f34a6d1de34",
   "metadata": {},
   "outputs": [],
   "source": [
    "%matplotlib inline\n",
    "\n",
    "SMALL_SIZE = 12\n",
    "MEDIUM_SIZE = 16\n",
    "BIGGER_SIZE = 22\n",
    "\n",
    "plt.rc('font', size=SMALL_SIZE)          # controls default text sizes\n",
    "plt.rc('axes', titlesize=SMALL_SIZE)     # fontsize of the axes title\n",
    "plt.rc('axes', labelsize=MEDIUM_SIZE)    # fontsize of the x and y labels\n",
    "plt.rc('xtick', labelsize=SMALL_SIZE)    # fontsize of the tick labels\n",
    "plt.rc('ytick', labelsize=SMALL_SIZE)    # fontsize of the tick labels\n",
    "plt.rc('legend', fontsize=SMALL_SIZE)    # legend fontsize\n",
    "plt.rc('figure', titlesize=BIGGER_SIZE)  # fontsize of the figure title"
   ]
  },
  {
   "cell_type": "code",
   "execution_count": null,
   "id": "b7219678-6884-4ba2-a412-ba2c5e9b96c5",
   "metadata": {},
   "outputs": [],
   "source": [
    "def create_bar_plot(data, x_title, y_title):\n",
    "    fig = plt.figure(figsize=(9, 8))\n",
    "    ax = fig.add_subplot(111)\n",
    "    ax.hist(x=data, bins='auto', alpha=0.7, rwidth=0.85)\n",
    "    ax.grid(False)\n",
    "    ax.set_xlabel(x_title)\n",
    "    ax.set_ylabel(y_title)\n",
    "    plt.show()\n",
    "    return fig"
   ]
  },
  {
   "cell_type": "code",
   "execution_count": null,
   "id": "cbf28834-5c9d-4985-b788-fe3a49f3d36d",
   "metadata": {},
   "outputs": [],
   "source": [
    "#Separating data for each drug/cell\n",
    "\n",
    "def get_pos_map(obj_list, test_df, col):\n",
    "    pos_map = {obj:[] for obj in obj_list}\n",
    "    for i, row in test_df.iterrows():\n",
    "        pos_map[row[col]].append(i)\n",
    "    return pos_map"
   ]
  },
  {
   "cell_type": "code",
   "execution_count": null,
   "id": "272512f8-e4db-4086-b0fe-ee1b27e4b37d",
   "metadata": {},
   "outputs": [],
   "source": [
    "#Arrange the obj_list in the descending order of variance\n",
    "\n",
    "def sort_var(obj_list, var_list):\n",
    "    var_map = {}\n",
    "    for i, obj in enumerate(obj_list):\n",
    "        var_map[obj] = var_list[i]\n",
    "    return {obj:var for obj,var in sorted(var_map.items(), key=lambda item:item[1], reverse=True)}"
   ]
  },
  {
   "cell_type": "code",
   "execution_count": null,
   "id": "1eb8c1e1-de28-41f3-9564-99e61a92f0d5",
   "metadata": {},
   "outputs": [],
   "source": [
    "def calc_stddev(obj_list, train_df, col):\n",
    "    var_list = [0.0] * len(obj_list)\n",
    "    pos_map = get_pos_map(obj_list, train_df, col)\n",
    "    for i, obj in enumerate(obj_list):\n",
    "        train_vals = np.take(train_df['auc'], pos_map[obj])\n",
    "        var_list[i] = np.std(train_vals)\n",
    "    return sort_var(obj_list, var_list)"
   ]
  },
  {
   "cell_type": "code",
   "execution_count": null,
   "id": "2bc75a08-e091-4c00-bbb0-a7008760f839",
   "metadata": {},
   "outputs": [],
   "source": [
    "def filter_data(train_df, obj_list, col, threshold):\n",
    "    \n",
    "    stddev_map = calc_stddev(obj_list, train_df, col)\n",
    "      \n",
    "    filtered_list = []\n",
    "    for k, obj in enumerate(stddev_map.keys()):\n",
    "        if stddev_map[obj] < threshold:\n",
    "            continue\n",
    "        filtered_list.append(obj)\n",
    "\n",
    "    if col == 'smiles':\n",
    "        filtered_train_df = train_df.query(\"smiles in @filtered_list\")\n",
    "    else:\n",
    "        filtered_train_df = train_df.query(\"cell_line in @filtered_list\")\n",
    "    return filtered_train_df"
   ]
  },
  {
   "cell_type": "code",
   "execution_count": null,
   "id": "1b91cc99-95d5-4c14-8c4b-905f4ec45776",
   "metadata": {},
   "outputs": [],
   "source": [
    "def create_per_drug_data(train_df, drug_name_map):\n",
    "    drugs = set(train_df['smiles'])\n",
    "    for drug in drugs:\n",
    "        drug_name = drug_name_map[drug]\n",
    "        drug_train_df = train_df.query(\"smiles == @drug\")\n",
    "        drug_train_df.to_csv(\"../data/training_files/train_gdsc2_\" + drug_name + \".txt\", sep=\"\\t\", header=False, index=False)"
   ]
  },
  {
   "cell_type": "code",
   "execution_count": null,
   "id": "e8fb9e34-bd79-4f12-b327-169d051acb64",
   "metadata": {},
   "outputs": [],
   "source": [
    "dataset = \"gdsc2\"\n",
    "\n",
    "cell_lines = list(pd.read_csv(\"../data/cell2ind_\" + dataset + \".txt\", sep=\"\\t\", header=None, names=['I', 'C'])['C'])\n",
    "\n",
    "drug_list = list(pd.read_csv(\"../data/drug2ind_\" + dataset + \"_all.txt\", sep=\"\\t\", header=None, names=['I', 'D'])['D'])\n",
    "\n",
    "all_df = pd.read_csv(\"../data/train_\" + dataset + \".txt\", sep=\"\\t\", header=None, names=['cell_line', 'smiles', 'auc'])\n",
    "\n",
    "drug_info = pd.read_csv(\"../data/master_druglist_smiles_final.csv\")[['name', 'isomeric_smiles']]\n",
    "drug_smiles_map = dict(zip(drug_info.isomeric_smiles, drug_info.name))\n",
    "drug_name_map = dict(zip(drug_info.name, drug_info.isomeric_smiles))\n",
    "\n",
    "#cell_line_info_df = pd.read_csv(\"../data/CCLE/sample_info.csv\", sep=\",\")[[\"CCLE_Name\", \"primary_disease\"]]"
   ]
  },
  {
   "cell_type": "code",
   "execution_count": null,
   "id": "f14824c3-8072-4ab0-afbd-a415c908ce7f",
   "metadata": {},
   "outputs": [],
   "source": [
    "filtered_train_df = filter_data(all_df, drug_list, 'smiles', 0.15)"
   ]
  },
  {
   "cell_type": "code",
   "execution_count": null,
   "id": "0a2a2706-4d2b-4273-8ade-84594d568924",
   "metadata": {},
   "outputs": [],
   "source": [
    "stddev_map = calc_stddev(drug_list, filtered_train_df, 'smiles')\n",
    "gdsc2_drug_hist = create_bar_plot(stddev_map.values(), 'Std Dev', '# of Drugs')"
   ]
  },
  {
   "cell_type": "code",
   "execution_count": null,
   "id": "069aa91a-ac5c-49b9-98ee-d8ac56b462f3",
   "metadata": {},
   "outputs": [],
   "source": [
    "create_per_drug_data(filtered_train_df, drug_smiles_map)"
   ]
  },
  {
   "cell_type": "code",
   "execution_count": null,
   "id": "8650a822-8303-432c-92bc-83e5f7ac8034",
   "metadata": {},
   "outputs": [],
   "source": []
  }
 ],
 "metadata": {
  "kernelspec": {
   "display_name": "Python 3 (ipykernel)",
   "language": "python",
   "name": "python3"
  },
  "language_info": {
   "codemirror_mode": {
    "name": "ipython",
    "version": 3
   },
   "file_extension": ".py",
   "mimetype": "text/x-python",
   "name": "python",
   "nbconvert_exporter": "python",
   "pygments_lexer": "ipython3",
   "version": "3.7.10"
  }
 },
 "nbformat": 4,
 "nbformat_minor": 5
}
