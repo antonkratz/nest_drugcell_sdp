{
 "cells": [
  {
   "cell_type": "code",
   "execution_count": 1,
   "id": "3e81d55f-d100-45af-b5f0-b733f8dc8c8e",
   "metadata": {},
   "outputs": [],
   "source": [
    "import math\n",
    "import pandas as pd\n",
    "import numpy as np\n",
    "import random as rd\n",
    "import matplotlib.pyplot as plt"
   ]
  },
  {
   "cell_type": "code",
   "execution_count": 2,
   "id": "ad57f13f-a5ad-4156-ad2b-2f34a6d1de34",
   "metadata": {},
   "outputs": [],
   "source": [
    "%matplotlib inline\n",
    "\n",
    "SMALL_SIZE = 12\n",
    "MEDIUM_SIZE = 16\n",
    "BIGGER_SIZE = 22\n",
    "\n",
    "plt.rc('font', size=SMALL_SIZE)          # controls default text sizes\n",
    "plt.rc('axes', titlesize=SMALL_SIZE)     # fontsize of the axes title\n",
    "plt.rc('axes', labelsize=MEDIUM_SIZE)    # fontsize of the x and y labels\n",
    "plt.rc('xtick', labelsize=SMALL_SIZE)    # fontsize of the tick labels\n",
    "plt.rc('ytick', labelsize=SMALL_SIZE)    # fontsize of the tick labels\n",
    "plt.rc('legend', fontsize=SMALL_SIZE)    # legend fontsize\n",
    "plt.rc('figure', titlesize=BIGGER_SIZE)  # fontsize of the figure title"
   ]
  },
  {
   "cell_type": "code",
   "execution_count": 3,
   "id": "b7219678-6884-4ba2-a412-ba2c5e9b96c5",
   "metadata": {},
   "outputs": [],
   "source": [
    "def create_bar_plot(data, x_title, y_title):\n",
    "    fig = plt.figure(figsize=(9, 8))\n",
    "    ax = fig.add_subplot(111)\n",
    "    ax.hist(x=data, bins='auto', alpha=0.7, rwidth=0.85)\n",
    "    ax.grid(False)\n",
    "    ax.set_xlabel(x_title)\n",
    "    ax.set_ylabel(y_title)\n",
    "    plt.show()\n",
    "    return fig"
   ]
  },
  {
   "cell_type": "code",
   "execution_count": 4,
   "id": "cbf28834-5c9d-4985-b788-fe3a49f3d36d",
   "metadata": {},
   "outputs": [],
   "source": [
    "#Separating data for each drug/cell\n",
    "\n",
    "def get_pos_map(obj_list, test_df, col):\n",
    "    pos_map = {obj:[] for obj in obj_list}\n",
    "    for i, row in test_df.iterrows():\n",
    "        pos_map[row[col]].append(i)\n",
    "    return pos_map"
   ]
  },
  {
   "cell_type": "code",
   "execution_count": 5,
   "id": "272512f8-e4db-4086-b0fe-ee1b27e4b37d",
   "metadata": {},
   "outputs": [],
   "source": [
    "#Arrange the obj_list in the descending order of variance\n",
    "\n",
    "def sort_var(obj_list, var_list):\n",
    "    var_map = {}\n",
    "    for i, obj in enumerate(obj_list):\n",
    "        var_map[obj] = var_list[i]\n",
    "    return {obj:var for obj,var in sorted(var_map.items(), key=lambda item:item[1], reverse=True)}"
   ]
  },
  {
   "cell_type": "code",
   "execution_count": 6,
   "id": "1eb8c1e1-de28-41f3-9564-99e61a92f0d5",
   "metadata": {},
   "outputs": [],
   "source": [
    "def calc_stddev(obj_list, train_df, col):\n",
    "    var_list = [0.0] * len(obj_list)\n",
    "    pos_map = get_pos_map(obj_list, train_df, col)\n",
    "    for i, obj in enumerate(obj_list):\n",
    "        train_vals = np.take(train_df['auc'], pos_map[obj])\n",
    "        var_list[i] = np.std(train_vals)\n",
    "    return sort_var(obj_list, var_list)"
   ]
  },
  {
   "cell_type": "code",
   "execution_count": 7,
   "id": "2bc75a08-e091-4c00-bbb0-a7008760f839",
   "metadata": {},
   "outputs": [],
   "source": [
    "def filter_data(train_df, obj_list, col, threshold):\n",
    "    \n",
    "    stddev_map = calc_stddev(obj_list, train_df, col)\n",
    "      \n",
    "    filtered_list = []\n",
    "    for k, obj in enumerate(stddev_map.keys()):\n",
    "        if stddev_map[obj] < threshold:\n",
    "            continue\n",
    "        filtered_list.append(obj)\n",
    "\n",
    "    if col == 'smiles':\n",
    "        filtered_train_df = train_df.query(\"smiles in @filtered_list\").reset_index()\n",
    "    else:\n",
    "        filtered_train_df = train_df.query(\"cell_line in @filtered_list\").reset_index()\n",
    "    return filtered_train_df"
   ]
  },
  {
   "cell_type": "code",
   "execution_count": 8,
   "id": "16b3864c-fc89-4731-bef7-cbe4b3b42394",
   "metadata": {},
   "outputs": [],
   "source": [
    "#Lenient random cell lines hold out cv\n",
    "\n",
    "def create_strict_cv_data(train_df, cell_lines):\n",
    "    \n",
    "    cell_count = len(cell_lines)\n",
    "    for k in range(1, 6):\n",
    "        \n",
    "        cv_size = int(cell_count/5) + k%2\n",
    "        k_cell_lines = []\n",
    "        print(len(cell_lines))\n",
    "\n",
    "        for i in range(cv_size):\n",
    "            r = rd.randint(0, len(cell_lines) - 1)\n",
    "            k_cell_lines.append(cell_lines.pop(r))\n",
    "\n",
    "        k_test_data = train_df.query('cell_line in @k_cell_lines')\n",
    "        k_train_data = train_df.drop(k_test_data.index)\n",
    "\n",
    "        k_test_data.to_csv(\"../data/\" + str(k) + \"_test_cg_strict.txt\", sep=\"\\t\", header=False, index=False)\n",
    "        k_train_data.to_csv(\"../data/\" + str(k) + \"_train_cg_strict.txt\", sep=\"\\t\", header=False, index=False)"
   ]
  },
  {
   "cell_type": "code",
   "execution_count": 9,
   "id": "7a0696ba-8b3d-46b3-aac4-147904c9034f",
   "metadata": {},
   "outputs": [],
   "source": [
    "def create_top_100_loo_data(train_df, obj_list, col, obj_type):\n",
    "    \n",
    "    var_map = calc_var(obj_list, train_df, col)\n",
    "    \n",
    "    for k, obj in enumerate(var_map.keys()):\n",
    "        if k == 100:\n",
    "            break\n",
    "        k_test_data = None\n",
    "        k_train_data = None\n",
    "        if col == 'smiles':\n",
    "            k_test_data = train_df.query(\"smiles == @obj\")\n",
    "            k_train_data = train_df.query(\"smiles != @obj\")\n",
    "        else:\n",
    "            k_test_data = train_df.query(\"cell_line == @obj\")\n",
    "            k_train_data = train_df.query(\"cell_line != @obj\")\n",
    "        \n",
    "        k_test_data.to_csv(\"../data/\" + str(k+1) + \"_test_cg_\" + obj_type + \"_loo.txt\", sep=\"\\t\", header=False, index=False)\n",
    "        k_train_data.to_csv(\"../data/\" + str(k+1) + \"_train_cg_\" + obj_type + \"_loo.txt\", sep=\"\\t\", header=False, index=False)"
   ]
  },
  {
   "cell_type": "code",
   "execution_count": 22,
   "id": "1b91cc99-95d5-4c14-8c4b-905f4ec45776",
   "metadata": {},
   "outputs": [],
   "source": [
    "def create_per_drug_data(train_df, drug_name_map):\n",
    "    drugs = set(train_df['smiles'])\n",
    "    for drug in drugs:\n",
    "        drug_name = drug_name_map[drug]\n",
    "        drug_train_df = train_df.query(\"smiles == @drug\")\n",
    "        drug_train_df.to_csv(\"../data/training_files/train_gdsc2_\" + drug_name + \".txt\", sep=\"\\t\", header=False, index=False)"
   ]
  },
  {
   "cell_type": "code",
   "execution_count": 40,
   "id": "e8fb9e34-bd79-4f12-b327-169d051acb64",
   "metadata": {},
   "outputs": [],
   "source": [
    "dataset = \"gdsc2\"\n",
    "\n",
    "cell_lines = list(pd.read_csv(\"../data/cell2ind_\" + dataset + \".txt\", sep=\"\\t\", header=None, names=['I', 'C'])['C'])\n",
    "\n",
    "drug_list = list(pd.read_csv(\"../data/drug2ind_\" + dataset + \"_all.txt\", sep=\"\\t\", header=None, names=['I', 'D'])['D'])\n",
    "\n",
    "all_df = pd.read_csv(\"../data/train_\" + dataset + \".txt\", sep=\"\\t\", header=None, names=['cell_line', 'smiles', 'auc'])\n",
    "\n",
    "drug_info = pd.read_csv(\"../data/master_druglist_smiles_final.csv\")[['name', 'isomeric_smiles']]\n",
    "drug_name_map = dict(zip(drug_info.isomeric_smiles, drug_info.name))\n",
    "\n",
    "#cell_line_info_df = pd.read_csv(\"../data/CCLE/sample_info.csv\", sep=\",\")[[\"CCLE_Name\", \"primary_disease\"]]"
   ]
  },
  {
   "cell_type": "code",
   "execution_count": 41,
   "id": "f14824c3-8072-4ab0-afbd-a415c908ce7f",
   "metadata": {},
   "outputs": [],
   "source": [
    "filtered_train_df = filter_data(all_df, drug_list, 'smiles', 0.15)"
   ]
  },
  {
   "cell_type": "code",
   "execution_count": 17,
   "id": "0a2a2706-4d2b-4273-8ade-84594d568924",
   "metadata": {},
   "outputs": [
    {
     "data": {
      "image/png": "[encoded data removed]",
      "text/plain": [
       "<Figure size 648x576 with 1 Axes>"
      ]
     },
     "metadata": {
      "needs_background": "light"
     },
     "output_type": "display_data"
    }
   ],
   "source": [
    "stddev_map = calc_stddev(drug_list, filtered_train_df, 'smiles')\n",
    "gdsc2_drug_hist = create_bar_plot(stddev_map.values(), 'Std Dev', '# of Drugs')"
   ]
  },
  {
   "cell_type": "code",
   "execution_count": 42,
   "id": "244f8bc1-f6a8-4588-84f7-b8785371d641",
   "metadata": {},
   "outputs": [],
   "source": [
    "filtered_drug_list = sorted(set(filtered_train_df['smiles']))"
   ]
  },
  {
   "cell_type": "code",
   "execution_count": 43,
   "id": "90ed26f4-4471-4718-8b0f-57cdd8bae3a3",
   "metadata": {},
   "outputs": [
    {
     "data": {
      "text/plain": [
       "99"
      ]
     },
     "execution_count": 43,
     "metadata": {},
     "output_type": "execute_result"
    }
   ],
   "source": [
    "len(filtered_drug_list)"
   ]
  },
  {
   "cell_type": "code",
   "execution_count": 19,
   "id": "9213764b-27a5-4bf6-af37-3ebeba2b7420",
   "metadata": {},
   "outputs": [
    {
     "data": {
      "text/plain": [
       "0.16464947924829318"
      ]
     },
     "execution_count": 19,
     "metadata": {},
     "output_type": "execute_result"
    }
   ],
   "source": [
    "stddev_map['CC1=C(C(=O)N(C2=NC(=NC=C12)NC3=NC=C(C=C3)N4CCNCC4)C5CCCC5)C(=O)C']"
   ]
  },
  {
   "cell_type": "code",
   "execution_count": 44,
   "id": "069aa91a-ac5c-49b9-98ee-d8ac56b462f3",
   "metadata": {},
   "outputs": [],
   "source": [
    "create_per_drug_data(filtered_train_df, drug_name_map)"
   ]
  },
  {
   "cell_type": "code",
   "execution_count": 37,
   "id": "9567a235-9ba3-4187-ba4f-5a6adbbc1c74",
   "metadata": {},
   "outputs": [],
   "source": [
    "drug_df = pd.DataFrame(filtered_drug_list, columns=(['D']))\n",
    "drug_df.to_csv(\"../data/drug2ind_gdsc2.txt\", sep='\\t', header=False, index=True)"
   ]
  },
  {
   "cell_type": "code",
   "execution_count": 46,
   "id": "99fa24cc-9a10-4e42-9161-90148070a868",
   "metadata": {},
   "outputs": [],
   "source": [
    "drug_name_list = [v for k,v in drug_name_map.items() if k in filtered_drug_list]\n",
    "drugname_df = pd.DataFrame(drug_name_list, columns=(['D']))\n",
    "drugname_df.to_csv(\"../data/drugname_gdsc2.txt\", sep='\\t', header=False, index=False)"
   ]
  },
  {
   "cell_type": "code",
   "execution_count": null,
   "id": "7eb34271-aefb-4487-9a54-409a372c9f58",
   "metadata": {},
   "outputs": [],
   "source": [
    "filtered_train_df.to_csv(\"../data/\" + dataset + \"_filtered.txt\", sep=\"\\t\", header=False, index=False)"
   ]
  },
  {
   "cell_type": "code",
   "execution_count": null,
   "id": "d726e062-c546-4fe5-9c58-f4541d83f119",
   "metadata": {},
   "outputs": [],
   "source": [
    "filtered_train_df = pd.read_csv(\"../data/\" + dataset + \"_filtered.txt\", sep=\"\\t\", header=None, names=['cell_line', 'smiles', 'auc'])\n",
    "cell_lines = list(pd.read_csv(\"../data/cell2ind_\" + dataset + \".txt\", sep=\"\\t\", header=None, names=['I', 'C'])['C'])\n",
    "create_strict_cv_data(filtered_train_df, cell_lines)"
   ]
  },
  {
   "cell_type": "code",
   "execution_count": null,
   "id": "8650a822-8303-432c-92bc-83e5f7ac8034",
   "metadata": {},
   "outputs": [],
   "source": []
  },
  {
   "cell_type": "code",
   "execution_count": null,
   "id": "a3e3921d-5b04-4a6a-8a64-33c86d40eeb1",
   "metadata": {},
   "outputs": [],
   "source": []
  },
  {
   "cell_type": "code",
   "execution_count": null,
   "id": "e63fa597-072d-41d4-be14-98866d1e5666",
   "metadata": {},
   "outputs": [],
   "source": [
    "cell_line_info_df[\"primary_disease\"] = cell_line_info_df[\"primary_disease\"].apply(lambda s: str(s).lower())"
   ]
  },
  {
   "cell_type": "code",
   "execution_count": null,
   "id": "21bd54d6-c435-4008-af4d-141231cd4226",
   "metadata": {},
   "outputs": [],
   "source": [
    "cell_line_info_df.groupby([\"primary_disease\"])[\"CCLE_Name\"].count()"
   ]
  },
  {
   "cell_type": "code",
   "execution_count": null,
   "id": "edab9ee7-211a-4978-9230-c0a0a8cdacd5",
   "metadata": {},
   "outputs": [],
   "source": [
    "for tissue in set(cell_line_info_df[\"primary_disease\"]):\n",
    "    cell_lines_x = list(cell_line_info_df.query('primary_disease == @tissue')[\"CCLE_Name\"])\n",
    "    train_data_x = train_data.query('cell_line in @cell_lines_x')\n",
    "    print(tissue, len(train_data_x))"
   ]
  },
  {
   "cell_type": "code",
   "execution_count": null,
   "id": "1d377756-e353-4d7b-8524-34e7dd4dc06c",
   "metadata": {},
   "outputs": [],
   "source": [
    "tissue_1 = {\"lung cancer\"}\n",
    "\n",
    "tissue_2 = {\"kidney cancer\", \"bladder cancer\", \"leukemia\", \"myeloma\", \"neuroblastoma\", \"adrenal cancer\", \"prostate cancer\"}\n",
    "\n",
    "tissue_3 = {\"gallbladder cancer\", \"colon/colorectal cancer\", \"liver cancer\", \n",
    "            \"esophageal cancer\", \"bile duct cancer\", \"pancreatic cancer\", \"gastric cancer\"}\n",
    "\n",
    "tissue_4 = {\"breast cancer\", \"ovarian cancer\", \"endometrial/uterine cancer\", \"cervical cancer\", \"embryonal cancer\", \n",
    "            \"thyroid cancer\", \"bone cancer\", \"rhabdoid\", \"sarcoma\", \"fibroblast\", \"liposarcoma\"}\n",
    "\n",
    "tissue_5 = set(cell_line_info_df[\"primary_disease\"]).difference(tissue_1)\n",
    "tissue_5 = tissue_5.difference(tissue_2)\n",
    "tissue_5 = tissue_5.difference(tissue_3)\n",
    "tissue_5 = tissue_5.difference(tissue_4)"
   ]
  },
  {
   "cell_type": "code",
   "execution_count": null,
   "id": "849cc175-f1be-438e-9024-c7d224b4b8e5",
   "metadata": {},
   "outputs": [],
   "source": [
    "#Strict tissue type cv\n",
    "\n",
    "k = 5\n",
    "tissue_k = tissue_5\n",
    "\n",
    "cell_lines_k = list(cell_line_info_df.query('primary_disease in @tissue_k')[\"CCLE_Name\"])\n",
    "k_test_data = train_data.query('cell_line in @cell_lines_k')\n",
    "k_train_data = train_data.drop(k_test_data.index)\n",
    "\n",
    "print(len(k_test_data))\n",
    "print(len(k_train_data))\n",
    "\n",
    "k_test_data.to_csv(\"../data/\" + str(k) + \"_drugcell_test_cg_cell_tissue.txt\", sep=\"\\t\", header=False, index=False)\n",
    "k_train_data.to_csv(\"../data/\" + str(k) + \"_drugcell_train_cg_cell_tissue.txt\", sep=\"\\t\", header=False, index=False)"
   ]
  },
  {
   "cell_type": "code",
   "execution_count": null,
   "id": "9528efb3-16c9-43ba-af42-0cf922b0abb5",
   "metadata": {},
   "outputs": [],
   "source": [
    "def divide_cell_list(cell_list):\n",
    "    l = len(cell_list)\n",
    "    size = int(l/5)\n",
    "    cell_buckets = []\n",
    "    for i in range(5):\n",
    "        min = size * i\n",
    "        max = size * (i+1)\n",
    "        bucket_i = [cell_list[j] for j in range(min, max)]\n",
    "        cell_buckets.append(bucket_i)\n",
    "    for i in range(l%5):\n",
    "        cell_buckets[i].append(cell_list[l - l%5 + i])\n",
    "    return cell_buckets"
   ]
  },
  {
   "cell_type": "code",
   "execution_count": null,
   "id": "33713b80-ca96-4d9e-8396-6cf980d4a0f4",
   "metadata": {},
   "outputs": [],
   "source": [
    "def create_cell_list_from_buckets(i):\n",
    "    i = i - 1\n",
    "    cell_list = []\n",
    "    [cell_list.append(c) for c in cell_buckets_1[i]]\n",
    "    [cell_list.append(c) for c in cell_buckets_2[i]]\n",
    "    [cell_list.append(c) for c in cell_buckets_3[i]]\n",
    "    [cell_list.append(c) for c in cell_buckets_4[i]]\n",
    "    [cell_list.append(c) for c in cell_buckets_5[i]]\n",
    "    return cell_list"
   ]
  },
  {
   "cell_type": "code",
   "execution_count": null,
   "id": "6ebcf00e-b6c4-4d86-be7e-982f771b7c57",
   "metadata": {},
   "outputs": [],
   "source": [
    "def create_train_test_files(cell_list, k):\n",
    "    k_test_data = train_data.query('cell_line in @cell_list')\n",
    "    k_train_data = train_data.drop(k_test_data.index)\n",
    "    \n",
    "    print(len(k_test_data))\n",
    "    print(len(k_train_data))\n",
    "\n",
    "    k_test_data.to_csv(\"../data/\" + str(k) + \"_drugcell_test_cg_cell_bucket.txt\", sep=\"\\t\", header=False, index=False)\n",
    "    k_train_data.to_csv(\"../data/\" + str(k) + \"_drugcell_train_cg_cell_bucket.txt\", sep=\"\\t\", header=False, index=False)"
   ]
  },
  {
   "cell_type": "code",
   "execution_count": null,
   "id": "1811277b-ce8a-4b25-a26e-55ac60f9df20",
   "metadata": {},
   "outputs": [],
   "source": [
    "cell_lines_1 = list(cell_line_info_df.query('primary_disease in @tissue_1')[\"CCLE_Name\"])\n",
    "rd.shuffle(cell_lines_1)\n",
    "cell_buckets_1 = divide_cell_list(cell_lines_1)\n",
    "\n",
    "cell_lines_2 = list(cell_line_info_df.query('primary_disease in @tissue_2')[\"CCLE_Name\"])\n",
    "rd.shuffle(cell_lines_2)\n",
    "cell_buckets_2 = divide_cell_list(cell_lines_2)\n",
    "\n",
    "cell_lines_3 = list(cell_line_info_df.query('primary_disease in @tissue_3')[\"CCLE_Name\"])\n",
    "rd.shuffle(cell_lines_3)\n",
    "cell_buckets_3 = divide_cell_list(cell_lines_3)\n",
    "\n",
    "cell_lines_4 = list(cell_line_info_df.query('primary_disease in @tissue_4')[\"CCLE_Name\"])\n",
    "rd.shuffle(cell_lines_4)\n",
    "cell_buckets_4 = divide_cell_list(cell_lines_4)\n",
    "\n",
    "cell_lines_5 = list(cell_line_info_df.query('primary_disease in @tissue_5')[\"CCLE_Name\"])\n",
    "rd.shuffle(cell_lines_5)\n",
    "cell_buckets_5 = divide_cell_list(cell_lines_5)"
   ]
  },
  {
   "cell_type": "code",
   "execution_count": null,
   "id": "ea077b2f-a747-4859-a95c-f3148120b678",
   "metadata": {},
   "outputs": [],
   "source": [
    "cell_lines_1 = create_cell_list_from_buckets(1)\n",
    "create_train_test_files(cell_lines_1, 1)\n",
    "\n",
    "cell_lines_2 = create_cell_list_from_buckets(2)\n",
    "create_train_test_files(cell_lines_2, 2)\n",
    "\n",
    "cell_lines_3 = create_cell_list_from_buckets(3)\n",
    "create_train_test_files(cell_lines_3, 3)\n",
    "\n",
    "cell_lines_4 = create_cell_list_from_buckets(4)\n",
    "create_train_test_files(cell_lines_4, 4)\n",
    "\n",
    "cell_lines_5 = create_cell_list_from_buckets(5)\n",
    "create_train_test_files(cell_lines_5, 5)"
   ]
  },
  {
   "cell_type": "code",
   "execution_count": null,
   "id": "150b32a4-830c-489f-862f-8b671a66950a",
   "metadata": {},
   "outputs": [],
   "source": [
    "#Lenient random drug hold out cv\n",
    "\n",
    "drug_count = len(drug_list)\n",
    "\n",
    "for k in range(1, 6):\n",
    "    \n",
    "    cv_size = int(drug_count/5) + k%2\n",
    "    k_drugs = []\n",
    "    print(len(drug_list))\n",
    "        \n",
    "    for i in range(cv_size):\n",
    "        r = rd.randint(0, len(drug_list) - 1)\n",
    "        k_drugs.append(drug_list.pop(r))\n",
    "            \n",
    "    k_test_data = train_data.query('smiles in @k_drugs')\n",
    "    k_train_data = train_data.drop(k_test_data.index)\n",
    "                \n",
    "    k_test_data.to_csv(\"../data/\" + str(k) + \"_drugcell_test_cg_drug_random.txt\", sep=\"\\t\", header=False, index=False)\n",
    "    k_train_data.to_csv(\"../data/\" + str(k) + \"_drugcell_train_cg_drug_random.txt\", sep=\"\\t\", header=False, index=False)"
   ]
  },
  {
   "cell_type": "code",
   "execution_count": null,
   "id": "a98c6323-b1dd-4486-a7ca-dcb9c51a55d7",
   "metadata": {},
   "outputs": [],
   "source": [
    "create_top_100_loo_data(drug_list, 'smiles', 'drug')"
   ]
  },
  {
   "cell_type": "code",
   "execution_count": null,
   "id": "125fa2ed-9b06-41bb-9f78-5ace0849395e",
   "metadata": {},
   "outputs": [],
   "source": [
    "create_top_100_loo_data(cell_lines, 'cell_line', 'cell')"
   ]
  }
 ],
 "metadata": {
  "kernelspec": {
   "display_name": "Python 3 (ipykernel)",
   "language": "python",
   "name": "python3"
  },
  "language_info": {
   "codemirror_mode": {
    "name": "ipython",
    "version": 3
   },
   "file_extension": ".py",
   "mimetype": "text/x-python",
   "name": "python",
   "nbconvert_exporter": "python",
   "pygments_lexer": "ipython3",
   "version": "3.7.10"
  }
 },
 "nbformat": 4,
 "nbformat_minor": 5
}
