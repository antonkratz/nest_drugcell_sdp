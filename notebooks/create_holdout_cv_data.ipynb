{
 "cells": [
  {
   "cell_type": "code",
   "execution_count": null,
   "id": "3e81d55f-d100-45af-b5f0-b733f8dc8c8e",
   "metadata": {},
   "outputs": [],
   "source": [
    "import math\n",
    "import pandas as pd\n",
    "import numpy as np\n",
    "import random as rd"
   ]
  },
  {
   "cell_type": "code",
   "execution_count": null,
   "id": "e8fb9e34-bd79-4f12-b327-169d051acb64",
   "metadata": {},
   "outputs": [],
   "source": [
    "dataset = \"cg\"\n",
    "\n",
    "cell_lines = list(pd.read_csv(\"../data/cell2ind_\" + dataset + \".txt\", sep=\"\\t\", header=None, names=['I', 'C'])['C'])\n",
    "\n",
    "drug_list = list(pd.read_csv(\"../data/drug2ind_\" + dataset + \".txt\", sep=\"\\t\", header=None, names=['I', 'D'])['D'])\n",
    "\n",
    "train_data = pd.read_csv(\"../data/drugcell_all_cg.txt\", sep=\"\\t\", header=None, names=['C', 'D', 'AUC'])\n",
    "\n",
    "cell_line_info_df = pd.read_csv(\"../data/CCLE/sample_info.csv\", sep=\",\")[[\"CCLE_Name\", \"primary_disease\"]]"
   ]
  },
  {
   "cell_type": "code",
   "execution_count": null,
   "id": "e63fa597-072d-41d4-be14-98866d1e5666",
   "metadata": {},
   "outputs": [],
   "source": [
    "cell_line_info_df[\"primary_disease\"] = cell_line_info_df[\"primary_disease\"].apply(lambda s: str(s).lower())"
   ]
  },
  {
   "cell_type": "code",
   "execution_count": null,
   "id": "21bd54d6-c435-4008-af4d-141231cd4226",
   "metadata": {},
   "outputs": [],
   "source": [
    "cell_line_info_df.groupby([\"primary_disease\"])[\"CCLE_Name\"].count()"
   ]
  },
  {
   "cell_type": "code",
   "execution_count": null,
   "id": "edab9ee7-211a-4978-9230-c0a0a8cdacd5",
   "metadata": {},
   "outputs": [],
   "source": [
    "for tissue in set(cell_line_info_df[\"primary_disease\"]):\n",
    "    cell_lines_x = list(cell_line_info_df.query('primary_disease == @tissue')[\"CCLE_Name\"])\n",
    "    train_data_x = train_data.query('C in @cell_lines_x')\n",
    "    print(tissue, len(train_data_x))"
   ]
  },
  {
   "cell_type": "code",
   "execution_count": null,
   "id": "1d377756-e353-4d7b-8524-34e7dd4dc06c",
   "metadata": {},
   "outputs": [],
   "source": [
    "tissue_1 = {\"lung cancer\"}\n",
    "\n",
    "tissue_2 = {\"kidney cancer\", \"bladder cancer\", \"leukemia\", \"myeloma\", \"neuroblastoma\", \"adrenal cancer\", \"prostate cancer\"}\n",
    "\n",
    "tissue_3 = {\"gallbladder cancer\", \"colon/colorectal cancer\", \"liver cancer\", \n",
    "            \"esophageal cancer\", \"bile duct cancer\", \"pancreatic cancer\", \"gastric cancer\"}\n",
    "\n",
    "tissue_4 = {\"breast cancer\", \"ovarian cancer\", \"endometrial/uterine cancer\", \"cervical cancer\", \"embryonal cancer\", \n",
    "            \"thyroid cancer\", \"bone cancer\", \"rhabdoid\", \"sarcoma\", \"fibroblast\", \"liposarcoma\"}\n",
    "\n",
    "tissue_5 = set(cell_line_info_df[\"primary_disease\"]).difference(tissue_1)\n",
    "tissue_5 = tissue_5.difference(tissue_2)\n",
    "tissue_5 = tissue_5.difference(tissue_3)\n",
    "tissue_5 = tissue_5.difference(tissue_4)"
   ]
  },
  {
   "cell_type": "code",
   "execution_count": null,
   "id": "849cc175-f1be-438e-9024-c7d224b4b8e5",
   "metadata": {},
   "outputs": [],
   "source": [
    "#Strict tissue type cv\n",
    "\n",
    "k = 5\n",
    "tissue_k = tissue_5\n",
    "\n",
    "cell_lines_k = list(cell_line_info_df.query('primary_disease in @tissue_k')[\"CCLE_Name\"])\n",
    "k_test_data = train_data.query('C in @cell_lines_k')\n",
    "k_train_data = train_data.drop(k_test_data.index)\n",
    "\n",
    "print(len(k_test_data))\n",
    "print(len(k_train_data))\n",
    "\n",
    "k_test_data.to_csv(\"../data/\" + str(k) + \"_drugcell_test_cg_cell_tissue.txt\", sep=\"\\t\", header=False, index=False)\n",
    "k_train_data.to_csv(\"../data/\" + str(k) + \"_drugcell_train_cg_cell_tissue.txt\", sep=\"\\t\", header=False, index=False)"
   ]
  },
  {
   "cell_type": "code",
   "execution_count": null,
   "id": "9528efb3-16c9-43ba-af42-0cf922b0abb5",
   "metadata": {},
   "outputs": [],
   "source": [
    "def divide_cell_list(cell_list):\n",
    "    l = len(cell_list)\n",
    "    size = int(l/5)\n",
    "    cell_buckets = []\n",
    "    for i in range(5):\n",
    "        min = size * i\n",
    "        max = size * (i+1)\n",
    "        bucket_i = [cell_list[j] for j in range(min, max)]\n",
    "        cell_buckets.append(bucket_i)\n",
    "    for i in range(l%5):\n",
    "        cell_buckets[i].append(cell_list[l - l%5 + i])\n",
    "    return cell_buckets"
   ]
  },
  {
   "cell_type": "code",
   "execution_count": null,
   "id": "33713b80-ca96-4d9e-8396-6cf980d4a0f4",
   "metadata": {},
   "outputs": [],
   "source": [
    "def create_cell_list_from_buckets(i):\n",
    "    i = i - 1\n",
    "    cell_list = []\n",
    "    [cell_list.append(c) for c in cell_buckets_1[i]]\n",
    "    [cell_list.append(c) for c in cell_buckets_2[i]]\n",
    "    [cell_list.append(c) for c in cell_buckets_3[i]]\n",
    "    [cell_list.append(c) for c in cell_buckets_4[i]]\n",
    "    [cell_list.append(c) for c in cell_buckets_5[i]]\n",
    "    return cell_list"
   ]
  },
  {
   "cell_type": "code",
   "execution_count": null,
   "id": "6ebcf00e-b6c4-4d86-be7e-982f771b7c57",
   "metadata": {},
   "outputs": [],
   "source": [
    "def create_train_test_files(cell_list, k):\n",
    "    k_test_data = train_data.query('C in @cell_list')\n",
    "    k_train_data = train_data.drop(k_test_data.index)\n",
    "    \n",
    "    print(len(k_test_data))\n",
    "    print(len(k_train_data))\n",
    "\n",
    "    k_test_data.to_csv(\"../data/\" + str(k) + \"_drugcell_test_cg_cell_bucket.txt\", sep=\"\\t\", header=False, index=False)\n",
    "    k_train_data.to_csv(\"../data/\" + str(k) + \"_drugcell_train_cg_cell_bucket.txt\", sep=\"\\t\", header=False, index=False)"
   ]
  },
  {
   "cell_type": "code",
   "execution_count": null,
   "id": "1811277b-ce8a-4b25-a26e-55ac60f9df20",
   "metadata": {},
   "outputs": [],
   "source": [
    "cell_lines_1 = list(cell_line_info_df.query('primary_disease in @tissue_1')[\"CCLE_Name\"])\n",
    "rd.shuffle(cell_lines_1)\n",
    "cell_buckets_1 = divide_cell_list(cell_lines_1)\n",
    "\n",
    "cell_lines_2 = list(cell_line_info_df.query('primary_disease in @tissue_2')[\"CCLE_Name\"])\n",
    "rd.shuffle(cell_lines_2)\n",
    "cell_buckets_2 = divide_cell_list(cell_lines_2)\n",
    "\n",
    "cell_lines_3 = list(cell_line_info_df.query('primary_disease in @tissue_3')[\"CCLE_Name\"])\n",
    "rd.shuffle(cell_lines_3)\n",
    "cell_buckets_3 = divide_cell_list(cell_lines_3)\n",
    "\n",
    "cell_lines_4 = list(cell_line_info_df.query('primary_disease in @tissue_4')[\"CCLE_Name\"])\n",
    "rd.shuffle(cell_lines_4)\n",
    "cell_buckets_4 = divide_cell_list(cell_lines_4)\n",
    "\n",
    "cell_lines_5 = list(cell_line_info_df.query('primary_disease in @tissue_5')[\"CCLE_Name\"])\n",
    "rd.shuffle(cell_lines_5)\n",
    "cell_buckets_5 = divide_cell_list(cell_lines_5)"
   ]
  },
  {
   "cell_type": "code",
   "execution_count": null,
   "id": "ea077b2f-a747-4859-a95c-f3148120b678",
   "metadata": {},
   "outputs": [],
   "source": [
    "cell_lines_1 = create_cell_list_from_buckets(1)\n",
    "create_train_test_files(cell_lines_1, 1)\n",
    "\n",
    "cell_lines_2 = create_cell_list_from_buckets(2)\n",
    "create_train_test_files(cell_lines_2, 2)\n",
    "\n",
    "cell_lines_3 = create_cell_list_from_buckets(3)\n",
    "create_train_test_files(cell_lines_3, 3)\n",
    "\n",
    "cell_lines_4 = create_cell_list_from_buckets(4)\n",
    "create_train_test_files(cell_lines_4, 4)\n",
    "\n",
    "cell_lines_5 = create_cell_list_from_buckets(5)\n",
    "create_train_test_files(cell_lines_5, 5)"
   ]
  },
  {
   "cell_type": "code",
   "execution_count": null,
   "id": "f11ffae2-8fb9-43e0-a0dd-0a08c026120c",
   "metadata": {},
   "outputs": [],
   "source": [
    "#Lenient random cell lines hold out cv\n",
    "\n",
    "cell_count = len(cell_lines)\n",
    "\n",
    "for k in range(1, 6):\n",
    "    \n",
    "    cv_size = int(cell_count/5) + k%2\n",
    "    k_cell_lines = []\n",
    "    print(len(cell_lines))\n",
    "        \n",
    "    for i in range(cv_size):\n",
    "        r = rd.randint(0, len(cell_lines) - 1)\n",
    "        k_cell_lines.append(cell_lines.pop(r))\n",
    "            \n",
    "    k_test_data = train_data.query('C in @k_cell_lines')\n",
    "    k_train_data = train_data.drop(k_test_data.index)\n",
    "                \n",
    "    k_test_data.to_csv(\"../data/\" + str(k) + \"_drugcell_test_cg_cell_random.txt\", sep=\"\\t\", header=False, index=False)\n",
    "    k_train_data.to_csv(\"../data/\" + str(k) + \"_drugcell_train_cg_cell_random.txt\", sep=\"\\t\", header=False, index=False)"
   ]
  },
  {
   "cell_type": "code",
   "execution_count": null,
   "id": "150b32a4-830c-489f-862f-8b671a66950a",
   "metadata": {},
   "outputs": [],
   "source": [
    "#Lenient random drug hold out cv\n",
    "\n",
    "drug_count = len(drug_list)\n",
    "\n",
    "for k in range(1, 6):\n",
    "    \n",
    "    cv_size = int(drug_count/5) + k%2\n",
    "    k_drugs = []\n",
    "    print(len(drug_list))\n",
    "        \n",
    "    for i in range(cv_size):\n",
    "        r = rd.randint(0, len(drug_list) - 1)\n",
    "        k_drugs.append(drug_list.pop(r))\n",
    "            \n",
    "    k_test_data = train_data.query('D in @k_drugs')\n",
    "    k_train_data = train_data.drop(k_test_data.index)\n",
    "                \n",
    "    k_test_data.to_csv(\"../data/\" + str(k) + \"_drugcell_test_cg_drug_random.txt\", sep=\"\\t\", header=False, index=False)\n",
    "    k_train_data.to_csv(\"../data/\" + str(k) + \"_drugcell_train_cg_drug_random.txt\", sep=\"\\t\", header=False, index=False)"
   ]
  },
  {
   "cell_type": "code",
   "execution_count": null,
   "id": "b6ebcb44-0778-40f4-aa8a-dc72c6531a51",
   "metadata": {},
   "outputs": [],
   "source": [
    "#Separating data for each drug/cell\n",
    "\n",
    "def get_pos_map(obj_list, test_df, col):\n",
    "    pos_map = {obj:[] for obj in obj_list}\n",
    "    for i, row in test_df.iterrows():\n",
    "        pos_map[row[col]].append(i)\n",
    "    return pos_map"
   ]
  },
  {
   "cell_type": "code",
   "execution_count": null,
   "id": "8eb99ef4-bdfb-4f87-9005-2dc842fcdb1f",
   "metadata": {},
   "outputs": [],
   "source": [
    "#Arrange the obj_list in the descending order of variance\n",
    "\n",
    "def sort_var(obj_list, var_list):\n",
    "    var_map = {}\n",
    "    for i, obj in enumerate(obj_list):\n",
    "        var_map[obj] = var_list[i]\n",
    "    return {obj:var for obj,var in sorted(var_map.items(), key=lambda item:item[1], reverse=True)}\n"
   ]
  },
  {
   "cell_type": "code",
   "execution_count": null,
   "id": "b10b2dcc-98d9-4e63-b5a2-b9d9fb421473",
   "metadata": {},
   "outputs": [],
   "source": [
    "def calc_var(obj_list, train_df, col):\n",
    "    var_list = [0.0] * len(obj_list)\n",
    "    pos_map = get_pos_map(obj_list, train_df, col)\n",
    "    for i, obj in enumerate(obj_list):\n",
    "        train_vals = np.take(train_df['AUC'], pos_map[obj])\n",
    "        var_list[i] = np.var(train_vals)\n",
    "    return sort_var(obj_list, var_list)"
   ]
  },
  {
   "cell_type": "code",
   "execution_count": null,
   "id": "29fbe4b8-93b2-4da9-ac1f-0469645d6f93",
   "metadata": {},
   "outputs": [],
   "source": [
    "def create_top_100_loo_data(obj_list, col, obj_type):\n",
    "    \n",
    "    var_map = calc_var(obj_list, train_data, col)\n",
    "    \n",
    "    for k, obj in enumerate(var_map.keys()):\n",
    "        if k == 100:\n",
    "            break\n",
    "        k_test_data = None\n",
    "        k_train_data = None\n",
    "        if col == 'D':\n",
    "            k_test_data = train_data.query(\"D == @obj\")\n",
    "            k_train_data = train_data.query(\"D != @obj\")\n",
    "        else:\n",
    "            k_test_data = train_data.query(\"C == @obj\")\n",
    "            k_train_data = train_data.query(\"C != @obj\")\n",
    "        \n",
    "        k_test_data.to_csv(\"../data/\" + str(k+1) + \"_drugcell_test_cg_\" + obj_type + \"_loo.txt\", sep=\"\\t\", header=False, index=False)\n",
    "        k_train_data.to_csv(\"../data/\" + str(k+1) + \"_drugcell_train_cg_\" + obj_type + \"_loo.txt\", sep=\"\\t\", header=False, index=False)"
   ]
  },
  {
   "cell_type": "code",
   "execution_count": null,
   "id": "a98c6323-b1dd-4486-a7ca-dcb9c51a55d7",
   "metadata": {},
   "outputs": [],
   "source": [
    "create_top_100_loo_data(drug_list, 'D', 'drug')"
   ]
  },
  {
   "cell_type": "code",
   "execution_count": null,
   "id": "125fa2ed-9b06-41bb-9f78-5ace0849395e",
   "metadata": {},
   "outputs": [],
   "source": [
    "create_top_100_loo_data(cell_lines, 'C', 'cell')"
   ]
  }
 ],
 "metadata": {
  "kernelspec": {
   "display_name": "Python 3 (ipykernel)",
   "language": "python",
   "name": "python3"
  },
  "language_info": {
   "codemirror_mode": {
    "name": "ipython",
    "version": 3
   },
   "file_extension": ".py",
   "mimetype": "text/x-python",
   "name": "python",
   "nbconvert_exporter": "python",
   "pygments_lexer": "ipython3",
   "version": "3.7.10"
  }
 },
 "nbformat": 4,
 "nbformat_minor": 5
}
