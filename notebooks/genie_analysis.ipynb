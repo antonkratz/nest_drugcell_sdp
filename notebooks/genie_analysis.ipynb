{
 "cells": [
  {
   "cell_type": "code",
   "execution_count": null,
   "metadata": {},
   "outputs": [],
   "source": [
    "import pandas as pd\n",
    "import numpy as np\n",
    "import math\n",
    "import matplotlib.pyplot as plt\n",
    "import glob"
   ]
  },
  {
   "cell_type": "code",
   "execution_count": null,
   "metadata": {},
   "outputs": [],
   "source": [
    "SMALL_SIZE = 12\n",
    "MEDIUM_SIZE = 16\n",
    "BIGGER_SIZE = 22\n",
    "\n",
    "plt.rc('font', size=SMALL_SIZE)          # controls default text sizes\n",
    "plt.rc('axes', titlesize=SMALL_SIZE)     # fontsize of the axes title\n",
    "plt.rc('axes', labelsize=MEDIUM_SIZE)    # fontsize of the x and y labels\n",
    "plt.rc('xtick', labelsize=SMALL_SIZE)    # fontsize of the tick labels\n",
    "plt.rc('ytick', labelsize=SMALL_SIZE)    # fontsize of the tick labels\n",
    "plt.rc('legend', fontsize=SMALL_SIZE)    # legend fontsize\n",
    "plt.rc('figure', titlesize=BIGGER_SIZE)  # fontsize of the figure title"
   ]
  },
  {
   "cell_type": "code",
   "execution_count": null,
   "metadata": {},
   "outputs": [],
   "source": [
    "def generate_test_data(genie_data, mutation_data, drugs):\n",
    "    \n",
    "    cell_lines = genie_data.query('`CDK4/6 Inhibitor Overall` == \"Yes\" or `mTOR Inhibitor Overall` == \"Yes\"')\n",
    "    cell_lines = sorted(cell_lines['Sample ID'])\n",
    "    cell_line_df = pd.DataFrame(cell_lines, columns=['C'])\n",
    "    \n",
    "    filtered_mut_data = mutation_data.query('sampleId in @cell_lines')\n",
    "    filtered_mut_data.sort_values(by=['sampleId'], inplace = True)\n",
    "    filtered_mut_data.drop(columns=['sampleId', 'Altered'], inplace=True)\n",
    "    \n",
    "    test_data = []\n",
    "    for d in drugs:\n",
    "        for c in cell_lines:\n",
    "            test_data.append((c, d, 0.5))\n",
    "    test_data_df = pd.DataFrame(test_data, columns=['C', 'D', 'AUC'])\n",
    "    \n",
    "    return cell_line_df, filtered_mut_data, test_data_df"
   ]
  },
  {
   "cell_type": "code",
   "execution_count": null,
   "metadata": {},
   "outputs": [],
   "source": [
    "def create_survival_plot(genie_data, test_data, predict_data):\n",
    "    \n",
    "    genie_data = genie_data.query('`CDK4/6 Inhibitor Overall` == \"Yes\" or `mTOR Inhibitor Overall` == \"Yes\"')\n",
    "    genie_data.sort_values(by=['Sample ID'], inplace = True)\n",
    "    \n",
    "    pred_df = pd.Series(predict_data, name='P_AUC')\n",
    "    pred_df = pd.concat([test_data, pred_df], axis=1)[['C', 'P_AUC']]\n",
    "    \n",
    "    pred_median_df = pred_df.groupby(['C']).median()\n",
    "    \n",
    "    pred_median_df = pd.merge(pred_median_df, genie_data, left_on='C', right_on='Sample ID')\n",
    "    \n",
    "    pred_median = np.median(predict_data)\n",
    "    print(pred_median)\n",
    "    \n",
    "    dc_p = []\n",
    "    dc_n = []\n",
    "    \n",
    "    for i,row in pred_median_df.iterrows():\n",
    "        if row['P_AUC'] > pred_median:\n",
    "            dc_n.append(row['Overall Survival (Months)'])\n",
    "        else:\n",
    "            dc_p.append(row['Overall Survival (Months)'])\n",
    "\n",
    "    print(np.median(dc_p))\n",
    "    print(np.median(dc_n))\n"
   ]
  },
  {
   "cell_type": "code",
   "execution_count": null,
   "metadata": {},
   "outputs": [],
   "source": [
    "genie_data = pd.read_csv('../data/GENIE/brca_akt1_genie_2019_clinical_data.tsv', sep='\\t')\n",
    "\n",
    "mutation_data = pd.read_csv('../data/GENIE/sample_matrix.txt', sep='\\t')\n",
    "mutation_data['sampleId'] = mutation_data['studyID:sampleId'].str.split(\":\", expand=True)[1]\n",
    "mutation_data.drop(columns =['studyID:sampleId'], inplace = True)\n",
    "\n",
    "drugs = pd.read_csv('../data/GENIE/GENIE_drug2ind.txt', sep='\\t', header=None, names=['I', 'D'])['D']\n",
    "\n",
    "predict_data = np.loadtxt('../result/drugcell_genie.predict')\n",
    "test_data = pd.read_csv('../data/GENIE/GENIE_test.txt', sep='\\t', header=None, names=['C', 'D', 'AUC'])"
   ]
  },
  {
   "cell_type": "code",
   "execution_count": null,
   "metadata": {},
   "outputs": [],
   "source": [
    "cell_lines, filtered_mut_data, test_data = generate_test_data(genie_data, mutation_data, drugs)\n",
    "\n",
    "cell_lines.to_csv('../data/GENIE/GENIE_cell2ind.txt', sep='\\t', header=False, index=True)\n",
    "filtered_mut_data.to_csv('../data/GENIE/GENIE_cell2mutation.txt', header=False, index=False)\n",
    "test_data.to_csv(\"../data/GENIE/GENIE_test.txt\", sep='\\t', header=False, index=False)"
   ]
  },
  {
   "cell_type": "code",
   "execution_count": null,
   "metadata": {},
   "outputs": [],
   "source": [
    "create_survival_plot(genie_data, test_data, predict_data)"
   ]
  }
 ],
 "metadata": {
  "kernelspec": {
   "display_name": "Python 3",
   "language": "python",
   "name": "python3"
  },
  "language_info": {
   "codemirror_mode": {
    "name": "ipython",
    "version": 3
   },
   "file_extension": ".py",
   "mimetype": "text/x-python",
   "name": "python",
   "nbconvert_exporter": "python",
   "pygments_lexer": "ipython3",
   "version": "3.7.6"
  }
 },
 "nbformat": 4,
 "nbformat_minor": 4
}
