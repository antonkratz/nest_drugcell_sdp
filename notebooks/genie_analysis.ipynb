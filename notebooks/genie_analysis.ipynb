{
 "cells": [
  {
   "cell_type": "code",
   "execution_count": null,
   "metadata": {},
   "outputs": [],
   "source": [
    "import pandas as pd\n",
    "import numpy as np\n",
    "import math\n",
    "import matplotlib.pyplot as plt\n",
    "import glob\n",
    "from pprint import pprint\n",
    "from collections import Counter"
   ]
  },
  {
   "cell_type": "code",
   "execution_count": null,
   "metadata": {},
   "outputs": [],
   "source": [
    "SMALL_SIZE = 12\n",
    "MEDIUM_SIZE = 16\n",
    "BIGGER_SIZE = 22\n",
    "\n",
    "plt.rc('font', size=SMALL_SIZE)          # controls default text sizes\n",
    "plt.rc('axes', titlesize=SMALL_SIZE)     # fontsize of the axes title\n",
    "plt.rc('axes', labelsize=MEDIUM_SIZE)    # fontsize of the x and y labels\n",
    "plt.rc('xtick', labelsize=SMALL_SIZE)    # fontsize of the tick labels\n",
    "plt.rc('ytick', labelsize=SMALL_SIZE)    # fontsize of the tick labels\n",
    "plt.rc('legend', fontsize=SMALL_SIZE)    # legend fontsize\n",
    "plt.rc('figure', titlesize=BIGGER_SIZE)  # fontsize of the figure title"
   ]
  },
  {
   "cell_type": "code",
   "execution_count": 8,
   "metadata": {},
   "outputs": [],
   "source": [
    "EVEROLIMUS = \"C[C@@H]1CC[C@H]2C[C@@H](/C(=C/C=C/C=C/[C@H](C[C@H](C(=O)[C@@H]([C@@H](/C(=C/[C@H](C(=O)C[C@H](OC(=O)[C@@H]3CCCCN3C(=O)C(=O)[C@@]1(O2)O)[C@H](C)C[C@@H]4CC[C@H]([C@@H](C4)OC)OCCO)C)/C)O)OC)C)C)/C)OC\"\n",
    "RIBOCICLIB = \"CN(C)C(=O)C1=CC2=CN=C(N=C2N1C3CCCC3)NC4=NC=C(C=C4)N5CCNCC5\""
   ]
  },
  {
   "cell_type": "code",
   "execution_count": 4,
   "metadata": {},
   "outputs": [],
   "source": [
    "def generate_test_data(genie_data, mutation_data, drugs):\n",
    "    \n",
    "    cell_lines = genie_data.query('`CDK4/6 Inhibitor Overall` == \"Yes\" or `mTOR Inhibitor Overall` == \"Yes\"')\n",
    "    cell_lines = sorted(cell_lines['Sample ID'])\n",
    "    cell_line_df = pd.DataFrame(cell_lines, columns=['C'])\n",
    "    \n",
    "    filtered_mut_data = mutation_data.query('sampleId in @cell_lines')\n",
    "    filtered_mut_data = filtered_mut_data.sort_values(by=['sampleId'])\n",
    "    filtered_mut_data = filtered_mut_data.drop(columns=['sampleId', 'Altered'])\n",
    "    \n",
    "    test_data = []\n",
    "    for d in drugs:\n",
    "        for c in cell_lines:\n",
    "            test_data.append((c, d, 0.5))\n",
    "    test_data_df = pd.DataFrame(test_data, columns=['C', 'D', 'AUC'])\n",
    "    \n",
    "    return cell_line_df, filtered_mut_data, test_data_df"
   ]
  },
  {
   "cell_type": "code",
   "execution_count": 9,
   "metadata": {},
   "outputs": [],
   "source": [
    "def generate_cell_mutation_file(all_genie_genes, other_genes, genie_data, all_mutation_data):\n",
    "    \n",
    "    cell_lines = genie_data.query('`CDK4/6 Inhibitor Overall` == \"Yes\" or `mTOR Inhibitor Overall` == \"Yes\"')\n",
    "    cell_lines = sorted(cell_lines['Sample ID'])\n",
    "\n",
    "    filtered_mut_data = all_mutation_data.query('sampleId in @cell_lines')\n",
    "    filtered_mut_data = filtered_mut_data.sort_values(by=['sampleId'])\n",
    "    filtered_mut_data.drop(columns=['sampleId', 'Altered'], inplace=True)\n",
    "    \n",
    "    non_overlapping_genes_AnotB = [g for g in all_genie_genes if g not in other_genes] #A-B\n",
    "    \n",
    "    filtered_mut_data.drop(columns=non_overlapping_genes_AnotB, inplace=True)\n",
    "    \n",
    "    non_overlapping_genes_BnotA = [g for g in other_genes if g not in all_genie_genes] #B-A\n",
    "    \n",
    "    for gene in non_overlapping_genes_BnotA:\n",
    "        filtered_mut_data[gene] = 0\n",
    "        \n",
    "    filtered_mut_data.sort_index(inplace=True, axis=1)\n",
    "    \n",
    "    return filtered_mut_data"
   ]
  },
  {
   "cell_type": "code",
   "execution_count": 50,
   "metadata": {},
   "outputs": [],
   "source": [
    "def create_survival_plot(g_data, test_data, predict_data):\n",
    "    \n",
    "    genie_data = g_data.query('`CDK4/6 Inhibitor Overall` == \"Yes\" or `mTOR Inhibitor Overall` == \"Yes\"')\n",
    "    genie_data = genie_data.sort_values(by=['Sample ID'])\n",
    "    \n",
    "    pred_df = pd.Series(predict_data, name='P_AUC')\n",
    "    pred_df = pd.concat([test_data, pred_df], axis=1)[['C', 'D', 'P_AUC']]\n",
    "        \n",
    "    pred_median = pred_df.groupby('D')['P_AUC'].median().to_dict()\n",
    "    print(pred_median)\n",
    "    \n",
    "    dc_p = dict()\n",
    "    dc_n = dict()\n",
    "    \n",
    "    for _,row in genie_data.iterrows():\n",
    "        \n",
    "        cell_line = row['Sample ID']\n",
    "        df = pred_df.query('C == @cell_line')\n",
    "        dp_map = dict(zip(df.D, df.P_AUC))\n",
    "        \n",
    "        is_positive = False\n",
    "        if row['CDK4/6 Inhibitor Overall'] == 'Yes' and row['mTOR Inhibitor Overall'] == 'Yes':\n",
    "            if dp_map[RIBOCICLIB] <= pred_median[RIBOCICLIB] and dp_map[EVEROLIMUS] <= pred_median[EVEROLIMUS]:\n",
    "                is_positive = True\n",
    "            #print(row['Overall Survival (Months)'], is_positive, dp_map[RIBOCICLIB], dp_map[EVEROLIMUS])\n",
    "        elif row['CDK4/6 Inhibitor Overall'] == 'Yes':\n",
    "            if dp_map[RIBOCICLIB] <= pred_median[RIBOCICLIB]:\n",
    "                is_positive = True\n",
    "        elif row['mTOR Inhibitor Overall'] == 'Yes':\n",
    "            if dp_map[EVEROLIMUS] <= pred_median[EVEROLIMUS]:\n",
    "                is_positive = True\n",
    "        else:\n",
    "            print('This code should have been unreachable')\n",
    "            continue\n",
    "        \n",
    "        if is_positive:\n",
    "            dc_p[cell_line] = row['Overall Survival (Months)']\n",
    "        else:\n",
    "            dc_n[cell_line] = row['Overall Survival (Months)']\n",
    "\n",
    "    return dc_p, dc_n\n"
   ]
  },
  {
   "cell_type": "code",
   "execution_count": 12,
   "metadata": {},
   "outputs": [],
   "source": [
    "genie_data = pd.read_csv('../data/GENIE/brca_akt1_genie_2019_clinical_data.tsv', sep='\\t')\n",
    "\n",
    "nest_mutation_data = pd.read_csv('../data/GENIE/sample_matrix_nest.txt', sep='\\t')\n",
    "nest_mutation_data['sampleId'] = nest_mutation_data['studyID:sampleId'].str.split(\":\", expand=True)[1]\n",
    "nest_mutation_data.drop(columns =['studyID:sampleId'], inplace = True)\n",
    "\n",
    "all_mutation_data = pd.read_csv('../data/GENIE/sample_matrix_all_genes.txt', sep='\\t')\n",
    "all_mutation_data['sampleId'] = all_mutation_data['studyID:sampleId'].str.split(\":\", expand=True)[1]\n",
    "all_mutation_data.drop(columns =['studyID:sampleId'], inplace = True)\n",
    "\n",
    "drugs = pd.read_csv('../data/GENIE/GENIE_drug2ind.txt', sep='\\t', header=None, names=['I', 'D'])['D']\n",
    "\n",
    "predict_data = np.loadtxt('../result/predict_genie_clinical_trial.txt')\n",
    "test_data = pd.read_csv('../data/GENIE/GENIE_test.txt', sep='\\t', header=None, names=['C', 'D', 'AUC'])\n",
    "\n",
    "all_genie_genes = pd.read_csv('../data/GENIE/GENIE_gene_list.txt', header=None, names=['G'])['G']\n",
    "\n",
    "drugcell_genes = pd.read_csv('../../drugcell/data/gene2ind.txt', sep='\\t', header=None, names=['I', 'G'])['G']"
   ]
  },
  {
   "cell_type": "code",
   "execution_count": 13,
   "metadata": {},
   "outputs": [],
   "source": [
    "cell_lines, filtered_mut_data, test_data = generate_test_data(genie_data, nest_mutation_data, drugs)\n",
    "\n",
    "cell_lines.to_csv('../data/GENIE/GENIE_cell2ind.txt', sep='\\t', header=False, index=True)\n",
    "filtered_mut_data.to_csv('../data/GENIE/GENIE_cell2mutation.txt', header=False, index=False)\n",
    "test_data.to_csv(\"../data/GENIE/GENIE_test.txt\", sep='\\t', header=False, index=False)"
   ]
  },
  {
   "cell_type": "code",
   "execution_count": 14,
   "metadata": {},
   "outputs": [],
   "source": [
    "filtered_mut_data = generate_cell_mutation_file(list(all_genie_genes), list(drugcell_genes), genie_data, all_mutation_data)\n",
    "filtered_mut_data.to_csv('../../drugcell/data/GENIE_cell2mutation.txt', header=False, index=False)"
   ]
  },
  {
   "cell_type": "code",
   "execution_count": 36,
   "metadata": {},
   "outputs": [
    {
     "name": "stdout",
     "output_type": "stream",
     "text": [
      "{'CN(C)C(=O)C1=CC2=CN=C(N=C2N1C3CCCC3)NC4=NC=C(C=C4)N5CCNCC5': 0.67694, 'C[C@@H]1CC[C@H]2C[C@@H](/C(=C/C=C/C=C/[C@H](C[C@H](C(=O)[C@@H]([C@@H](/C(=C/[C@H](C(=O)C[C@H](OC(=O)[C@@H]3CCCCN3C(=O)C(=O)[C@@]1(O2)O)[C@H](C)C[C@@H]4CC[C@H]([C@@H](C4)OC)OCCO)C)/C)O)OC)C)C)/C)OC': 0.62833, 'C[C@]12CC[C@H]3[C@H]([C@@H]1CC[C@@H]2O)[C@@H](CC4=C3C=CC(=C4)O)CCCCCCCCCS(=O)CCCC(C(F)(F)F)(F)F': 0.91865}\n",
      "43.125 111\n",
      "37.828947365000005 110\n"
     ]
    }
   ],
   "source": [
    "dc_p, dc_n = create_survival_plot(genie_data, test_data, predict_data)\n",
    "\n",
    "print(np.median(list(dc_p.values())), len(dc_p.values()))\n",
    "print(np.median(list(dc_n.values())), len(dc_n.values()))"
   ]
  },
  {
   "cell_type": "code",
   "execution_count": 51,
   "metadata": {},
   "outputs": [
    {
     "name": "stdout",
     "output_type": "stream",
     "text": [
      "{'CN(C)C(=O)C1=CC2=CN=C(N=C2N1C3CCCC3)NC4=NC=C(C=C4)N5CCNCC5': 0.70896, 'C[C@@H]1CC[C@H]2C[C@@H](/C(=C/C=C/C=C/[C@H](C[C@H](C(=O)[C@@H]([C@@H](/C(=C/[C@H](C(=O)C[C@H](OC(=O)[C@@H]3CCCCN3C(=O)C(=O)[C@@]1(O2)O)[C@H](C)C[C@@H]4CC[C@H]([C@@H](C4)OC)OCCO)C)/C)O)OC)C)C)/C)OC': 0.63519, 'C[C@]12CC[C@H]3[C@H]([C@@H]1CC[C@@H]2O)[C@@H](CC4=C3C=CC(=C4)O)CCCCCCCCCS(=O)CCCC(C(F)(F)F)(F)F': 0.91576}\n",
      "36.858552630000005 104\n",
      "43.84868421 117\n"
     ]
    }
   ],
   "source": [
    "drugcell_predict_data = np.loadtxt('../../drugcell/result/predict_genie_drugcell.txt')\n",
    "dc_p, dc_n = create_survival_plot(genie_data, test_data, drugcell_predict_data)\n",
    "\n",
    "print(np.median(list(dc_p.values())), len(dc_p.values()))\n",
    "print(np.median(list(dc_n.values())), len(dc_n.values()))"
   ]
  }
 ],
 "metadata": {
  "kernelspec": {
   "display_name": "Python 3",
   "language": "python",
   "name": "python3"
  },
  "language_info": {
   "codemirror_mode": {
    "name": "ipython",
    "version": 3
   },
   "file_extension": ".py",
   "mimetype": "text/x-python",
   "name": "python",
   "nbconvert_exporter": "python",
   "pygments_lexer": "ipython3",
   "version": "3.7.6"
  }
 },
 "nbformat": 4,
 "nbformat_minor": 4
}
