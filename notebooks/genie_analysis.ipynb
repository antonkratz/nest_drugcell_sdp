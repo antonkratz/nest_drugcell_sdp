{
 "cells": [
  {
   "cell_type": "code",
   "execution_count": null,
   "metadata": {},
   "outputs": [],
   "source": [
    "from collections import Counter\n",
    "import glob\n",
    "from lifelines import KaplanMeierFitter\n",
    "import math\n",
    "import matplotlib.pyplot as plt\n",
    "import numpy as np\n",
    "import pandas as pd\n",
    "import statsmodels.api as sm\n",
    "from statsmodels.formula.api import ols\n",
    "import researchpy as rp\n",
    "from sklearn.metrics import confusion_matrix\n",
    "import seaborn as sns"
   ]
  },
  {
   "cell_type": "code",
   "execution_count": null,
   "metadata": {},
   "outputs": [],
   "source": [
    "SMALL_SIZE = 12\n",
    "MEDIUM_SIZE = 16\n",
    "BIGGER_SIZE = 22\n",
    "\n",
    "plt.rc('font', size=SMALL_SIZE)          # controls default text sizes\n",
    "plt.rc('axes', titlesize=SMALL_SIZE)     # fontsize of the axes title\n",
    "plt.rc('axes', labelsize=MEDIUM_SIZE)    # fontsize of the x and y labels\n",
    "plt.rc('xtick', labelsize=SMALL_SIZE)    # fontsize of the tick labels\n",
    "plt.rc('ytick', labelsize=SMALL_SIZE)    # fontsize of the tick labels\n",
    "plt.rc('legend', fontsize=SMALL_SIZE)    # legend fontsize\n",
    "plt.rc('figure', titlesize=BIGGER_SIZE)  # fontsize of the figure title"
   ]
  },
  {
   "cell_type": "code",
   "execution_count": null,
   "metadata": {},
   "outputs": [],
   "source": [
    "EVEROLIMUS = \"C[C@@H]1CC[C@H]2C[C@@H](/C(=C/C=C/C=C/[C@H](C[C@H](C(=O)[C@@H]([C@@H](/C(=C/[C@H](C(=O)C[C@H](OC(=O)[C@@H]3CCCCN3C(=O)C(=O)[C@@]1(O2)O)[C@H](C)C[C@@H]4CC[C@H]([C@@H](C4)OC)OCCO)C)/C)O)OC)C)C)/C)OC\"\n",
    "RIBOCICLIB = \"CN(C)C(=O)C1=CC2=CN=C(N=C2N1C3CCCC3)NC4=NC=C(C=C4)N5CCNCC5\"\n",
    "PALBOCICLIB = \"CC1=C(C(=O)N(C2=NC(=NC=C12)NC3=NC=C(C=C3)N4CCNCC4)C5CCCC5)C(=O)C\"\n",
    "CAPIVASERTIB = \"C1CN(CCC1(C(=O)N[C@@H](CCO)C2=CC=C(C=C2)Cl)N)C3=NC=NC4=C3C=CN4\"\n",
    "FULVESTRANT = \"C[C@]12CC[C@H]3[C@H]([C@@H]1CC[C@@H]2O)[C@@H](CC4=C3C=CC(=C4)O)CCCCCCCCCS(=O)CCCC(C(F)(F)F)(F)F\"\n",
    "\n",
    "drug_func_map = {RIBOCICLIB:'CDK4_6_Inhibitor_Overall', EVEROLIMUS:'mTOR_Inhibitor_Overall'}\n",
    "drug_func_map[PALBOCICLIB] = 'CDK4_6_Inhibitor_Overall'\n",
    "drug_func_map[CAPIVASERTIB] = 'AKT_Inhibitor_Overall'\n",
    "\n",
    "drug_name_map = {EVEROLIMUS:'Everolimus', RIBOCICLIB:'Ribociclib', PALBOCICLIB:'Palbociclib'}\n",
    "drug_name_map[CAPIVASERTIB] = 'Capivasertib'\n",
    "drug_name_map[FULVESTRANT] = 'Fulvestrant'"
   ]
  },
  {
   "cell_type": "code",
   "execution_count": null,
   "metadata": {},
   "outputs": [],
   "source": [
    "def generate_test_data(genie_data, drugs):\n",
    "    \n",
    "    cell_lines = sorted(genie_data['Sample_ID'])\n",
    "    cell_line_df = pd.DataFrame(cell_lines, columns=['C'])\n",
    "    \n",
    "    test_data = []\n",
    "    for d in drugs:\n",
    "        for c in cell_lines:\n",
    "            test_data.append((c, d, 0.0, 'GENIE', drug_name_map[d]))\n",
    "    test_data_df = pd.DataFrame(test_data, columns=['cell_line', 'smiles', 'auc', 'dataset', 'drug'])\n",
    "    \n",
    "    return cell_line_df, test_data_df"
   ]
  },
  {
   "cell_type": "code",
   "execution_count": null,
   "metadata": {},
   "outputs": [],
   "source": [
    "def generate_cell_mutation_file(all_genie_genes, other_genes, genie_data, all_mutation_data):\n",
    "    \n",
    "    cell_lines = sorted(genie_data['Sample_ID'])\n",
    "\n",
    "    filtered_mut_data = all_mutation_data.query('sampleId in @cell_lines')\n",
    "    filtered_mut_data = filtered_mut_data.sort_values(by=['sampleId'])\n",
    "    filtered_mut_data.drop(columns=['sampleId', 'Altered'], inplace=True)\n",
    "    \n",
    "    non_overlapping_genes_AnotB = [g for g in all_genie_genes if g not in other_genes] #A-B\n",
    "    \n",
    "    filtered_mut_data.drop(columns=non_overlapping_genes_AnotB, inplace=True)\n",
    "    \n",
    "    non_overlapping_genes_BnotA = [g for g in other_genes if g not in all_genie_genes] #B-A\n",
    "    \n",
    "    for gene in non_overlapping_genes_BnotA:\n",
    "        filtered_mut_data[gene] = 0\n",
    "        \n",
    "    filtered_mut_data.sort_index(inplace=True, axis=1)\n",
    "    \n",
    "    return filtered_mut_data"
   ]
  },
  {
   "cell_type": "code",
   "execution_count": null,
   "metadata": {},
   "outputs": [],
   "source": [
    "def create_confusion_matrix(table, entity):\n",
    "    \n",
    "    fig, ax = plt.subplots(figsize=(7,6))    \n",
    "    sns.heatmap(table, vmin=0, vmax=60, annot=True, cmap='Blues', ax=ax)\n",
    "    ax.invert_yaxis()\n",
    "    ax.invert_xaxis()\n",
    "    plt.yticks(rotation=0)\n",
    "    ax.xaxis.tick_top() # x axis on top\n",
    "    ax.xaxis.set_label_position('top')\n",
    "    ax.set_ylabel(entity + ' True')\n",
    "    ax.set_xlabel(entity + ' Prediction')"
   ]
  },
  {
   "cell_type": "code",
   "execution_count": null,
   "metadata": {},
   "outputs": [],
   "source": [
    "def create_kaplan_meier(true_positive, false_negative, false_positive, true_negative, entity):\n",
    "    \n",
    "    if len(true_positive) == 0 or len(true_negative) == 0 or len(false_positive) == 0 or len(false_negative) == 0:\n",
    "        return\n",
    "        \n",
    "    kmf_d = KaplanMeierFitter(label=entity + \" Survival plot\")\n",
    "    \n",
    "    kmf_d.fit(true_positive, label='True Sensitive(TP)')\n",
    "    a = kmf_d.plot(ci_show=False)\n",
    "    \n",
    "    kmf_d.fit(false_negative, label='False Resistive(FN)')\n",
    "    a = kmf_d.plot(ci_show=False)\n",
    "    \n",
    "    kmf_d.fit(false_positive, label='False Sensitive(FP)')\n",
    "    a = kmf_d.plot(ci_show=False)\n",
    "    \n",
    "    kmf_d.fit(true_negative, label='True Resistive(TN)')\n",
    "    a = kmf_d.plot(ci_show=False)\n",
    "    \n",
    "    a.set_xlim(0, 120)\n",
    "    a.set_xlabel('Overall_Survival_Months')\n",
    "    a.set_ylabel('Surviving Fractions')"
   ]
  },
  {
   "cell_type": "code",
   "execution_count": null,
   "metadata": {},
   "outputs": [],
   "source": [
    "def create_drug_combo_survival_plot(genie_data, pred_df, pred_median_dict, d_list):\n",
    "    \n",
    "    pos_ctrl_df = genie_data.query('CDK4_6_Inhibitor_Overall == \"Yes\" or mTOR_Inhibitor_Overall == \"Yes\"')\n",
    "    pos_ctrl_df = pos_ctrl_df.sort_values(by=['Sample_ID'])\n",
    "    \n",
    "    neg_ctrl_df = genie_data.query('CDK4_6_Inhibitor_Overall == \"No\" and mTOR_Inhibitor_Overall == \"No\"')\n",
    "    neg_ctrl_df = neg_ctrl_df.sort_values(by=['Sample_ID'])\n",
    "    \n",
    "    true_positive = []\n",
    "    false_negative = []\n",
    "    false_positive = []\n",
    "    true_negative = []\n",
    "    \n",
    "    for _,row in pos_ctrl_df.iterrows():\n",
    "        \n",
    "        sampleId = row['Sample_ID']\n",
    "        df = pred_df.query('C == @sampleId')\n",
    "        dp_map = dict(zip(df.smiles, df.pred))\n",
    "        \n",
    "        is_positive = False\n",
    "        for d in d_list:\n",
    "            if row[drug_func_map[d]] == 'Yes' and dp_map[d] <= pred_median_dict[d]:\n",
    "                is_positive = True\n",
    "        \n",
    "        if is_positive:\n",
    "            true_positive.append(row['Overall_Survival_Months'])\n",
    "        else:\n",
    "            false_negative.append(row['Overall_Survival_Months'])\n",
    "        \n",
    "    print('True Sensitive:', len(true_positive))\n",
    "    print('False Resistive:', len(false_negative))\n",
    "    \n",
    "    for _,row in neg_ctrl_df.iterrows():\n",
    "        \n",
    "        sampleId = row['Sample_ID']\n",
    "        df = pred_df.query('C == @sampleId')\n",
    "        dp_map = dict(zip(df.smiles, df.pred))\n",
    "        \n",
    "        is_positive = False\n",
    "        for d in d_list:\n",
    "            if dp_map[d] <= pred_median_dict[d]:\n",
    "                is_positive = True\n",
    "        \n",
    "        if is_positive:\n",
    "            false_positive.append(row['Overall_Survival_Months'])\n",
    "        else:\n",
    "            true_negative.append(row['Overall_Survival_Months'])\n",
    "\n",
    "    print('False Sensitive:', len(false_positive))\n",
    "    print('True Resistive:', len(true_negative))\n",
    "    \n",
    "    if len(true_positive) == 0 or len(true_negative) == 0 or len(false_positive) == 0 or len(false_negative) == 0:\n",
    "        return\n",
    "    \n",
    "    kmf_d = KaplanMeierFitter(label=\"Survival plot\")\n",
    "    kmf_d.fit(true_positive, label='True Sensitive(TP)')\n",
    "    print('True Sensitive median:', kmf_d.median_survival_time_)\n",
    "    a = kmf_d.plot(ci_show=False)\n",
    "    kmf_d.fit(false_negative, label='False Resistive(FN)')\n",
    "    print('False Resistive median:', kmf_d.median_survival_time_)\n",
    "    a = kmf_d.plot(ci_show=False)\n",
    "    kmf_d.fit(false_positive, label='False Sensitive(FP)')\n",
    "    print('False Sensitive median:', kmf_d.median_survival_time_)\n",
    "    a = kmf_d.plot(ci_show=False)\n",
    "    kmf_d.fit(true_negative, label='True Resistive(TN)')\n",
    "    print('True Resistive median:', kmf_d.median_survival_time_)\n",
    "    a = kmf_d.plot(ci_show=False)\n",
    "    a.set_xlim(0, 120)\n",
    "    a.set_xlabel('Overall_Survival_Months')\n",
    "    a.set_ylabel('Surviving Fractions')\n",
    "    return"
   ]
  },
  {
   "cell_type": "code",
   "execution_count": null,
   "metadata": {},
   "outputs": [],
   "source": [
    "def create_drug_survival_plot(genie_drug_df, drug):\n",
    "  \n",
    "    drug_function = drug_func_map[drug]\n",
    "    genie_drug_df['Drug_Function'] = \"\"\n",
    "    y_true = []\n",
    "    y_pred = []\n",
    "    \n",
    "    for i,row in genie_drug_df.iterrows():\n",
    "        if row[drug_function] == 'Yes':\n",
    "            y_true.append('+')\n",
    "            if row[drug_name_map[drug]] == 'Sensitive':\n",
    "                genie_drug_df.at[i, 'Drug_Function'] = 'True Sensitive(TP)'\n",
    "                y_pred.append('+')\n",
    "            else:\n",
    "                genie_drug_df.at[i, 'Drug_Function'] = 'False Resistive(FN)'\n",
    "                y_pred.append('-')\n",
    "        else:\n",
    "            y_true.append('-')\n",
    "            if row[drug_name_map[drug]] == 'Sensitive':\n",
    "                genie_drug_df.at[i, 'Drug_Function'] = 'False Sensitive(FP)'\n",
    "                y_pred.append('+')\n",
    "            else:\n",
    "                genie_drug_df.at[i, 'Drug_Function'] = 'True Resistive(TN)'\n",
    "                y_pred.append('-')\n",
    "    \n",
    "    print(genie_drug_df.groupby(by=['Drug_Function']).median()['Overall_Survival_Months'])\n",
    "    print(rp.summary_cont(genie_drug_df['Overall_Survival_Months'].groupby(genie_drug_df['Drug_Function'])))\n",
    "    \n",
    "    true_positive = genie_drug_df['Overall_Survival_Months'][genie_drug_df['Drug_Function'] == 'True Sensitive(TP)']\n",
    "    false_negative = genie_drug_df['Overall_Survival_Months'][genie_drug_df['Drug_Function'] == 'False Resistive(FN)']\n",
    "    false_positive = genie_drug_df['Overall_Survival_Months'][genie_drug_df['Drug_Function'] == 'False Sensitive(FP)']\n",
    "    true_negative = genie_drug_df['Overall_Survival_Months'][genie_drug_df['Drug_Function'] == 'True Resistive(TN)']\n",
    "    \n",
    "    model = ols('Overall_Survival_Months ~ C(' + \n",
    "                drug_function + ') + C('+ drug_name_map[drug] + ') + C(' + \n",
    "                drug_function + '):C(' + drug_name_map[drug] + ')', data=genie_drug_df).fit()\n",
    "    print(sm.stats.anova_lm(model, typ=2))\n",
    "    \n",
    "    table = pd.pivot_table(genie_drug_df, values='Overall_Survival_Months',\n",
    "                       index=drug_func_map[drug], columns=[drug_name_map[drug]], aggfunc=np.median)\n",
    "    create_confusion_matrix(table, drug_name_map[drug])\n",
    "    \n",
    "    return true_positive, false_negative, false_positive, true_negative"
   ]
  },
  {
   "cell_type": "code",
   "execution_count": null,
   "metadata": {},
   "outputs": [],
   "source": [
    "#Common data\n",
    "\n",
    "genie_data = pd.read_csv('../data/GENIE/brca_akt1_genie_2019_clinical_data.tsv', sep='\\t')\n",
    "genie_data.columns = genie_data.columns.str.replace(' ','_')\n",
    "genie_data.columns = genie_data.columns.str.replace('/','_')\n",
    "genie_data.columns = genie_data.columns.str.replace('(','')\n",
    "genie_data.columns = genie_data.columns.str.replace(')','')\n",
    "\n",
    "all_genie_genes = pd.read_csv('../data/GENIE/GENIE_gene_list.txt', header=None, names=['G'])['G']\n",
    "\n",
    "drugs = pd.read_csv('../data/GENIE/GENIE_all_drug2ind.txt', sep='\\t', header=None, names=['I', 'D'])['D']\n",
    "\n",
    "test_data = pd.read_csv('../data/GENIE/GENIE_test_zscore.txt', sep='\\t', header=None, names=['cell_line', 'smiles', 'auc', 'dataset', 'drug'])\n",
    "\n",
    "all_mutation_data = pd.read_csv('../data/GENIE/sample_matrix_all_genes.txt', sep='\\t')\n",
    "all_mutation_data['sampleId'] = all_mutation_data['studyID:sampleId'].str.split(\":\", expand=True)[1]\n",
    "all_mutation_data.drop(columns =['studyID:sampleId'], inplace = True)"
   ]
  },
  {
   "cell_type": "code",
   "execution_count": null,
   "metadata": {},
   "outputs": [],
   "source": [
    "# Generating test data\n",
    "\n",
    "#drugcell_cg_genes = pd.read_csv('../data/gene2ind_cg.txt', sep='\\t', header=None, names=['I', 'G'])['G']\n",
    "\n",
    "#filtered_mut_data = generate_cell_mutation_file(list(all_genie_genes), list(drugcell_cg_genes), genie_data, all_mutation_data)\n",
    "\n",
    "#cell_lines, test_data = generate_test_data(genie_data, drugs)\n",
    "\n",
    "#cell_lines.to_csv('../data/GENIE/GENIE_all_cell2ind.txt', sep='\\t', header=False, index=True)\n",
    "#filtered_mut_data.to_csv('../data/GENIE/GENIE_cell2mutation_cg.txt', header=False, index=False)\n",
    "#test_data.to_csv(\"../data/GENIE/GENIE_test_zscore.txt\", sep='\\t', header=False, index=False)"
   ]
  },
  {
   "cell_type": "code",
   "execution_count": null,
   "metadata": {},
   "outputs": [],
   "source": [
    "nest_predict_data = np.loadtxt('../model_cg_4_auc/predict_genie.txt')\n",
    "\n",
    "nest_pred_df = pd.Series(nest_predict_data, name='pred')\n",
    "nest_pred_df = pd.concat([test_data, nest_pred_df], axis=1)[['cell_line', 'smiles', 'pred']]\n",
    "    \n",
    "nest_pred_median_dict = nest_pred_df.groupby('smiles')['pred'].median().to_dict()\n",
    "for key in nest_pred_median_dict.keys():\n",
    "    print(drug_name_map[key], ':', nest_pred_median_dict[key])"
   ]
  },
  {
   "cell_type": "code",
   "execution_count": null,
   "metadata": {},
   "outputs": [],
   "source": [
    "genie_data = genie_data.query('not (CDK4_6_Inhibitor_Overall == \"Yes\" and mTOR_Inhibitor_Overall == \"Yes\")').reset_index()"
   ]
  },
  {
   "cell_type": "code",
   "execution_count": null,
   "metadata": {},
   "outputs": [],
   "source": [
    "genie_drug_data = genie_data.copy()\n",
    "for d in drug_name_map.keys():\n",
    "    genie_drug_data[drug_name_map[d]] = \"\"\n",
    "\n",
    "for i,row in genie_data.iterrows():\n",
    "    sampleId = row['Sample_ID']\n",
    "    df = nest_pred_df.query('cell_line == @sampleId')\n",
    "    for d in drug_name_map.keys():\n",
    "        p_auc = df[df.smiles == d]['pred'].item()\n",
    "        if p_auc <= nest_pred_median_dict[d]:\n",
    "            genie_drug_data.at[i, drug_name_map[d]] = \"Sensitive\"\n",
    "        else:\n",
    "            genie_drug_data.at[i, drug_name_map[d]] = \"Resistive\"\n"
   ]
  },
  {
   "cell_type": "code",
   "execution_count": null,
   "metadata": {},
   "outputs": [],
   "source": [
    "#Survival plot for PALBOCICLIB\n",
    "\n",
    "tp, fn, fp, tn = create_drug_survival_plot(genie_drug_data, PALBOCICLIB)"
   ]
  },
  {
   "cell_type": "code",
   "execution_count": null,
   "metadata": {},
   "outputs": [],
   "source": [
    "create_kaplan_meier(tp, fn, fp, tn, drug_name_map[PALBOCICLIB])"
   ]
  },
  {
   "cell_type": "code",
   "execution_count": null,
   "metadata": {},
   "outputs": [],
   "source": [
    "#Survival plot for EVEROLIMUS\n",
    "\n",
    "tp, fn, fp, tn = create_drug_survival_plot(genie_drug_data, EVEROLIMUS)"
   ]
  },
  {
   "cell_type": "code",
   "execution_count": null,
   "metadata": {},
   "outputs": [],
   "source": [
    "create_kaplan_meier(tp, fn, fp, tn, drug_name_map[EVEROLIMUS])"
   ]
  },
  {
   "cell_type": "code",
   "execution_count": null,
   "metadata": {},
   "outputs": [],
   "source": []
  },
  {
   "cell_type": "code",
   "execution_count": null,
   "metadata": {},
   "outputs": [],
   "source": [
    "#Common data\n",
    "\n",
    "genie_data = pd.read_csv('../data/GENIE/brca_akt1_genie_2019_clinical_data.tsv', sep='\\t')\n",
    "genie_data.columns = genie_data.columns.str.replace(' ','_')\n",
    "genie_data.columns = genie_data.columns.str.replace('/','_')\n",
    "genie_data.columns = genie_data.columns.str.replace('(','')\n",
    "genie_data.columns = genie_data.columns.str.replace(')','')\n",
    "\n",
    "all_genie_genes = pd.read_csv('../data/GENIE/GENIE_gene_list.txt', header=None, names=['G'])['G']\n",
    "\n",
    "drugs = pd.read_csv('../data/GENIE/GENIE_all_drug2ind.txt', sep='\\t', header=None, names=['I', 'D'])['D']\n",
    "\n",
    "test_data = pd.read_csv('../data/GENIE/GENIE_test_zscore.txt', sep='\\t', header=None, names=['cell_line', 'smiles', 'auc', 'dataset', 'drug'])\n",
    "\n",
    "all_mutation_data = pd.read_csv('../data/GENIE/sample_matrix_all_genes.txt', sep='\\t')\n",
    "all_mutation_data['sampleId'] = all_mutation_data['studyID:sampleId'].str.split(\":\", expand=True)[1]\n",
    "all_mutation_data.drop(columns =['studyID:sampleId'], inplace = True)"
   ]
  },
  {
   "cell_type": "code",
   "execution_count": null,
   "metadata": {},
   "outputs": [],
   "source": [
    "nest_predict_data = np.loadtxt('../model_cg_4_zscore/predict_genie.txt')\n",
    "\n",
    "nest_pred_df = pd.Series(nest_predict_data, name='pred')\n",
    "nest_pred_df = pd.concat([test_data, nest_pred_df], axis=1)[['cell_line', 'smiles', 'pred']]\n",
    "    \n",
    "nest_pred_median_dict = nest_pred_df.groupby('smiles')['pred'].median().to_dict()\n",
    "for key in nest_pred_median_dict.keys():\n",
    "    print(drug_name_map[key], ':', nest_pred_median_dict[key])"
   ]
  },
  {
   "cell_type": "code",
   "execution_count": null,
   "metadata": {},
   "outputs": [],
   "source": [
    "genie_data = genie_data.query('not (CDK4_6_Inhibitor_Overall == \"Yes\" and mTOR_Inhibitor_Overall == \"Yes\")').reset_index()"
   ]
  },
  {
   "cell_type": "code",
   "execution_count": null,
   "metadata": {},
   "outputs": [],
   "source": [
    "genie_drug_data = genie_data.copy()\n",
    "for d in drug_name_map.keys():\n",
    "    genie_drug_data[drug_name_map[d]] = \"\"\n",
    "\n",
    "for i,row in genie_data.iterrows():\n",
    "    sampleId = row['Sample_ID']\n",
    "    df = nest_pred_df.query('cell_line == @sampleId')\n",
    "    for d in drug_name_map.keys():\n",
    "        p_auc = df[df.smiles == d]['pred'].item()\n",
    "        if p_auc <= nest_pred_median_dict[d]:\n",
    "            genie_drug_data.at[i, drug_name_map[d]] = \"Sensitive\"\n",
    "        else:\n",
    "            genie_drug_data.at[i, drug_name_map[d]] = \"Resistive\"\n"
   ]
  },
  {
   "cell_type": "code",
   "execution_count": null,
   "metadata": {},
   "outputs": [],
   "source": [
    "#Survival plot for PALBOCICLIB\n",
    "\n",
    "tp, fn, fp, tn = create_drug_survival_plot(genie_drug_data, PALBOCICLIB)"
   ]
  },
  {
   "cell_type": "code",
   "execution_count": null,
   "metadata": {},
   "outputs": [],
   "source": [
    "create_kaplan_meier(tp, fn, fp, tn, drug_name_map[PALBOCICLIB])"
   ]
  },
  {
   "cell_type": "code",
   "execution_count": null,
   "metadata": {},
   "outputs": [],
   "source": [
    "#Survival plot for EVEROLIMUS\n",
    "\n",
    "tp, fn, fp, tn = create_drug_survival_plot(genie_drug_data, EVEROLIMUS)"
   ]
  },
  {
   "cell_type": "code",
   "execution_count": null,
   "metadata": {},
   "outputs": [],
   "source": [
    "create_kaplan_meier(tp, fn, fp, tn, drug_name_map[EVEROLIMUS])"
   ]
  },
  {
   "cell_type": "code",
   "execution_count": null,
   "metadata": {},
   "outputs": [],
   "source": [
    "#Survival plot for CAPIVASERTIB\n",
    "\n",
    "#create_drug_survival_plot(genie_drug_data, CAPIVASERTIB)"
   ]
  },
  {
   "cell_type": "code",
   "execution_count": null,
   "metadata": {},
   "outputs": [],
   "source": [
    "#create_gene_survival_plot(genie_drug_data, nest_pred_median_dict, all_mutation_data, 'AKT1', CAPIVASERTIB)"
   ]
  },
  {
   "cell_type": "code",
   "execution_count": null,
   "metadata": {},
   "outputs": [],
   "source": [
    "#For DrugCell_Classic\n",
    "\n",
    "#dc_predict_data = np.loadtxt('../../drugcell/result/predict_genie_all_drugcell.txt')\n",
    "\n",
    "#dc_pred_df = pd.Series(dc_predict_data, name='P_AUC')\n",
    "#dc_pred_df = pd.concat([test_data, dc_pred_df], axis=1)[['C', 'D', 'P_AUC']]\n",
    "    \n",
    "#dc_pred_median_dict = dc_pred_df.groupby('D')['P_AUC'].median().to_dict()\n",
    "#for key in dc_pred_median_dict.keys():\n",
    "#    print(drug_name_map[key], ':', dc_pred_median_dict[key])"
   ]
  },
  {
   "cell_type": "code",
   "execution_count": null,
   "metadata": {},
   "outputs": [],
   "source": [
    "#dc_genie_drug_data = genie_data.copy()\n",
    "#for d in drug_name_map.keys():\n",
    "#    dc_genie_drug_data[drug_name_map[d]] = \"\"\n",
    "\n",
    "#for i,row in genie_data.iterrows():\n",
    "#    sampleId = row['Sample_ID']\n",
    "#    df = dc_pred_df.query('C == @sampleId')\n",
    "#    for d in drug_name_map.keys():\n",
    "#        p_auc = df[df.D == d]['P_AUC'].item()\n",
    "#        if p_auc <= dc_pred_median_dict[d]:\n",
    "#            dc_genie_drug_data.at[i, drug_name_map[d]] = \"Sensitive\"\n",
    "#        else:\n",
    "#            dc_genie_drug_data.at[i, drug_name_map[d]] = \"Resistive\""
   ]
  },
  {
   "cell_type": "code",
   "execution_count": null,
   "metadata": {},
   "outputs": [],
   "source": [
    "#Survival plot for RIBOCICLIB, EVEROLIMUS\n",
    "\n",
    "#create_drug_combo_survival_plot(genie_data, dc_pred_df, dc_pred_median_dict, [RIBOCICLIB, EVEROLIMUS])"
   ]
  },
  {
   "cell_type": "code",
   "execution_count": null,
   "metadata": {},
   "outputs": [],
   "source": [
    "#Survival plot for RIBOCICLIB\n",
    "\n",
    "#tp, fn, fp, tn = create_drug_survival_plot(dc_genie_drug_data, RIBOCICLIB)"
   ]
  },
  {
   "cell_type": "code",
   "execution_count": null,
   "metadata": {},
   "outputs": [],
   "source": [
    "#create_kaplan_meier(tp, fn, fp, tn, drug_name_map[RIBOCICLIB])"
   ]
  },
  {
   "cell_type": "code",
   "execution_count": null,
   "metadata": {},
   "outputs": [],
   "source": [
    "#Survival plot for EVEROLIMUS\n",
    "\n",
    "#tp, fn, fp, tn = create_drug_survival_plot(dc_genie_drug_data, EVEROLIMUS)"
   ]
  },
  {
   "cell_type": "code",
   "execution_count": null,
   "metadata": {},
   "outputs": [],
   "source": [
    "#create_kaplan_meier(tp, fn, fp, tn, drug_name_map[EVEROLIMUS])"
   ]
  },
  {
   "cell_type": "code",
   "execution_count": null,
   "metadata": {},
   "outputs": [],
   "source": [
    "#print(genie_data.groupby(by=['Primary_Race']).median()['Overall_Survival_Months'])\n",
    "\n",
    "#print(rp.summary_cont(genie_data['Overall_Survival_Months'].groupby(genie_data['Primary_Race'])))"
   ]
  }
 ],
 "metadata": {
  "kernelspec": {
   "display_name": "Python 3 (ipykernel)",
   "language": "python",
   "name": "python3"
  },
  "language_info": {
   "codemirror_mode": {
    "name": "ipython",
    "version": 3
   },
   "file_extension": ".py",
   "mimetype": "text/x-python",
   "name": "python",
   "nbconvert_exporter": "python",
   "pygments_lexer": "ipython3",
   "version": "3.7.10"
  }
 },
 "nbformat": 4,
 "nbformat_minor": 4
}
