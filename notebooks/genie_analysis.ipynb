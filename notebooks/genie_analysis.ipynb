{
 "cells": [
  {
   "cell_type": "code",
   "execution_count": 1,
   "metadata": {},
   "outputs": [],
   "source": [
    "from collections import Counter\n",
    "import glob\n",
    "from lifelines import KaplanMeierFitter\n",
    "import math\n",
    "import matplotlib.pyplot as plt\n",
    "import numpy as np\n",
    "import pandas as pd\n",
    "from pprint import pprint"
   ]
  },
  {
   "cell_type": "code",
   "execution_count": 2,
   "metadata": {},
   "outputs": [],
   "source": [
    "SMALL_SIZE = 12\n",
    "MEDIUM_SIZE = 16\n",
    "BIGGER_SIZE = 22\n",
    "\n",
    "plt.rc('font', size=SMALL_SIZE)          # controls default text sizes\n",
    "plt.rc('axes', titlesize=SMALL_SIZE)     # fontsize of the axes title\n",
    "plt.rc('axes', labelsize=MEDIUM_SIZE)    # fontsize of the x and y labels\n",
    "plt.rc('xtick', labelsize=SMALL_SIZE)    # fontsize of the tick labels\n",
    "plt.rc('ytick', labelsize=SMALL_SIZE)    # fontsize of the tick labels\n",
    "plt.rc('legend', fontsize=SMALL_SIZE)    # legend fontsize\n",
    "plt.rc('figure', titlesize=BIGGER_SIZE)  # fontsize of the figure title"
   ]
  },
  {
   "cell_type": "code",
   "execution_count": 3,
   "metadata": {},
   "outputs": [],
   "source": [
    "EVEROLIMUS = \"C[C@@H]1CC[C@H]2C[C@@H](/C(=C/C=C/C=C/[C@H](C[C@H](C(=O)[C@@H]([C@@H](/C(=C/[C@H](C(=O)C[C@H](OC(=O)[C@@H]3CCCCN3C(=O)C(=O)[C@@]1(O2)O)[C@H](C)C[C@@H]4CC[C@H]([C@@H](C4)OC)OCCO)C)/C)O)OC)C)C)/C)OC\"\n",
    "RIBOCICLIB = \"CN(C)C(=O)C1=CC2=CN=C(N=C2N1C3CCCC3)NC4=NC=C(C=C4)N5CCNCC5\""
   ]
  },
  {
   "cell_type": "code",
   "execution_count": 4,
   "metadata": {},
   "outputs": [],
   "source": [
    "def generate_test_data(genie_data, mutation_data, drugs):\n",
    "    \n",
    "    #cell_lines = genie_data.query('`CDK4/6 Inhibitor Overall` == \"Yes\" or `mTOR Inhibitor Overall` == \"Yes\"')\n",
    "    #cell_lines = sorted(cell_lines['Sample ID'])\n",
    "    cell_lines = sorted(genie_data['Sample ID'])\n",
    "    cell_line_df = pd.DataFrame(cell_lines, columns=['C'])\n",
    "    \n",
    "    filtered_mut_data = mutation_data.query('sampleId in @cell_lines')\n",
    "    filtered_mut_data = filtered_mut_data.sort_values(by=['sampleId'])\n",
    "    filtered_mut_data = filtered_mut_data.drop(columns=['sampleId', 'Altered'])\n",
    "    \n",
    "    test_data = []\n",
    "    for d in drugs:\n",
    "        for c in cell_lines:\n",
    "            test_data.append((c, d, 0.5))\n",
    "    test_data_df = pd.DataFrame(test_data, columns=['C', 'D', 'AUC'])\n",
    "    \n",
    "    return cell_line_df, filtered_mut_data, test_data_df"
   ]
  },
  {
   "cell_type": "code",
   "execution_count": 5,
   "metadata": {},
   "outputs": [],
   "source": [
    "def generate_cell_mutation_file(all_genie_genes, other_genes, genie_data, all_mutation_data):\n",
    "    \n",
    "    #cell_lines = genie_data.query('`CDK4/6 Inhibitor Overall` == \"Yes\" or `mTOR Inhibitor Overall` == \"Yes\"')\n",
    "    #cell_lines = sorted(cell_lines['Sample ID'])\n",
    "    cell_lines = sorted(genie_data['Sample ID'])\n",
    "\n",
    "    filtered_mut_data = all_mutation_data.query('sampleId in @cell_lines')\n",
    "    filtered_mut_data = filtered_mut_data.sort_values(by=['sampleId'])\n",
    "    filtered_mut_data.drop(columns=['sampleId', 'Altered'], inplace=True)\n",
    "    \n",
    "    non_overlapping_genes_AnotB = [g for g in all_genie_genes if g not in other_genes] #A-B\n",
    "    \n",
    "    filtered_mut_data.drop(columns=non_overlapping_genes_AnotB, inplace=True)\n",
    "    \n",
    "    non_overlapping_genes_BnotA = [g for g in other_genes if g not in all_genie_genes] #B-A\n",
    "    \n",
    "    for gene in non_overlapping_genes_BnotA:\n",
    "        filtered_mut_data[gene] = 0\n",
    "        \n",
    "    filtered_mut_data.sort_index(inplace=True, axis=1)\n",
    "    \n",
    "    return filtered_mut_data"
   ]
  },
  {
   "cell_type": "code",
   "execution_count": 26,
   "metadata": {},
   "outputs": [],
   "source": [
    "def create_survival_plot(g_data, test_data, predict_data):\n",
    "    \n",
    "    genie_data = g_data.query('`CDK4/6 Inhibitor Overall` == \"Yes\" or `mTOR Inhibitor Overall` == \"Yes\"')\n",
    "    genie_data = genie_data.sort_values(by=['Sample ID'])\n",
    "    \n",
    "    pred_df = pd.Series(predict_data, name='P_AUC')\n",
    "    pred_df = pd.concat([test_data, pred_df], axis=1)[['C', 'D', 'P_AUC']]\n",
    "    \n",
    "    #d_list = [RIBOCICLIB, EVEROLIMUS]\n",
    "    pred_median_dict = pred_df.groupby('D')['P_AUC'].median().to_dict()\n",
    "    print(pred_median_dict)\n",
    "    #pred_median = np.median(pred_df.query('D in @d_list')['P_AUC'])\n",
    "    #print(pred_median)\n",
    "    \n",
    "    dc_p = []\n",
    "    dc_n = []\n",
    "    \n",
    "    for _,row in genie_data.iterrows():\n",
    "        \n",
    "        cell_line = row['Sample ID']\n",
    "        df = pred_df.query('C == @cell_line')\n",
    "        dp_map = dict(zip(df.D, df.P_AUC))\n",
    "        \n",
    "        is_positive = False\n",
    "        if row['CDK4/6 Inhibitor Overall'] == 'Yes' and row['mTOR Inhibitor Overall'] == 'Yes':\n",
    "            if dp_map[RIBOCICLIB] <= pred_median_dict[RIBOCICLIB] or dp_map[EVEROLIMUS] <= pred_median_dict[EVEROLIMUS]:\n",
    "                is_positive = True\n",
    "        elif row['CDK4/6 Inhibitor Overall'] == 'Yes':\n",
    "            if dp_map[RIBOCICLIB] <= pred_median_dict[RIBOCICLIB]:\n",
    "                is_positive = True\n",
    "        elif row['mTOR Inhibitor Overall'] == 'Yes':\n",
    "            if dp_map[EVEROLIMUS] <= pred_median_dict[EVEROLIMUS]:\n",
    "                is_positive = True\n",
    "        else:\n",
    "            print('This code should have been unreachable')\n",
    "            continue\n",
    "        \n",
    "        if is_positive:\n",
    "            dc_p.append(row['Overall Survival (Months)'])\n",
    "        else:\n",
    "            dc_n.append(row['Overall Survival (Months)'])\n",
    "\n",
    "    print('DrugCell(+) count:', len(dc_p))\n",
    "    print('DrugCell(-) count:', len(dc_n))\n",
    "            \n",
    "    kmf = KaplanMeierFitter()\n",
    "    kmf.fit(dc_p, label='DrugCell(+)')\n",
    "    print('DrugCell(+) median:', kmf.median_survival_time_)\n",
    "    a1 = kmf.plot(ci_show=False)\n",
    "    kmf.fit(dc_n, label='DrugCell(-)')\n",
    "    print('DrugCell(-) median:', kmf.median_survival_time_)\n",
    "    a1 = kmf.plot(ci_show=False)\n",
    "    a1.set_xlim(0, 120)\n",
    "    a1.set_xlabel('Overall Survival (Months)')\n",
    "    a1.set_ylabel('Surviving Fractions')"
   ]
  },
  {
   "cell_type": "code",
   "execution_count": 7,
   "metadata": {},
   "outputs": [],
   "source": [
    "genie_data = pd.read_csv('../data/GENIE/brca_akt1_genie_2019_clinical_data.tsv', sep='\\t')\n",
    "\n",
    "nest_mutation_data = pd.read_csv('../data/GENIE/sample_matrix_nest.txt', sep='\\t')\n",
    "nest_mutation_data['sampleId'] = nest_mutation_data['studyID:sampleId'].str.split(\":\", expand=True)[1]\n",
    "nest_mutation_data.drop(columns =['studyID:sampleId'], inplace = True)\n",
    "\n",
    "all_mutation_data = pd.read_csv('../data/GENIE/sample_matrix_all_genes.txt', sep='\\t')\n",
    "all_mutation_data['sampleId'] = all_mutation_data['studyID:sampleId'].str.split(\":\", expand=True)[1]\n",
    "all_mutation_data.drop(columns =['studyID:sampleId'], inplace = True)\n",
    "\n",
    "drugs = pd.read_csv('../data/GENIE/GENIE_all_drug2ind.txt', sep='\\t', header=None, names=['I', 'D'])['D']\n",
    "\n",
    "test_data = pd.read_csv('../data/GENIE/GENIE_test.txt', sep='\\t', header=None, names=['C', 'D', 'AUC'])\n",
    "\n",
    "all_genie_genes = pd.read_csv('../data/GENIE/GENIE_gene_list.txt', header=None, names=['G'])['G']\n",
    "\n",
    "drugcell_genes = pd.read_csv('../../drugcell/data/gene2ind.txt', sep='\\t', header=None, names=['I', 'G'])['G']"
   ]
  },
  {
   "cell_type": "code",
   "execution_count": 8,
   "metadata": {},
   "outputs": [],
   "source": [
    "cell_lines, filtered_mut_data, test_data = generate_test_data(genie_data, nest_mutation_data, drugs)\n",
    "\n",
    "cell_lines.to_csv('../data/GENIE/GENIE_all_cell2ind.txt', sep='\\t', header=False, index=True)\n",
    "filtered_mut_data.to_csv('../data/GENIE/GENIE_all_cell2mutation.txt', header=False, index=False)\n",
    "test_data.to_csv(\"../data/GENIE/GENIE_all_test.txt\", sep='\\t', header=False, index=False)"
   ]
  },
  {
   "cell_type": "code",
   "execution_count": 9,
   "metadata": {},
   "outputs": [],
   "source": [
    "filtered_mut_data = generate_cell_mutation_file(list(all_genie_genes), list(drugcell_genes), genie_data, all_mutation_data)\n",
    "\n",
    "filtered_mut_data.to_csv('../../drugcell/data/GENIE_all_cell2mutation.txt', header=False, index=False)\n",
    "cell_lines.to_csv('../../drugcell/data/GENIE_all_cell2ind.txt', sep='\\t', header=False, index=True)\n",
    "test_data.to_csv(\"../../drugcell/data/GENIE_all_test.txt\", sep='\\t', header=False, index=False)"
   ]
  },
  {
   "cell_type": "code",
   "execution_count": null,
   "metadata": {},
   "outputs": [],
   "source": [
    "new_predict_data = np.loadtxt('../result/predict_genie_clinical_trial.txt')\n",
    "\n",
    "create_survival_plot(genie_data, test_data, new_predict_data)"
   ]
  },
  {
   "cell_type": "code",
   "execution_count": null,
   "metadata": {},
   "outputs": [],
   "source": [
    "new_drugcell_predict_data = np.loadtxt('../../drugcell/result/predict_genie_drugcell.txt')\n",
    "create_survival_plot(genie_data, test_data, new_drugcell_predict_data)"
   ]
  },
  {
   "cell_type": "code",
   "execution_count": 28,
   "metadata": {},
   "outputs": [
    {
     "name": "stdout",
     "output_type": "stream",
     "text": [
      "{'C1CN(CCC1(C(=O)N[C@@H](CCO)C2=CC=C(C=C2)Cl)N)C3=NC=NC4=C3C=CN4': 0.69804, 'CC1=C(C(=O)N(C2=NC(=NC=C12)NC3=NC=C(C=C3)N4CCNCC4)C5CCCC5)C(=O)C': 0.71011, 'CN(C)C(=O)C1=CC2=CN=C(N=C2N1C3CCCC3)NC4=NC=C(C=C4)N5CCNCC5': 0.68126, 'C[C@@H]1CC[C@H]2C[C@@H](/C(=C/C=C/C=C/[C@H](C[C@H](C(=O)[C@@H]([C@@H](/C(=C/[C@H](C(=O)C[C@H](OC(=O)[C@@H]3CCCCN3C(=O)C(=O)[C@@]1(O2)O)[C@H](C)C[C@@H]4CC[C@H]([C@@H](C4)OC)OCCO)C)/C)O)OC)C)C)/C)OC': 0.63202, 'C[C@]12CC[C@H]3[C@H]([C@@H]1CC[C@@H]2O)[C@@H](CC4=C3C=CC(=C4)O)CCCCCCCCCS(=O)CCCC(C(F)(F)F)(F)F': 0.91891}\n",
      "0.6600600000000001\n",
      "DrugCell(+) count: 115\n",
      "DrugCell(-) count: 106\n",
      "DrugCell(+) median: 43.19078947\n",
      "DrugCell(-) median: 37.66447368\n"
     ]
    },
    {
     "data": {
      "image/png": "[encoded data removed]",
      "text/plain": [
       "<Figure size 432x288 with 1 Axes>"
      ]
     },
     "metadata": {
      "needs_background": "light"
     },
     "output_type": "display_data"
    }
   ],
   "source": [
    "new_predict_data = np.loadtxt('../result/predict_genie_all_clinical_trial.txt')\n",
    "\n",
    "create_survival_plot(genie_data, test_data, new_predict_data)"
   ]
  },
  {
   "cell_type": "code",
   "execution_count": 27,
   "metadata": {},
   "outputs": [
    {
     "name": "stdout",
     "output_type": "stream",
     "text": [
      "{'C1CN(CCC1(C(=O)N[C@@H](CCO)C2=CC=C(C=C2)Cl)N)C3=NC=NC4=C3C=CN4': 0.69895, 'CC1=C(C(=O)N(C2=NC(=NC=C12)NC3=NC=C(C=C3)N4CCNCC4)C5CCCC5)C(=O)C': 0.716205, 'CN(C)C(=O)C1=CC2=CN=C(N=C2N1C3CCCC3)NC4=NC=C(C=C4)N5CCNCC5': 0.71037, 'C[C@@H]1CC[C@H]2C[C@@H](/C(=C/C=C/C=C/[C@H](C[C@H](C(=O)[C@@H]([C@@H](/C(=C/[C@H](C(=O)C[C@H](OC(=O)[C@@H]3CCCCN3C(=O)C(=O)[C@@]1(O2)O)[C@H](C)C[C@@H]4CC[C@H]([C@@H](C4)OC)OCCO)C)/C)O)OC)C)C)/C)OC': 0.6401650000000001, 'C[C@]12CC[C@H]3[C@H]([C@@H]1CC[C@@H]2O)[C@@H](CC4=C3C=CC(=C4)O)CCCCCCCCCS(=O)CCCC(C(F)(F)F)(F)F': 0.92076}\n",
      "0.673755\n",
      "DrugCell(+) count: 121\n",
      "DrugCell(-) count: 100\n",
      "DrugCell(+) median: 36.41447368\n",
      "DrugCell(-) median: 45.55921053\n"
     ]
    },
    {
     "data": {
      "image/png": "[encoded data removed]",
      "text/plain": [
       "<Figure size 432x288 with 1 Axes>"
      ]
     },
     "metadata": {
      "needs_background": "light"
     },
     "output_type": "display_data"
    }
   ],
   "source": [
    "new_drugcell_predict_data = np.loadtxt('../../drugcell/result/predict_genie_all_drugcell.txt')\n",
    "create_survival_plot(genie_data, test_data, new_drugcell_predict_data)"
   ]
  }
 ],
 "metadata": {
  "kernelspec": {
   "display_name": "Python 3",
   "language": "python",
   "name": "python3"
  },
  "language_info": {
   "codemirror_mode": {
    "name": "ipython",
    "version": 3
   },
   "file_extension": ".py",
   "mimetype": "text/x-python",
   "name": "python",
   "nbconvert_exporter": "python",
   "pygments_lexer": "ipython3",
   "version": "3.7.6"
  }
 },
 "nbformat": 4,
 "nbformat_minor": 4
}
