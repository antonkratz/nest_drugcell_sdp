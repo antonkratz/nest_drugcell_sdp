{
 "cells": [
  {
   "cell_type": "code",
   "execution_count": 11,
   "metadata": {},
   "outputs": [],
   "source": [
    "import numpy as np\n",
    "import pandas as pd\n",
    "from scipy import stats\n",
    "from sklearn.linear_model import ElasticNetCV\n",
    "from sklearn.ensemble import RandomForestRegressor"
   ]
  },
  {
   "cell_type": "code",
   "execution_count": 2,
   "metadata": {},
   "outputs": [],
   "source": [
    "dataset = 'gdsc2'\n",
    "ont = 'ctg'\n",
    "\n",
    "gene_index = pd.read_csv('../data/gene2ind_' + ont + '_' + dataset + '.txt', sep='\\t', header=None, names=(['I', 'G']))\n",
    "gene_list = gene_index['G']\n",
    "\n",
    "cell_index = pd.read_csv('../data/cell2ind_' + dataset + '.txt', sep='\\t', header=None, names=(['I', 'C']))\n",
    "cell_map = dict(zip(cell_index['C'], cell_index['I']))\n",
    "\n",
    "cell_features = pd.read_csv('../data/cell2mutation_' + ont + '_' + dataset + '.txt', header=None, names=gene_list)"
   ]
  },
  {
   "cell_type": "code",
   "execution_count": 3,
   "metadata": {},
   "outputs": [],
   "source": [
    "def prepare_data(train_df, test_df):\n",
    "\n",
    "    train_Y = np.array(train_df['auc'])\n",
    "    test_Y = np.array(test_df['auc'])\n",
    "\n",
    "    train_X = np.empty(shape = (len(train_df), len(gene_list)))\n",
    "    test_X = np.empty(shape = (len(test_df), len(gene_list)))\n",
    "\n",
    "    for i, row in train_df.iterrows():\n",
    "        train_X[i] = np.array(cell_features.iloc[int(cell_map[row['cell']])])\n",
    "\n",
    "    for i, row in test_df.iterrows():\n",
    "        test_X[i] = np.array(cell_features.iloc[int(cell_map[row['cell']])])\n",
    "        \n",
    "    return train_X, train_Y, test_X, test_Y"
   ]
  },
  {
   "cell_type": "code",
   "execution_count": 6,
   "metadata": {},
   "outputs": [],
   "source": [
    "def run_elastic_net(dataset, ont, drug):\n",
    "    \n",
    "    all_pred = []\n",
    "    all_test = []\n",
    "    for i in range(1, 11):\n",
    "\n",
    "        train_df = pd.read_csv(\"../data/training_files/\" + str(i) + \"_train_\" + dataset + '_' + drug + \".txt\", sep='\\t', header=None, names=(['cell', 'smiles', 'auc']))\n",
    "        test_df = pd.read_csv(\"../data/training_files/\" + str(i) + \"_test_\" + dataset + '_' + drug + \".txt\", sep='\\t', header=None, names=['cell', 'smiles', 'auc'])\n",
    "        train_X, train_Y, test_X, test_Y = prepare_data(train_df, test_df)\n",
    "        all_test = np.concatenate((all_test, test_Y), axis=0)\n",
    "        \n",
    "        regr = ElasticNetCV(fit_intercept=False, cv=10, max_iter=3000, tol=1e-3, n_jobs=-2)\n",
    "        regr.fit(train_X, train_Y)\n",
    "        predicted_Y = regr.predict(test_X)\n",
    "        all_pred = np.concatenate((all_pred, predicted_Y), axis=0)\n",
    "    \n",
    "    corr = stats.spearmanr(all_pred, all_test)[0]\n",
    "    \n",
    "    modeldir = \"../models/elastic_net/\"\n",
    "    np.savetxt(modeldir + \"predict_\" + dataset + '_' + drug + '_' + str(i) + \".txt\", all_pred, fmt = '%.4e')\n",
    "    return corr\n"
   ]
  },
  {
   "cell_type": "code",
   "execution_count": 12,
   "metadata": {},
   "outputs": [],
   "source": [
    "def run_random_forest(dataset, ont, drug):\n",
    "    \n",
    "    all_pred = []\n",
    "    all_test = []\n",
    "    for i in range(1, 11):\n",
    "\n",
    "        train_df = pd.read_csv(\"../data/training_files/\" + str(i) + \"_train_\" + dataset + '_' + drug + \".txt\", sep='\\t', header=None, names=(['cell', 'smiles', 'auc']))\n",
    "        test_df = pd.read_csv(\"../data/training_files/\" + str(i) + \"_test_\" + dataset + '_' + drug + \".txt\", sep='\\t', header=None, names=['cell', 'smiles', 'auc'])\n",
    "        train_X, train_Y, test_X, test_Y = prepare_data(train_df, test_df)\n",
    "        all_test = np.concatenate((all_test, test_Y), axis=0)\n",
    "        \n",
    "        regr = RandomForestRegressor(random_state=0, n_jobs=-2)\n",
    "        regr.fit(train_X, train_Y)\n",
    "        predicted_Y = regr.predict(test_X)\n",
    "        all_pred = np.concatenate((all_pred, predicted_Y), axis=0)\n",
    "    \n",
    "    corr = stats.spearmanr(all_pred, all_test)[0]\n",
    "    \n",
    "    modeldir = \"../models/random_forest/\"\n",
    "    np.savetxt(modeldir + \"predict_\" + dataset + '_' + drug + '_' + str(i) + \".txt\", all_pred, fmt = '%.4e')\n",
    "    return corr\n"
   ]
  },
  {
   "cell_type": "code",
   "execution_count": 7,
   "metadata": {},
   "outputs": [
    {
     "name": "stdout",
     "output_type": "stream",
     "text": [
      "Corr for Palbociclib: 0.0615\n",
      "Corr for nutlin-3A: 0.0186\n",
      "Corr for paclitaxel: 0.0213\n",
      "Corr for Trametinib: 0.0131\n",
      "Corr for Dabrafenib: 0.0051\n",
      "Corr for vincristine: 0.0286\n",
      "Corr for Sorafenib: -0.0771\n",
      "Corr for docetaxel: 0.0145\n",
      "Corr for Epirubicin: 0.0540\n",
      "Corr for Cediranib: 0.0964\n"
     ]
    }
   ],
   "source": [
    "drugs = [\"Palbociclib\", \"nutlin-3A\", \"paclitaxel\", \"Trametinib\", \"Dabrafenib\", \"vincristine\", \"Sorafenib\", \"docetaxel\", \"Epirubicin\", \"Cediranib\"]\n",
    "\n",
    "for drug in drugs:\n",
    "    corr = run_elastic_net(dataset, ont, drug)\n",
    "    print(\"Corr for {}: {:.4f}\".format(drug, corr))"
   ]
  },
  {
   "cell_type": "code",
   "execution_count": 14,
   "metadata": {},
   "outputs": [
    {
     "name": "stdout",
     "output_type": "stream",
     "text": [
      "Corr for Palbociclib: 0.1281\n",
      "Corr for nutlin-3A: 0.0521\n",
      "Corr for paclitaxel: 0.0271\n",
      "Corr for Trametinib: 0.1217\n",
      "Corr for Dabrafenib: 0.0343\n",
      "Corr for vincristine: 0.1400\n",
      "Corr for Sorafenib: 0.0488\n",
      "Corr for docetaxel: 0.1028\n",
      "Corr for Epirubicin: 0.1566\n",
      "Corr for Cediranib: -0.0283\n"
     ]
    }
   ],
   "source": [
    "for drug in drugs:\n",
    "    corr = run_random_forest(dataset, ont, drug)\n",
    "    print(\"Corr for {}: {:.4f}\".format(drug, corr))"
   ]
  },
  {
   "cell_type": "code",
   "execution_count": null,
   "metadata": {},
   "outputs": [],
   "source": []
  }
 ],
 "metadata": {
  "kernelspec": {
   "display_name": "Python 3 (ipykernel)",
   "language": "python",
   "name": "python3"
  },
  "language_info": {
   "codemirror_mode": {
    "name": "ipython",
    "version": 3
   },
   "file_extension": ".py",
   "mimetype": "text/x-python",
   "name": "python",
   "nbconvert_exporter": "python",
   "pygments_lexer": "ipython3",
   "version": "3.7.10"
  }
 },
 "nbformat": 4,
 "nbformat_minor": 4
}
