{
 "cells": [
  {
   "cell_type": "code",
   "execution_count": null,
   "metadata": {},
   "outputs": [],
   "source": [
    "import numpy as np\n",
    "import pandas as pd\n",
    "from sklearn.linear_model import ElasticNetCV"
   ]
  },
  {
   "cell_type": "code",
   "execution_count": null,
   "metadata": {},
   "outputs": [],
   "source": [
    "train_df = pd.read_csv('../data/1_drugcell_test.txt', sep='\\t', header=None, names=(['cell', 'drug', 'auc']))\n",
    "test_df = pd.read_csv('../data/2_drugcell_test.txt', sep='\\t', header=None, names=['cell', 'drug', 'auc'])\n",
    "\n",
    "gene_index = pd.read_csv('../data/gene2ind.txt', sep='\\t', header=None, names=(['I', 'G']))\n",
    "gene_list = gene_index['G']\n",
    "\n",
    "cell_index = pd.read_csv('../data/cell2ind.txt', sep='\\t', header=None, names=(['I', 'C']))\n",
    "cell_map = dict(zip(cell_index['C'], cell_index['I']))\n",
    "\n",
    "cell_features = pd.read_csv('../data/cell2mutation.txt', header=None, names=gene_list)\n",
    "\n",
    "drug_index = pd.read_csv('../data/drug2ind.txt', sep='\\t', header=None, names=(['I', 'D']))\n",
    "drug_map = dict(zip(drug_index['D'], drug_index['I']))\n",
    "\n",
    "drug_features = pd.read_csv('../data/drug2fingerprint.txt', header=None)"
   ]
  },
  {
   "cell_type": "code",
   "execution_count": null,
   "metadata": {},
   "outputs": [],
   "source": [
    "train_Y = np.array(train_df['auc'])\n",
    "\n",
    "train_X = np.empty(shape = (len(train_df), len(gene_list) + len(drug_features.columns)))\n",
    "test_X = np.empty(shape = (len(test_df), len(gene_list) + len(drug_features.columns)))\n",
    "\n",
    "for i, row in train_df.iterrows():\n",
    "    temp = []\n",
    "    temp = np.append(temp, np.array(cell_features.iloc[int(cell_map[row['cell']])]))\n",
    "    temp = np.append(temp, np.array(drug_features.iloc[int(drug_map[row['drug']])]))\n",
    "    train_X[i] = temp\n",
    "\n",
    "for i, row in test_df.iterrows():\n",
    "    temp = []\n",
    "    temp = np.append(temp, np.array(cell_features.iloc[int(cell_map[row['cell']])]))\n",
    "    temp = np.append(temp, np.array(drug_features.iloc[int(drug_map[row['drug']])]))\n",
    "    test_X[i] = temp"
   ]
  },
  {
   "cell_type": "code",
   "execution_count": null,
   "metadata": {},
   "outputs": [],
   "source": [
    "regr = ElasticNetCV(fit_intercept=True, cv=5, max_iter=3000, tol=1e-3, n_jobs=-2)\n",
    "regr.fit(train_X, train_Y)\n",
    "predicted_Y = regr.predict(test_X)"
   ]
  },
  {
   "cell_type": "code",
   "execution_count": null,
   "metadata": {},
   "outputs": [],
   "source": [
    "np.savetxt('../result/elastic_net.predict', predicted_Y, fmt = '%.4e')"
   ]
  },
  {
   "cell_type": "code",
   "execution_count": null,
   "metadata": {},
   "outputs": [],
   "source": [
    "print(predicted_Y)"
   ]
  },
  {
   "cell_type": "code",
   "execution_count": null,
   "metadata": {},
   "outputs": [],
   "source": [
    "mutation_count = np.count_nonzero(train_X == 1, axis=1)\n",
    "mutation_count"
   ]
  }
 ],
 "metadata": {
  "kernelspec": {
   "display_name": "Python 3",
   "language": "python",
   "name": "python3"
  },
  "language_info": {
   "codemirror_mode": {
    "name": "ipython",
    "version": 3
   },
   "file_extension": ".py",
   "mimetype": "text/x-python",
   "name": "python",
   "nbconvert_exporter": "python",
   "pygments_lexer": "ipython3",
   "version": "3.7.6"
  }
 },
 "nbformat": 4,
 "nbformat_minor": 4
}
