{
 "cells": [
  {
   "cell_type": "code",
   "execution_count": null,
   "metadata": {},
   "outputs": [],
   "source": [
    "import numpy as np\n",
    "import pandas as pd\n",
    "from scipy import stats\n",
    "from sklearn.linear_model import ElasticNet"
   ]
  },
  {
   "cell_type": "code",
   "execution_count": null,
   "metadata": {},
   "outputs": [],
   "source": [
    "dataset = 'cg'\n",
    "\n",
    "gene_index = pd.read_csv('../data/gene2ind_' + dataset + '.txt', sep='\\t', header=None, names=(['I', 'G']))\n",
    "gene_list = gene_index['G']\n",
    "\n",
    "cell_index = pd.read_csv('../data/cell2ind_' + dataset + '.txt', sep='\\t', header=None, names=(['I', 'C']))\n",
    "cell_map = dict(zip(cell_index['C'], cell_index['I']))\n",
    "\n",
    "cell_features = pd.read_csv('../data/cell2mutation_' + dataset + '.txt', header=None, names=gene_list)\n",
    "\n",
    "drug_index = pd.read_csv('../data/drug2ind_' + dataset + '.txt', sep='\\t', header=None, names=(['I', 'D']))\n",
    "drug_map = dict(zip(drug_index['D'], drug_index['I']))\n",
    "\n",
    "drug_features = pd.read_csv('../data/drug2fingerprint_' + dataset + '.txt', header=None)"
   ]
  },
  {
   "cell_type": "code",
   "execution_count": null,
   "metadata": {},
   "outputs": [],
   "source": [
    "def prepare_data(train_df, test_df):\n",
    "\n",
    "    train_Y = np.array(train_df['auc'])\n",
    "\n",
    "    train_X = np.empty(shape = (len(train_df), len(gene_list) + len(drug_features.columns)))\n",
    "    test_X = np.empty(shape = (len(test_df), len(gene_list) + len(drug_features.columns)))\n",
    "\n",
    "    for i, row in train_df.iterrows():\n",
    "        temp = []\n",
    "        temp = np.append(temp, np.array(cell_features.iloc[int(cell_map[row['cell']])]))\n",
    "        temp = np.append(temp, np.array(drug_features.iloc[int(drug_map[row['drug']])]))\n",
    "        train_X[i] = temp\n",
    "\n",
    "    for i, row in test_df.iterrows():\n",
    "        temp = []\n",
    "        temp = np.append(temp, np.array(cell_features.iloc[int(cell_map[row['cell']])]))\n",
    "        temp = np.append(temp, np.array(drug_features.iloc[int(drug_map[row['drug']])]))\n",
    "        test_X[i] = temp\n",
    "        \n",
    "    return train_X, train_Y, test_X"
   ]
  },
  {
   "cell_type": "code",
   "execution_count": null,
   "metadata": {},
   "outputs": [],
   "source": [
    "def run_elastic_net(dataset, ont):\n",
    "    \n",
    "    avg_corr = 0.0\n",
    "    for i in range(1, 6):\n",
    "\n",
    "        train_df = pd.read_csv(\"../data/\" + str(i) + \"_drugcell_train_\" + dataset + \".txt\", sep='\\t', header=None, names=(['cell', 'drug', 'auc']))\n",
    "        test_df = pd.read_csv(\"../data/\" + str(i) + \"_drugcell_test_\" + dataset + \".txt\", sep='\\t', header=None, names=['cell', 'drug', 'auc'])\n",
    "        train_X, train_Y, test_X = prepare_data(train_df, test_df)\n",
    "        \n",
    "        regr = ElasticNet(alpha=0.1, tol=1e-5)\n",
    "        regr.fit(train_X, train_Y)\n",
    "        predicted_Y = regr.predict(test_X)\n",
    "        \n",
    "        sm_corr = stats.spearmanr(predicted_Y, test_df['auc'])[0]\n",
    "        avg_corr += sm_corr\n",
    "        \n",
    "        print(str(i), sm_corr)\n",
    "        np.savetxt(\"../result/\" + str(i) + \"_predict_elastic_net_\" + ont + \".txt\", predicted_Y, fmt = '%.4e')\n",
    "        \n",
    "    return avg_corr/5"
   ]
  },
  {
   "cell_type": "code",
   "execution_count": null,
   "metadata": {},
   "outputs": [],
   "source": [
    "ont = \"cg\"\n",
    "\n",
    "avg_corr = run_elastic_net(dataset, ont)\n",
    "print(avg_corr)"
   ]
  },
  {
   "cell_type": "code",
   "execution_count": null,
   "metadata": {},
   "outputs": [],
   "source": []
  }
 ],
 "metadata": {
  "kernelspec": {
   "display_name": "Python 3 (ipykernel)",
   "language": "python",
   "name": "python3"
  },
  "language_info": {
   "codemirror_mode": {
    "name": "ipython",
    "version": 3
   },
   "file_extension": ".py",
   "mimetype": "text/x-python",
   "name": "python",
   "nbconvert_exporter": "python",
   "pygments_lexer": "ipython3",
   "version": "3.7.10"
  }
 },
 "nbformat": 4,
 "nbformat_minor": 4
}
