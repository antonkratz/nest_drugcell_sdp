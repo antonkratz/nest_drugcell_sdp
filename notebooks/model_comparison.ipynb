{
 "cells": [
  {
   "cell_type": "code",
   "execution_count": 1,
   "metadata": {},
   "outputs": [],
   "source": [
    "import pandas as pd\n",
    "import numpy as np\n",
    "import math\n",
    "import matplotlib.pyplot as plt\n",
    "from scipy import stats\n",
    "import glob"
   ]
  },
  {
   "cell_type": "code",
   "execution_count": 2,
   "metadata": {},
   "outputs": [],
   "source": [
    "SMALL_SIZE = 12\n",
    "MEDIUM_SIZE = 16\n",
    "BIGGER_SIZE = 22\n",
    "\n",
    "plt.rc('font', size=SMALL_SIZE)          # controls default text sizes\n",
    "plt.rc('axes', titlesize=SMALL_SIZE)     # fontsize of the axes title\n",
    "plt.rc('axes', labelsize=MEDIUM_SIZE)    # fontsize of the x and y labels\n",
    "plt.rc('xtick', labelsize=SMALL_SIZE)    # fontsize of the tick labels\n",
    "plt.rc('ytick', labelsize=SMALL_SIZE)    # fontsize of the tick labels\n",
    "plt.rc('legend', fontsize=SMALL_SIZE)    # legend fontsize\n",
    "plt.rc('figure', titlesize=BIGGER_SIZE)  # fontsize of the figure title"
   ]
  },
  {
   "cell_type": "code",
   "execution_count": 4,
   "metadata": {},
   "outputs": [],
   "source": [
    "test_df = pd.read_csv('../data/drugcell_all.txt', sep='\\t', header=None, names=['C', 'D', 'AUC'])\n",
    "drugs = pd.read_csv('../data/drug2ind.txt', sep='\\t', header=None, names=['I', 'D'])['D']"
   ]
  },
  {
   "cell_type": "code",
   "execution_count": 5,
   "metadata": {},
   "outputs": [],
   "source": [
    "#Separating data for each drug\n",
    "\n",
    "def get_drug_pos_map(test_df, drugs):\n",
    "    drug_pos_map = {d:[] for d in drugs}\n",
    "    for i, row in test_df.iterrows():\n",
    "        drug_pos_map[row['D']].append(i)\n",
    "    return drug_pos_map"
   ]
  },
  {
   "cell_type": "code",
   "execution_count": 6,
   "metadata": {},
   "outputs": [],
   "source": [
    "#Arrange the drugs in descending order of correlation\n",
    "\n",
    "def sort_drugs_corr(drugs, test_df, predicted):\n",
    "    drug_corr_map = {}\n",
    "    drug_pos_map = get_drug_pos_map(test_df, drugs)\n",
    "    for d in drugs:\n",
    "        test_vals = np.take(test_df['AUC'], drug_pos_map[d])\n",
    "        pred_vals = np.take(predicted, drug_pos_map[d])\n",
    "        drug_corr_map[d] = stats.spearmanr(test_vals, pred_vals)[0]\n",
    "    return {drug:corr for drug,corr in sorted(drug_corr_map.items(), key=lambda item:item[1], reverse=True)}\n"
   ]
  },
  {
   "cell_type": "code",
   "execution_count": 7,
   "metadata": {},
   "outputs": [],
   "source": [
    "def plot_drug_performance(drug_corr_map):\n",
    "    fig = plt.figure(figsize=(9, 8))\n",
    "    ax = fig.add_subplot(111)\n",
    "    x_red = []\n",
    "    y_red = []\n",
    "    x_blue = []\n",
    "    y_blue = []\n",
    "    for d in drug_corr_map.keys():\n",
    "        if drug_corr_map[d] > 0.5:\n",
    "            x_red.append(d)\n",
    "            y_red.append(drug_corr_map[d])\n",
    "        else:\n",
    "            x_blue.append(d)\n",
    "            y_blue.append(drug_corr_map[d])\n",
    "    \n",
    "    ratio = float(len(x_red))/float(len(drug_corr_map.keys()))\n",
    "    print('Red ratio = ' + str(ratio))\n",
    "    ax.bar(x_red, y_red, color='red', width=1.0)\n",
    "    ax.bar(x_blue, y_blue, color='blue', width=1.0)\n",
    "    ax.set_xticks([])\n",
    "    ax.set_xlabel('Drugs')\n",
    "    ax.set_ylabel('Performance\\nSpearman ρ (Predicted vs. Actual)')\n",
    "    plt.show()\n",
    "    return fig"
   ]
  },
  {
   "cell_type": "code",
   "execution_count": 8,
   "metadata": {},
   "outputs": [],
   "source": [
    "def create_drug_performance_plot(drugs, test_df, predicted_result):\n",
    "    drug_corr_map = sort_drugs_corr(drugs, test_df, predicted_result)\n",
    "    fig_drug_perf = plot_drug_performance(drug_corr_map)\n",
    "    print('Median spearman rho:', np.median(list(drug_corr_map.values())))\n",
    "    return fig_drug_perf"
   ]
  },
  {
   "cell_type": "code",
   "execution_count": 9,
   "metadata": {},
   "outputs": [],
   "source": [
    "def get_boxplot(test_df, predicted, x_title, y_title):\n",
    "    \n",
    "    df = pd.DataFrame(list(zip(test_df['AUC'], predicted)), columns=['t', 'p'])\n",
    "    df = df.sort_values(by=['t'])\n",
    "\n",
    "    data = []\n",
    "    for i in range(9):\n",
    "        temp = []\n",
    "        data.append(temp)\n",
    "\n",
    "    for i, row in df.iterrows():\n",
    "        if row['t'] < 0.3:\n",
    "            data[0].append(row['p'])\n",
    "        elif row['t'] < 0.4:\n",
    "            data[1].append(row['p'])\n",
    "        elif row['t'] < 0.5:\n",
    "            data[2].append(row['p'])\n",
    "        elif row['t'] < 0.6:\n",
    "            data[3].append(row['p'])\n",
    "        elif row['t'] < 0.7:\n",
    "            data[4].append(row['p'])\n",
    "        elif row['t'] < 0.8:\n",
    "            data[5].append(row['p'])\n",
    "        elif row['t'] < 0.9:\n",
    "            data[6].append(row['p'])\n",
    "        elif row['t'] < 1.0:\n",
    "            data[7].append(row['p'])\n",
    "        else:\n",
    "            data[8].append(row['p'])\n",
    "    \n",
    "    fig = plt.figure(figsize=(6, 5))\n",
    "    ax = fig.add_subplot(111)\n",
    "    ax.boxplot(data, showfliers=False, widths=0.99, patch_artist=True)\n",
    "    ax.set_yticks([0, 0.1, 0.2, 0.3, 0.4, 0.5, 0.6, 0.7, 0.8, 0.9, 1.0])\n",
    "    ax.set_xticks(np.arange(.5, 10, 1))\n",
    "    ax.set_xticklabels(['0', '0.3', '0.4', '0.5', '0.6', '0.7', '0.8', '0.9', '1.0', 'Inf'])\n",
    "    ax.grid(True)\n",
    "    ax.set_xlabel(x_title)\n",
    "    ax.set_ylabel(y_title)\n",
    "    \n",
    "    plt.show()\n",
    "    \n",
    "    return fig\n"
   ]
  },
  {
   "cell_type": "code",
   "execution_count": 10,
   "metadata": {},
   "outputs": [],
   "source": [
    "def compare_corr(x_test_df, y_test_df, x_label, y_label, x_title, y_title):\n",
    "    X_corr = []\n",
    "    Y_corr = []\n",
    "    x_drug_pos_map = get_drug_pos_map(x_test_df, drugs)\n",
    "    y_drug_pos_map = get_drug_pos_map(y_test_df, drugs)\n",
    "    for d in drugs:\n",
    "        x_test_vals = np.take(x_test_df['AUC'], x_drug_pos_map[d])\n",
    "        y_test_vals = np.take(y_test_df['AUC'], y_drug_pos_map[d])\n",
    "        X_vals = np.take(x_label, x_drug_pos_map[d])\n",
    "        Y_vals = np.take(y_label, y_drug_pos_map[d])\n",
    "        X_c = Y_c = 0\n",
    "        all_same = np.all(X_vals == X_vals[0])\n",
    "        if all_same:\n",
    "            X_c = 0\n",
    "        else:\n",
    "            X_c = stats.spearmanr(X_vals, x_test_vals)[0]\n",
    "        all_same = np.all(Y_vals == Y_vals[0])\n",
    "        if all_same:\n",
    "            Y_c = 0\n",
    "        else:\n",
    "            Y_c = stats.spearmanr(Y_vals, y_test_vals)[0]\n",
    "        X_corr.append(X_c)\n",
    "        Y_corr.append(Y_c)\n",
    "\n",
    "    fig = plt.figure(figsize=(9, 6))\n",
    "    ax = fig.add_subplot(111)\n",
    "    ax.scatter(X_corr, Y_corr, s = 10)\n",
    "    ax.set_xlabel(x_title)\n",
    "    ax.set_ylabel(y_title)\n",
    "    lims = [\n",
    "        np.min([ax.get_xlim(), ax.get_ylim()]),  # min of both axes\n",
    "        np.max([ax.get_xlim(), ax.get_ylim()]),  # max of both axes\n",
    "    ]\n",
    "    ax.plot(lims, lims, 'k-', alpha=0.75, zorder=0)\n",
    "    ax.set_aspect('equal')\n",
    "    ax.set_xlim(lims)\n",
    "    ax.set_ylim(lims)\n",
    "    plt.show()\n",
    "    \n",
    "    return X_corr, Y_corr, fig"
   ]
  },
  {
   "cell_type": "code",
   "execution_count": 11,
   "metadata": {},
   "outputs": [],
   "source": [
    "def compare_corr_violin(test_df, pred_auc_list, title_list, pos):\n",
    "    \n",
    "    corr_list = []\n",
    "    test_drug_pos_map = dict()\n",
    "    \n",
    "    drug_pos_map = get_drug_pos_map(test_df, drugs)\n",
    "    for d in drugs:\n",
    "        test_drug_pos_map[d] = np.take(test_df['AUC'], drug_pos_map[d])\n",
    "    \n",
    "    for pred_auc in pred_auc_list:\n",
    "        corr = []\n",
    "        for d in drugs:\n",
    "            c = 0\n",
    "            auc_per_drug = np.take(pred_auc, drug_pos_map[d])\n",
    "            \n",
    "            all_same = np.all(auc_per_drug == auc_per_drug[0])\n",
    "            if all_same:\n",
    "                c = 0\n",
    "            else:\n",
    "                c = stats.spearmanr(test_drug_pos_map[d], auc_per_drug)[0]\n",
    "            corr.append(c)\n",
    "        corr_list.append(corr)\n",
    "\n",
    "    fig = plt.figure(figsize=(12, 6))\n",
    "    ax = fig.add_subplot(111)\n",
    "    ax.violinplot(corr_list, pos, showmedians = True)\n",
    "    ax.set_xticks(pos)\n",
    "    ax.set_xticklabels(title_list)\n",
    "    ax.hlines([0, 0.2, 0.4], 0, pos[len(pos)-1] + 1, linestyles='dotted')\n",
    "    plt.show()\n",
    "    \n",
    "    return fig"
   ]
  },
  {
   "cell_type": "code",
   "execution_count": 19,
   "metadata": {},
   "outputs": [],
   "source": [
    "def get_corr_values(network_size):\n",
    "    all_pred = []\n",
    "    sum = 0.0\n",
    "    for i in range(1, 6):\n",
    "        test_file = '../data/' + str(i) + '_drugcell_test.txt'\n",
    "        pred_file = '../result/' + str(i) + '_drugcell.predict'\n",
    "        test = pd.read_csv(test_file, sep='\\t', header=None, names=['C', 'D', 'AUC'])['AUC']\n",
    "        pred = np.loadtxt(pred_file)\n",
    "        all_pred = np.concatenate((all_pred, pred), axis=0)\n",
    "        corr = stats.spearmanr(pred, test)[0]\n",
    "        print('Correlation for #', i, corr)\n",
    "        sum += corr\n",
    "    print('Avg Correlation: {:.3f}'.format(sum/5.0))\n",
    "    return all_pred"
   ]
  },
  {
   "cell_type": "code",
   "execution_count": 13,
   "metadata": {},
   "outputs": [],
   "source": [
    "def compare_model(net_type):\n",
    "\n",
    "    nest_pred = get_corr_values(net_type)\n",
    "    corr = stats.spearmanr(nest_pred, test_df['AUC'])[0]\n",
    "    print('Correlation: {:.3f}'.format(corr))\n",
    "\n",
    "    boxplot = get_boxplot(test_df, nest_pred, \"True AUC\", \"NeST \" + net_type + \" Predicted AUC\")\n",
    "    boxplot.savefig('../plots/nest_' + net_type + '_drugcell_auc.png')\n",
    "\n",
    "    X_c, Y_c, cc_scatterplot = compare_corr(test_df, test_df, drugcell_pred_cv, \n",
    "                                            pcnet_pred, \"Drugcell\", \"NeST \" + net_type + \" Drugcell\")\n",
    "    print('t-test p-value:', stats.ttest_ind(X_c, Y_c)[1])\n",
    "    cc_scatterplot.savefig('../plots/nest_' + net_type + 'drugcell_vs_drugcell.png', bbox_inches = 'tight')\n",
    "\n",
    "    drug_perf_barplot = create_drug_performance_plot(drugs, test_df, nest_pred)\n",
    "    drug_perf_barplot.savefig('../plots/nest_' + net_type + '_drug_perf.png')\n",
    "    \n",
    "    elastic_net_pred = np.loadtxt('../result/elastic_net.predict')\n",
    "    corr = stats.spearmanr(elastic_net_pred, test_df['AUC'])[0]\n",
    "    print('Elastic Net: {:.3f}'.format(corr))\n",
    "\n",
    "    X_c, Y_c, en_scatterplot = compare_corr(test_df, test_df, elastic_net_pred, nest_pred, \n",
    "                                    \"Elastic Net\", \"NeST \" + net_type + \" Drugcell\")\n",
    "    print('t-test p-value:', stats.ttest_ind(X_c, Y_c)[1])\n",
    "    en_scatterplot.savefig('../plots/nest_' + net_type + '_drugcell_vs_elastic_net.png', bbox_inches = 'tight')"
   ]
  },
  {
   "cell_type": "code",
   "execution_count": 22,
   "metadata": {},
   "outputs": [
    {
     "name": "stdout",
     "output_type": "stream",
     "text": [
      "Correlation for # 1 0.7461758916890209\n",
      "Correlation for # 2 0.752653090930576\n",
      "Correlation for # 3 0.7422391658336804\n",
      "Correlation for # 4 0.7479684759439647\n",
      "Correlation for # 5 0.7547057957915623\n",
      "Avg Correlation: 0.749\n",
      "Correlation: 0.748\n",
      "Elastic Net: 0.723\n"
     ]
    },
    {
     "data": {
      "image/png": "[encoded data removed]",
      "text/plain": [
       "<Figure size 648x432 with 1 Axes>"
      ]
     },
     "metadata": {
      "needs_background": "light"
     },
     "output_type": "display_data"
    },
    {
     "name": "stdout",
     "output_type": "stream",
     "text": [
      "t-test p-value: 1.745440840719552e-16\n"
     ]
    }
   ],
   "source": [
    "net_type = 'clinical_trial'\n",
    "\n",
    "nest_pred = get_corr_values(net_type)\n",
    "corr = stats.spearmanr(nest_pred, test_df['AUC'])[0]\n",
    "print('Correlation: {:.3f}'.format(corr))\n",
    "\n",
    "elastic_net_pred = np.loadtxt('../result/elastic_net_clinical_trial.predict')\n",
    "corr = stats.spearmanr(elastic_net_pred, test_df['AUC'])[0]\n",
    "print('Elastic Net: {:.3f}'.format(corr))\n",
    "\n",
    "X_c, Y_c, en_scatterplot = compare_corr(test_df, test_df, elastic_net_pred, nest_pred, \n",
    "                                        \"Elastic Net\", \"NeST \" + net_type + \" Drugcell\")\n",
    "print('t-test p-value:', stats.ttest_ind(X_c, Y_c)[1])\n",
    "en_scatterplot.savefig('../plots/nest_' + net_type + '_drugcell_vs_elastic_net.png', bbox_inches = 'tight')"
   ]
  },
  {
   "cell_type": "code",
   "execution_count": 23,
   "metadata": {},
   "outputs": [
    {
     "name": "stdout",
     "output_type": "stream",
     "text": [
      "NeST breast cancer cell lines: 0.702\n"
     ]
    }
   ],
   "source": [
    "bc_test_df = pd.read_csv('../data/drugcell_breast_cancer_test.txt', sep='\\t', header=None, names=['C', 'D', 'AUC'])\n",
    "nest_all_pred = np.loadtxt('../result/drugcell_breast_cancer.predict')\n",
    "corr = stats.spearmanr(nest_all_pred, bc_test_df['AUC'])[0]\n",
    "print('NeST breast cancer cell lines: {:.3f}'.format(corr))"
   ]
  },
  {
   "cell_type": "code",
   "execution_count": null,
   "metadata": {},
   "outputs": [],
   "source": []
  }
 ],
 "metadata": {
  "kernelspec": {
   "display_name": "Python 3",
   "language": "python",
   "name": "python3"
  },
  "language_info": {
   "codemirror_mode": {
    "name": "ipython",
    "version": 3
   },
   "file_extension": ".py",
   "mimetype": "text/x-python",
   "name": "python",
   "nbconvert_exporter": "python",
   "pygments_lexer": "ipython3",
   "version": "3.7.6"
  }
 },
 "nbformat": 4,
 "nbformat_minor": 4
}
