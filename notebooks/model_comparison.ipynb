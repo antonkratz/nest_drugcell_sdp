{
 "cells": [
  {
   "cell_type": "code",
   "execution_count": null,
   "metadata": {},
   "outputs": [],
   "source": [
    "import pandas as pd\n",
    "import numpy as np\n",
    "import math\n",
    "import matplotlib.pyplot as plt\n",
    "from scipy import stats\n",
    "import seaborn as sns\n",
    "\n",
    "from sklearn.preprocessing import scale\n",
    "from sklearn.preprocessing import robust_scale"
   ]
  },
  {
   "cell_type": "code",
   "execution_count": null,
   "metadata": {},
   "outputs": [],
   "source": [
    "sns.set()\n",
    "sns.set_style(\"white\")\n",
    "sns.set_style(\"ticks\", {\"xtick.major.size\":8, \"ytick.major.size\":8})\n",
    "sns.axes_style(\"whitegrid\")\n",
    "sns.set_palette(\"muted\")\n",
    "sns.color_palette(\"muted\")"
   ]
  },
  {
   "cell_type": "code",
   "execution_count": null,
   "metadata": {},
   "outputs": [],
   "source": [
    "plt.rcParams['pdf.use14corefonts'] = True\n",
    "\n",
    "SMALL_SIZE = 12\n",
    "MEDIUM_SIZE = 16\n",
    "BIGGER_SIZE = 22\n",
    "\n",
    "plt.rc('font', size=SMALL_SIZE)          # controls default text sizes\n",
    "plt.rc('axes', titlesize=SMALL_SIZE)     # fontsize of the axes title\n",
    "plt.rc('axes', labelsize=MEDIUM_SIZE)    # fontsize of the x and y labels\n",
    "plt.rc('xtick', labelsize=SMALL_SIZE)    # fontsize of the tick labels\n",
    "plt.rc('ytick', labelsize=SMALL_SIZE)    # fontsize of the tick labels\n",
    "plt.rc('legend', fontsize=SMALL_SIZE)    # legend fontsize\n",
    "plt.rc('figure', titlesize=BIGGER_SIZE)  # fontsize of the figure title"
   ]
  },
  {
   "cell_type": "code",
   "execution_count": null,
   "metadata": {},
   "outputs": [],
   "source": [
    "#Separating data for each drug/cell\n",
    "\n",
    "def get_pos_map(obj_list, test_df, col):\n",
    "    pos_map = {obj:[] for obj in obj_list}\n",
    "    for i, row in test_df.iterrows():\n",
    "        if row[col] in pos_map:\n",
    "            pos_map[row[col]].append(i)\n",
    "    return pos_map"
   ]
  },
  {
   "cell_type": "code",
   "execution_count": null,
   "metadata": {},
   "outputs": [],
   "source": [
    "#Arrange the obj_list in the descending order of the scores\n",
    "\n",
    "def sort_scores(obj_list, scores):\n",
    "    score_map = {}\n",
    "    for i, obj in enumerate(obj_list):\n",
    "        score_map[obj] = scores[i]\n",
    "    return {obj:sc for obj,sc in sorted(score_map.items(), key=lambda item:item[1], reverse=True)}"
   ]
  },
  {
   "cell_type": "code",
   "execution_count": null,
   "metadata": {},
   "outputs": [],
   "source": [
    "def plot_drug_performance(drug_corr_map):\n",
    "    fig, ax = plt.subplots(figsize=(6,6))\n",
    "    x_red = []\n",
    "    y_red = []\n",
    "    x_blue = []\n",
    "    y_blue = []\n",
    "    for d in drug_corr_map.keys():\n",
    "        if drug_corr_map[d] > 0.5:\n",
    "            x_red.append(d)\n",
    "            y_red.append(drug_corr_map[d])\n",
    "        else:\n",
    "            x_blue.append(d)\n",
    "            y_blue.append(drug_corr_map[d])\n",
    "    \n",
    "    ratio = float(len(x_red))/float(len(drug_corr_map.keys()))\n",
    "    print('Red ratio = ' + str(ratio))\n",
    "    ax.bar(x_red, y_red, color='red', width=1.0)\n",
    "    ax.bar(x_blue, y_blue, color='blue', width=1.0)\n",
    "    ax.set_xticks([])\n",
    "    ax.set_xlabel('Drugs')\n",
    "    ax.set_ylabel('Performance\\nSpearman ρ (Predicted vs. Actual)')\n",
    "    plt.show()\n",
    "    return fig"
   ]
  },
  {
   "cell_type": "code",
   "execution_count": null,
   "metadata": {},
   "outputs": [],
   "source": [
    "def create_drug_performance_plot(drugs, drug_corr_list):\n",
    "    drug_corr_map = sort_scores(drugs, drug_corr_list)\n",
    "    fig_drug_perf = plot_drug_performance(drug_corr_map)\n",
    "    print('Median spearman rho:', np.median(list(drug_corr_map.values())))\n",
    "    return fig_drug_perf"
   ]
  },
  {
   "cell_type": "code",
   "execution_count": null,
   "metadata": {},
   "outputs": [],
   "source": [
    "def create_scatter_plot(Y, X, y_title, x_title):\n",
    "    \n",
    "    scatter_df = pd.DataFrame({x_title: X, y_title: Y})\n",
    "    \n",
    "    fig, ax = plt.subplots(figsize=(6,6))\n",
    "    sns.scatterplot(data=scatter_df, x=x_title, y=y_title, s=35, ax=ax)\n",
    "    \n",
    "    ax.set_xlabel(x_title)\n",
    "    ax.set_ylabel(y_title)\n",
    "    lims = [\n",
    "        np.min([ax.get_xlim(), ax.get_ylim()]),  # min of both axes\n",
    "        np.max([ax.get_xlim(), ax.get_ylim()]),  # max of both axes\n",
    "    ]\n",
    "    plt.plot(lims, lims, 'k--', alpha=0.75, zorder=0)\n",
    "    ax.set_aspect('equal')\n",
    "    ax.set_xlim(lims)\n",
    "    ax.set_ylim(lims)\n",
    "    ax.spines['right'].set_visible(False)\n",
    "    ax.spines['top'].set_visible(False)\n",
    "    ax.yaxis.set_ticks_position('left')\n",
    "    ax.xaxis.set_ticks_position('bottom')\n",
    "    \n",
    "    print('t-test p-value:', stats.ttest_ind(X, Y)[1])\n",
    "    \n",
    "    return fig"
   ]
  },
  {
   "cell_type": "code",
   "execution_count": null,
   "metadata": {},
   "outputs": [],
   "source": [
    "def get_boxplot(df, x_title, y_title):\n",
    "    \n",
    "    fig, ax = plt.subplots(figsize=(6,6))\n",
    "    ax.boxplot(df, showfliers=False, widths=0.5, patch_artist=True)\n",
    "    ax.set_xticklabels(list(df.columns), rotation=45)\n",
    "    ax.set_xlabel(x_title)\n",
    "    ax.set_ylabel(y_title)\n",
    "    \n",
    "    plt.show()\n",
    "    \n",
    "    return fig"
   ]
  },
  {
   "cell_type": "code",
   "execution_count": null,
   "metadata": {},
   "outputs": [],
   "source": [
    "def get_violinplot(df, x_title, y_title):\n",
    "    \n",
    "    fig, ax = plt.subplots(figsize=(6,6))\n",
    "    ax.violinplot(df, showmedians=True)\n",
    "    ax.set_xticklabels(list(df.columns), rotation=45)\n",
    "    ax.set_xlabel(x_title)\n",
    "    ax.set_ylabel(y_title)\n",
    "    \n",
    "    plt.show()\n",
    "    \n",
    "    return fig"
   ]
  },
  {
   "cell_type": "code",
   "execution_count": null,
   "metadata": {},
   "outputs": [],
   "source": [
    "def get_corr_list(obj_list, test_df, pred, zscore_method, col='smiles'):\n",
    "    corr_list = [0.0] * len(obj_list)\n",
    "    pos_map = get_pos_map(obj_list, test_df, col)\n",
    "    for i, obj in enumerate(obj_list):\n",
    "        if len(pos_map[obj]) == 0:\n",
    "            continue\n",
    "        test_vals = np.take(test_df[zscore_method], pos_map[obj])\n",
    "        pred_vals = np.take(pred, pos_map[obj])\n",
    "        corr = 0\n",
    "        all_same = np.all(pred_vals == pred_vals[0])\n",
    "        if all_same:\n",
    "            corr = 0\n",
    "        else:\n",
    "            corr = stats.spearmanr(pred_vals, test_vals)[0]\n",
    "        corr_list[i] = corr\n",
    "    return corr_list"
   ]
  },
  {
   "cell_type": "code",
   "execution_count": null,
   "metadata": {},
   "outputs": [],
   "source": [
    "def get_avg_corr_list(obj_list, all_test, all_pred, zscore_method, col='smiles'):\n",
    "    \n",
    "    corr_df = pd.DataFrame(columns=[k for k in all_pred.keys()])\n",
    "    avg_corr = np.zeros(len(obj_list))\n",
    "    \n",
    "    for k in all_pred.keys():\n",
    "        corr_list = np.array(get_corr_list(obj_list, all_test[k], all_pred[k], zscore_method, col))\n",
    "        corr_df[k] = corr_list\n",
    "        avg_corr += corr_list\n",
    "        \n",
    "    avg_corr /= len(all_pred.keys())\n",
    "    \n",
    "    return avg_corr, corr_df"
   ]
  },
  {
   "cell_type": "code",
   "execution_count": null,
   "metadata": {},
   "outputs": [],
   "source": [
    "def calc_std_vals(df, zscore_method):\n",
    "    std_df = pd.DataFrame(columns=['dataset', 'drug', 'center', 'scale'])\n",
    "    std_list = []\n",
    "\n",
    "    if zscore_method == 'zscore':\n",
    "        for name, group in df.groupby(['dataset', 'drug'])['auc']:\n",
    "            center = group.mean()\n",
    "            scale = group.std()\n",
    "            if math.isnan(scale) or scale == 0.0:\n",
    "                scale = 1.0\n",
    "            temp = pd.DataFrame([[name[0], name[1], center, scale]], columns=std_df.columns)\n",
    "            std_list.append(temp)\n",
    "\n",
    "    elif zscore_method == 'robustz':\n",
    "        for name, group in df.groupby(['dataset', 'drug'])['auc']:\n",
    "            center = group.median()\n",
    "            scale = group.quantile(0.75) - group.quantile(0.25)\n",
    "            if math.isnan(scale) or scale == 0.0:\n",
    "                scale = 1.0\n",
    "            temp = pd.DataFrame([[name[0], name[1], center, scale]], columns=std_df.columns)\n",
    "            std_list.append(temp)\n",
    "    else:\n",
    "        for name, group in df.groupby(['dataset', 'drug'])['auc']:\n",
    "            temp = pd.DataFrame([[name[0], name[1], 0.0, 1.0]], columns=std_df.columns)\n",
    "            std_list.append(temp)\n",
    "\n",
    "    std_df = pd.concat(std_list, ignore_index=True)\n",
    "    return std_df"
   ]
  },
  {
   "cell_type": "code",
   "execution_count": null,
   "metadata": {},
   "outputs": [],
   "source": [
    "def standardize_data(df, std_df, zscore_method):\n",
    "    merged = pd.merge(df, std_df, how=\"left\", on=['dataset', 'drug'], sort=False)\n",
    "    merged[zscore_method] = (merged['auc'] - merged['center']) / merged['scale']\n",
    "    merged = merged[['cell_line', 'smiles', zscore_method]]\n",
    "    return merged"
   ]
  },
  {
   "cell_type": "code",
   "execution_count": null,
   "metadata": {},
   "outputs": [],
   "source": [
    "def normalize_auc(train_std_df, test_df, zscore_method):\n",
    "\n",
    "    test_std_df = calc_std_vals(test_df, zscore_method)\n",
    "    for i, row in test_std_df.iterrows():\n",
    "        dataset = row['dataset']\n",
    "        drug = str(row['drug'])\n",
    "        train_entry = train_std_df.query('dataset == @dataset and drug == @drug')\n",
    "        if not train_entry.empty:\n",
    "            test_std_df.loc[i, 'center'] = float(train_entry['center'])\n",
    "            test_std_df.loc[i, 'scale'] = float(train_entry['scale'])\n",
    "            \n",
    "    test_df = standardize_data(test_df, test_std_df, zscore_method)\n",
    "    return test_df"
   ]
  },
  {
   "cell_type": "code",
   "execution_count": null,
   "metadata": {},
   "outputs": [],
   "source": [
    "def get_cv_data(dataset, ont, zscore_method, fold_size=5):\n",
    "    \n",
    "    sum = 0.0\n",
    "    all_pred = {}\n",
    "    all_test = {}\n",
    "    \n",
    "    for i in range(1, fold_size+1):\n",
    "        \n",
    "        test_file = '../data/' + str(i) + '_test_cg' + dataset + '.txt'\n",
    "        test_df = pd.read_csv(test_file, sep='\\t', header=None, names=['cell_line', 'smiles', 'auc', 'dataset', 'drug'])\n",
    "        \n",
    "        modeldir = '../model_' + ont + dataset + '_' + str(i) + '_' + zscore_method\n",
    "        pred_file = modeldir + '/predict.txt'\n",
    "        pred = np.loadtxt(pred_file)\n",
    "        \n",
    "        train_std_df = pd.read_csv(modeldir + '/std.txt', sep='\\t', header=None, names=['dataset', 'drug', 'center', 'scale'])\n",
    "        test_df = normalize_auc(train_std_df, test_df, zscore_method)\n",
    "        \n",
    "        key = 'Fold' + str(i)\n",
    "        all_pred[key] = pred\n",
    "        all_test[key] = test_df\n",
    "        \n",
    "        corr = stats.spearmanr(pred, test_df[zscore_method])[0]\n",
    "        print('Correlation for #{}: {:.3f}'.format(i, corr))\n",
    "        sum += corr\n",
    "    \n",
    "    print('Avg Correlation: {:.3f}'.format(sum/fold_size))\n",
    "    \n",
    "    return all_test, all_pred"
   ]
  },
  {
   "cell_type": "code",
   "execution_count": null,
   "metadata": {},
   "outputs": [],
   "source": [
    "def get_avg_cv_data(dataset, ont, zscore_method):\n",
    "    \n",
    "    sum = 0.0\n",
    "    all_pred = {}\n",
    "    all_test = {}\n",
    "    \n",
    "    for i in range(1, 6):\n",
    "        \n",
    "        test_file = '../data/' + str(i) + '_test_cg' + dataset + '.txt'\n",
    "        \n",
    "        for s in ['a', 'b', 'c', 'd', 'e']:\n",
    "            net = ont + '_' + s + dataset\n",
    "            modeldir = '../model_' + net + '_' + str(i) + '_' + zscore_method\n",
    "            pred_file = modeldir + '/predict.txt'\n",
    "            pred = np.loadtxt(pred_file)\n",
    "            \n",
    "            test_df = pd.read_csv(test_file, sep='\\t', header=None, names=['cell_line', 'smiles', 'auc', 'dataset', 'drug'])\n",
    "            train_std_df = pd.read_csv(modeldir + '/std.txt', sep='\\t', header=None, names=['dataset', 'drug', 'center', 'scale'])\n",
    "            test_df = normalize_auc(train_std_df, test_df, zscore_method)\n",
    "            \n",
    "            key = 'Fold' + str(i) + s\n",
    "            all_pred[key] = pred\n",
    "            all_test[key] = test_df\n",
    "        \n",
    "            corr = stats.spearmanr(pred, test_df[zscore_method])[0]\n",
    "            print('Correlation for #{}{}: {:.3f}'.format(i, s, corr))\n",
    "            sum += corr\n",
    "    \n",
    "    print('Avg Correlation: {:.3f}'.format(sum/len(all_pred.keys())))\n",
    "    \n",
    "    return all_test, all_pred"
   ]
  },
  {
   "cell_type": "code",
   "execution_count": null,
   "metadata": {},
   "outputs": [],
   "source": [
    "def get_top_100_corr(sorted_obj_list, corr_list):\n",
    "    \n",
    "    corr_100 = []\n",
    "    corr_map = sort_scores(sorted_obj_list, corr_list)\n",
    "    for i, obj in enumerate(sorted_obj_list):\n",
    "        if i == 100:\n",
    "            break\n",
    "        corr_100.append(corr_map[obj])\n",
    "        \n",
    "    return corr_100"
   ]
  },
  {
   "cell_type": "code",
   "execution_count": null,
   "metadata": {},
   "outputs": [],
   "source": [
    "def calc_var(obj_list, train_df, col):\n",
    "    var_list = [0.0] * len(obj_list)\n",
    "    pos_map = get_pos_map(obj_list, train_df, col)\n",
    "    for i, obj in enumerate(obj_list):\n",
    "        train_vals = np.take(train_df['auc'], pos_map[obj])\n",
    "        var_list[i] = np.var(train_vals)\n",
    "    return sort_scores(obj_list, var_list)"
   ]
  },
  {
   "cell_type": "code",
   "execution_count": null,
   "metadata": {},
   "outputs": [],
   "source": [
    "dataset = 'cg'\n",
    "\n",
    "all_df = pd.read_csv('../data/drugcell_all_' + dataset + '.txt', sep=\"\\t\", header=None, names=['cell_line', 'smiles', 'auc', 'dataset', 'drug'])\n",
    "drugs = list(pd.read_csv('../data/drug2ind_' + dataset + '.txt', sep='\\t', header=None, names=['I', 'D'])['D'])\n",
    "cell_lines = list(pd.read_csv(\"../data/cell2ind_cg.txt\", sep=\"\\t\", header=None, names=['I', 'C'])['C'])"
   ]
  },
  {
   "cell_type": "code",
   "execution_count": null,
   "metadata": {},
   "outputs": [],
   "source": [
    "ref_drug_variance_map = calc_var(drugs, all_df, 'smiles')\n",
    "drugs = list(ref_drug_variance_map.keys())\n",
    "top_100_drugs = list(ref_drug_variance_map.keys())[:100]"
   ]
  },
  {
   "cell_type": "code",
   "execution_count": null,
   "metadata": {},
   "outputs": [],
   "source": [
    "ref_cell_variance_map = calc_var(cell_lines, all_df, 'cell_line')\n",
    "top_100_cells = list(ref_cell_variance_map.keys())[:100]"
   ]
  },
  {
   "cell_type": "code",
   "execution_count": null,
   "metadata": {},
   "outputs": [],
   "source": [
    "ont = 'cg'\n",
    "zscore_method = 'auc'\n",
    "\n",
    "cg_all_test, cg_all_pred = get_cv_data('', ont, zscore_method)\n",
    "cg_drug_corr_list, cg_drug_corr_df = get_avg_corr_list(drugs, cg_all_test, cg_all_pred, zscore_method)\n",
    "cg_100 = get_top_100_corr(top_100_drugs, cg_drug_corr_list)\n",
    "\n",
    "cg_cell_corr_list, _ = get_avg_corr_list(cell_lines, cg_all_test, cg_all_pred, zscore_method, col='cell_line')\n",
    "cg_cell_100 = get_top_100_corr(top_100_cells, cg_cell_corr_list)"
   ]
  },
  {
   "cell_type": "code",
   "execution_count": null,
   "metadata": {},
   "outputs": [],
   "source": [
    "ont = 'fmg_718'\n",
    "\n",
    "fmg_all_test, fmg_all_pred = get_cv_data('', ont, zscore_method)\n",
    "fmg_drug_corr_list, fmg_drug_corr_df = get_avg_corr_list(drugs, fmg_all_test, fmg_all_pred, zscore_method)"
   ]
  },
  {
   "cell_type": "code",
   "execution_count": null,
   "metadata": {},
   "outputs": [],
   "source": [
    "cg_fmg_scatterplot = create_scatter_plot(cg_drug_corr_list, fmg_drug_corr_list, \"CPG-NeST\", \"FMG-NeST\")\n",
    "cg_fmg_scatterplot.savefig(\"../plots/CPG-NeST_FMG-NeST.pdf\", bbox_inches = 'tight')"
   ]
  },
  {
   "cell_type": "code",
   "execution_count": null,
   "metadata": {},
   "outputs": [],
   "source": [
    "ont = 'random_718'\n",
    "\n",
    "random_all_test, random_all_pred = get_avg_cv_data('', ont, zscore_method)\n",
    "random_drug_corr_list, random_drug_corr_df = get_avg_corr_list(drugs, random_all_test, random_all_pred, zscore_method)\n",
    "random_100 = get_top_100_corr(top_100_drugs, random_drug_corr_list)"
   ]
  },
  {
   "cell_type": "code",
   "execution_count": null,
   "metadata": {},
   "outputs": [],
   "source": [
    "cg_random_scatterplot = create_scatter_plot(cg_drug_corr_list, random_drug_corr_list, \"CPG-NeST\", \"RSG-NeST\")\n",
    "cg_random_scatterplot.savefig(\"../plots/CPG-NeST_RSG-NeST.pdf\", bbox_inches = 'tight')"
   ]
  },
  {
   "cell_type": "code",
   "execution_count": null,
   "metadata": {},
   "outputs": [],
   "source": [
    "cg_random_100_scatterplot = create_scatter_plot(cg_100, random_100, \"CPG-NeST\", \"RSG-NeST\")\n",
    "cg_random_100_scatterplot.savefig(\"../plots/CPG-NeST_RSG-NeST_100.pdf\", bbox_inches = 'tight')"
   ]
  },
  {
   "cell_type": "code",
   "execution_count": null,
   "metadata": {},
   "outputs": [],
   "source": [
    "ont = 'cg_bb'\n",
    "\n",
    "bb_all_test, bb_all_pred = get_avg_cv_data('', ont, zscore_method)\n",
    "bb_drug_corr_list, bb_drug_corr_df = get_avg_corr_list(drugs, bb_all_test, bb_all_pred, zscore_method)"
   ]
  },
  {
   "cell_type": "code",
   "execution_count": null,
   "metadata": {},
   "outputs": [],
   "source": [
    "cg_bb_scatterplot = create_scatter_plot(cg_drug_corr_list, bb_drug_corr_list, \"CPG-NeST\", \"Shuffled-CPG-NeST\")\n",
    "cg_bb_scatterplot.savefig(\"../plots/CPG-NeST_Shuffled-CPG-NeST.pdf\", bbox_inches = 'tight')"
   ]
  },
  {
   "cell_type": "code",
   "execution_count": null,
   "metadata": {},
   "outputs": [],
   "source": [
    "ont = 'cg_go'\n",
    "\n",
    "cg_go_all_test, cg_go_all_pred = get_cv_data('', ont, zscore_method)\n",
    "cg_go_drug_corr_list, cg_go_drug_corr_df = get_avg_corr_list(drugs, cg_go_all_test, cg_go_all_pred, zscore_method)"
   ]
  },
  {
   "cell_type": "code",
   "execution_count": null,
   "metadata": {},
   "outputs": [],
   "source": [
    "ont = 'fmg_718_go'\n",
    "\n",
    "fmg_go_all_test, fmg_go_all_pred = get_cv_data('', ont, zscore_method)\n",
    "fmg_go_drug_corr_list, fmg_go_drug_corr_df = get_avg_corr_list(drugs, fmg_go_all_test, fmg_go_all_pred, zscore_method)"
   ]
  },
  {
   "cell_type": "code",
   "execution_count": null,
   "metadata": {},
   "outputs": [],
   "source": [
    "cg_go_scatterplot = create_scatter_plot(cg_drug_corr_list, cg_go_drug_corr_list, \"CPG-NeST\", \"CPG-GO\")\n",
    "cg_go_scatterplot.savefig(\"../plots/CPG-NeST_CPG-GO.pdf\", bbox_inches = 'tight')"
   ]
  },
  {
   "cell_type": "code",
   "execution_count": null,
   "metadata": {},
   "outputs": [],
   "source": [
    "cg_fmg_go_scatterplot = create_scatter_plot(cg_drug_corr_list, fmg_go_drug_corr_list, \"CPG-NeST\", \"FMG-GO\")\n",
    "cg_fmg_go_scatterplot.savefig(\"../plots/CPG-NeST_FMG-GO.pdf\", bbox_inches = 'tight')"
   ]
  },
  {
   "cell_type": "code",
   "execution_count": null,
   "metadata": {},
   "outputs": [],
   "source": [
    "ont = 'cg'\n",
    "dataset = '_strict'\n",
    "\n",
    "strict_all_test, strict_all_pred = get_cv_data(dataset, ont, zscore_method)\n",
    "strict_drug_corr_list, strict_drug_corr_df = get_avg_corr_list(drugs, strict_all_test, strict_all_pred, zscore_method)\n",
    "strict_100 = get_top_100_corr(top_100_drugs, strict_drug_corr_list)\n",
    "\n",
    "strict_cell_corr_list, _ = get_avg_corr_list(cell_lines, strict_all_test, strict_all_pred, zscore_method, col='cell_line')\n",
    "strict_cell_100 = get_top_100_corr(top_100_cells, strict_cell_corr_list)"
   ]
  },
  {
   "cell_type": "code",
   "execution_count": null,
   "metadata": {},
   "outputs": [],
   "source": [
    "#cg_strict_scatterplot = create_scatter_plot(cg_drug_corr_list, strict_drug_corr_list, \"CPG-NeST\", \"CPG-NeST-Strict\")\n",
    "#cg_strict_scatterplot.savefig(\"../plots/CPG-NeST_CPG-NeST-Strict.pdf\", bbox_inches = 'tight')"
   ]
  },
  {
   "cell_type": "code",
   "execution_count": null,
   "metadata": {},
   "outputs": [],
   "source": [
    "#cg_strict_100_scatterplot = create_scatter_plot(cg_100, strict_100, \"CPG-NeST\", \"CPG-NeST-Strict\")\n",
    "#cg_strict_100_scatterplot.savefig(\"../plots/CPG-NeST_CPG-NeST-Strict_100.pdf\", bbox_inches = 'tight')"
   ]
  },
  {
   "cell_type": "code",
   "execution_count": null,
   "metadata": {},
   "outputs": [],
   "source": [
    "dataset = '_strict'\n",
    "ont = 'random_718'\n",
    "\n",
    "random_strict_all_test, random_strict_all_pred = get_avg_cv_data(dataset, ont, zscore_method)\n",
    "random_strict_drug_corr_list, random_strict_drug_corr_df = get_avg_corr_list(drugs, random_strict_all_test, random_strict_all_pred, zscore_method)\n",
    "random_strict_100 = get_top_100_corr(top_100_drugs, random_strict_drug_corr_list)"
   ]
  },
  {
   "cell_type": "code",
   "execution_count": null,
   "metadata": {},
   "outputs": [],
   "source": [
    "strict_random_strict_100_scatterplot = create_scatter_plot(strict_100, random_strict_100, \"CPG-NeST-Strict\", \"RSG-NeST-Strict\")\n",
    "strict_random_strict_100_scatterplot.savefig(\"../plots/CPG-NeST-Strict_RSG-NeST-Strict_100.pdf\", bbox_inches = 'tight')"
   ]
  },
  {
   "cell_type": "code",
   "execution_count": null,
   "metadata": {},
   "outputs": [],
   "source": [
    "ont = 'cg'\n",
    "dataset = \"_cell_loo\"\n",
    "zscore_method = 'auc'\n",
    "\n",
    "cg_logo_test, cg_logo_pred = get_cv_data(dataset, ont, zscore_method, fold_size=100)\n",
    "\n",
    "cg_logo_test_list = [cg_logo_test[k] for k in cg_logo_test.keys()]\n",
    "cg_logo_pred_list = [cg_logo_pred[k] for k in cg_logo_pred.keys()]\n",
    "cg_logo_test_concat = pd.concat(cg_logo_test_list, axis=0, ignore_index=True, sort=False)\n",
    "cg_logo_pred_concat = np.concatenate(cg_logo_pred_list, axis=0)\n",
    "\n",
    "cg_logo_drug_corr_list = get_corr_list(drugs, cg_logo_test_concat, cg_logo_pred_concat, zscore_method)\n",
    "\n",
    "logo_cell_corr_list, _ = get_avg_corr_list(top_100_cells, cg_logo_test, cg_logo_pred, 'auc', col='cell_line')\n",
    "logo_cell_100 = get_top_100_corr(top_100_cells, logo_cell_corr_list)"
   ]
  },
  {
   "cell_type": "code",
   "execution_count": null,
   "metadata": {},
   "outputs": [],
   "source": [
    "zscore_method = 'zscore'\n",
    "\n",
    "cg_all_test_zscore, cg_all_pred_zscore = get_cv_data('', ont, zscore_method)\n",
    "cg_drug_corr_list_zscore, _ = get_avg_corr_list(drugs, cg_all_test_zscore, cg_all_pred_zscore, zscore_method)\n",
    "\n",
    "cg_cell_corr_list_zscore, _ = get_avg_corr_list(cell_lines, cg_all_test_zscore, cg_all_pred_zscore, zscore_method, col='cell_line')\n",
    "cg_cell_100_zscore = get_top_100_corr(top_100_cells, cg_cell_corr_list_zscore)"
   ]
  },
  {
   "cell_type": "code",
   "execution_count": null,
   "metadata": {},
   "outputs": [],
   "source": [
    "dataset = '_strict'\n",
    "zscore_method = 'zscore'\n",
    "\n",
    "strict_all_test_zscore, strict_all_pred_zscore = get_cv_data(dataset, ont, zscore_method)\n",
    "strict_drug_corr_list_zscore, _ = get_avg_corr_list(drugs, strict_all_test_zscore, strict_all_pred_zscore, zscore_method)\n",
    "\n",
    "strict_cell_corr_list_zscore, _ = get_avg_corr_list(cell_lines, strict_all_test_zscore, strict_all_pred_zscore, zscore_method, col='cell_line')\n",
    "strict_cell_100_zscore = get_top_100_corr(top_100_cells, strict_cell_corr_list_zscore)"
   ]
  },
  {
   "cell_type": "code",
   "execution_count": null,
   "metadata": {},
   "outputs": [],
   "source": [
    "ont = 'cg'\n",
    "dataset = \"_cell_loo\"\n",
    "zscore_method = 'zscore'\n",
    "\n",
    "cg_logo_zscore_test, cg_logo_zscore_pred = get_cv_data(dataset, ont, zscore_method, fold_size=100)\n",
    "\n",
    "cg_logo_zscore_test_list = [cg_logo_zscore_test[k] for k in cg_logo_zscore_test.keys()]\n",
    "cg_logo_zscore_pred_list = [cg_logo_zscore_pred[k] for k in cg_logo_zscore_pred.keys()]\n",
    "cg_logo_zscore_test_concat = pd.concat(cg_logo_zscore_test_list, axis=0, ignore_index=True, sort=False)\n",
    "cg_logo_zscore_pred_concat = np.concatenate(cg_logo_zscore_pred_list, axis=0)\n",
    "\n",
    "cg_logo_zscore_drug_corr_list = get_corr_list(drugs, cg_logo_zscore_test_concat, cg_logo_zscore_pred_concat, zscore_method)\n",
    "\n",
    "logo_zscore_cell_corr_list, _ = get_avg_corr_list(top_100_cells, cg_logo_zscore_test, cg_logo_zscore_pred, zscore_method, col='cell_line')\n",
    "logo_zscore_cell_100 = get_top_100_corr(top_100_cells, logo_zscore_cell_corr_list)"
   ]
  },
  {
   "cell_type": "code",
   "execution_count": null,
   "metadata": {},
   "outputs": [],
   "source": [
    "zscore_method = 'robustz'\n",
    "\n",
    "cg_all_test_robustz, cg_all_pred_robustz = get_cv_data('', ont, zscore_method)\n",
    "cg_drug_corr_list_robustz, _ = get_avg_corr_list(drugs, cg_all_test_robustz, cg_all_pred_robustz, zscore_method)\n",
    "\n",
    "cg_cell_corr_list_robustz, _ = get_avg_corr_list(cell_lines, cg_all_test_robustz, cg_all_pred_robustz, zscore_method, col='cell_line')\n",
    "cg_cell_100_robustz = get_top_100_corr(top_100_cells, cg_cell_corr_list_robustz)"
   ]
  },
  {
   "cell_type": "code",
   "execution_count": null,
   "metadata": {},
   "outputs": [],
   "source": [
    "dataset = '_strict'\n",
    "zscore_method = 'robustz'\n",
    "\n",
    "strict_all_test_robustz, strict_all_pred_robustz = get_cv_data(dataset, ont, zscore_method)\n",
    "strict_drug_corr_list_robustz, _ = get_avg_corr_list(drugs, strict_all_test_robustz, strict_all_pred_robustz, zscore_method)\n",
    "\n",
    "strict_cell_corr_list_robustz, _ = get_avg_corr_list(cell_lines, strict_all_test_robustz, strict_all_pred_robustz, zscore_method, col='cell_line')\n",
    "strict_cell_100_robustz = get_top_100_corr(top_100_cells, strict_cell_corr_list_robustz)"
   ]
  },
  {
   "cell_type": "code",
   "execution_count": null,
   "metadata": {},
   "outputs": [],
   "source": [
    "drug_corr_df = pd.DataFrame({\n",
    "    \"AUC\": cg_drug_corr_list,\n",
    "    \"Strict AUC\": strict_drug_corr_list,\n",
    "    \"LOGO AUC\": cg_logo_drug_corr_list,\n",
    "    \"Scaler\": cg_drug_corr_list_zscore,\n",
    "    \"Strict scaler\": strict_drug_corr_list_zscore,\n",
    "    \"LOGO scaler\": cg_logo_zscore_drug_corr_list,\n",
    "    \"Robust scaler\": cg_drug_corr_list_robustz,\n",
    "    \"Strict robust scaler\": strict_drug_corr_list_robustz,\n",
    "    })"
   ]
  },
  {
   "cell_type": "code",
   "execution_count": null,
   "metadata": {},
   "outputs": [],
   "source": [
    "drug_corr_boxplot = get_boxplot(drug_corr_df, \"Cross-Validation stringencies\", \"Performance\\nSpearman ρ (Predicted vs. Actual)\")"
   ]
  },
  {
   "cell_type": "code",
   "execution_count": null,
   "metadata": {},
   "outputs": [],
   "source": [
    "drug_corr_violinplot = get_violinplot(drug_corr_df, \"Cross-Validation stringencies\", \"Performance\\nSpearman ρ (Predicted vs. Actual)\")"
   ]
  },
  {
   "cell_type": "code",
   "execution_count": null,
   "metadata": {},
   "outputs": [],
   "source": [
    "from statistics import median\n",
    "\n",
    "print(median(cg_drug_corr_list), min(cg_drug_corr_list), max(cg_drug_corr_list))\n",
    "print(median(strict_drug_corr_list), min(strict_drug_corr_list), max(strict_drug_corr_list))\n",
    "print(median(cg_logo_drug_corr_list), min(cg_logo_drug_corr_list), max(cg_logo_drug_corr_list))\n",
    "print('\\n')\n",
    "print(median(cg_drug_corr_list_zscore), min(cg_drug_corr_list_zscore), max(cg_drug_corr_list_zscore))\n",
    "print(median(strict_drug_corr_list_zscore), min(strict_drug_corr_list_zscore), max(strict_drug_corr_list_zscore))\n",
    "print(median(cg_logo_zscore_drug_corr_list), min(cg_logo_zscore_drug_corr_list), max(cg_logo_zscore_drug_corr_list))\n",
    "print('\\n')\n",
    "print(median(cg_drug_corr_list_robustz), min(cg_drug_corr_list_robustz), max(cg_drug_corr_list_robustz))\n",
    "print(median(strict_drug_corr_list_robustz), min(strict_drug_corr_list_robustz), max(strict_drug_corr_list_robustz))\n",
    "print(median(cg_logo_robustz_drug_corr_list), min(cg_logo_robustz_drug_corr_list), max(cg_logo_robustz_drug_corr_list))"
   ]
  },
  {
   "cell_type": "code",
   "execution_count": null,
   "metadata": {},
   "outputs": [],
   "source": [
    "cg_zscore_scatterplot = create_scatter_plot(cg_drug_corr_list, cg_drug_corr_list_robustz, \"CPG-NeST AUC\", \"CPG-NeST Robustz\")\n",
    "#cg_fmg_scatterplot.savefig(\"../plots/CPG-NeST_FMG-NeST.pdf\", bbox_inches = 'tight')"
   ]
  },
  {
   "cell_type": "code",
   "execution_count": null,
   "metadata": {},
   "outputs": [],
   "source": [
    "cg_zscore_strict_scatterplot = create_scatter_plot(strict_drug_corr_list, strict_drug_corr_list_robustz, \"CPG-NeST Strict AUC\", \"CPG-NeST Strict Robustz\")\n",
    "#cg_fmg_scatterplot.savefig(\"../plots/CPG-NeST_FMG-NeST.pdf\", bbox_inches = 'tight')"
   ]
  },
  {
   "cell_type": "code",
   "execution_count": null,
   "metadata": {},
   "outputs": [],
   "source": [
    "zscore_logo_scatterplot = create_scatter_plot(cg_logo_drug_corr_list, cg_logo_zscore_drug_corr_list, \"CPG-NeST-LOGO\", \"CPG-NeST-LOGO-Zscore\")"
   ]
  },
  {
   "cell_type": "code",
   "execution_count": null,
   "metadata": {},
   "outputs": [],
   "source": [
    "cg_cell_corr_list, _ = get_avg_corr_list(cell_lines, cg_all_test, cg_all_pred, 'auc', col='cell_line')\n",
    "cg_cell_100 = get_top_100_corr(top_100_cells, cg_cell_corr_list)\n",
    "    \n",
    "strict_cell_corr_list, _ = get_avg_corr_list(cell_lines, strict_all_test, strict_all_pred, 'auc', col='cell_line')\n",
    "strict_cell_100 = get_top_100_corr(top_100_cells, strict_cell_corr_list)\n",
    "\n",
    "cg_cell_corr_list_zscore, _ = get_avg_corr_list(cell_lines, cg_all_test_zscore, cg_all_pred_zscore, 'zscore', col='cell_line')\n",
    "cg_cell_100_zscore = get_top_100_corr(top_100_cells, cg_cell_corr_list_zscore)\n",
    "    \n",
    "strict_cell_corr_list_zscore, _ = get_avg_corr_list(cell_lines, strict_all_test_zscore, strict_all_pred_zscore, 'zscore', col='cell_line')\n",
    "strict_cell_100_zscore = get_top_100_corr(top_100_cells, strict_cell_corr_list_zscore)\n",
    "\n",
    "cg_cell_corr_list_robustz, _ = get_avg_corr_list(cell_lines, cg_all_test_robustz, cg_all_pred_robustz, 'robustz', col='cell_line')\n",
    "cg_cell_100_robustz = get_top_100_corr(top_100_cells, cg_cell_corr_list_robustz)\n",
    "    \n",
    "strict_cell_corr_list_robustz, _ = get_avg_corr_list(cell_lines, strict_all_test_robustz, strict_all_pred_robustz, 'robustz', col='cell_line')\n",
    "strict_cell_100_robustz = get_top_100_corr(top_100_cells, strict_cell_corr_list_robustz)"
   ]
  },
  {
   "cell_type": "code",
   "execution_count": null,
   "metadata": {},
   "outputs": [],
   "source": [
    "print(median(strict_cell_corr_list_robustz), min(strict_cell_corr_list_robustz), max(strict_cell_corr_list_robustz))"
   ]
  },
  {
   "cell_type": "code",
   "execution_count": null,
   "metadata": {},
   "outputs": [],
   "source": [
    "logo_cell_corr_list = get_corr_list(top_100_cells, cg_logo_test_concat, cg_logo_pred_concat, 'auc', col='cell_line')\n",
    "logo_cell_100 = get_top_100_corr(top_100_cells, logo_cell_corr_list)\n",
    "\n",
    "logo_zscore_cell_corr_list = get_corr_list(top_100_cells, cg_logo_test_zscore_concat, cg_logo_pred_zscore_concat, 'zscore', col='cell_line')\n",
    "logo_zscore_cell_100 = get_top_100_corr(top_100_cells, logo_zscore_cell_corr_list)"
   ]
  },
  {
   "cell_type": "code",
   "execution_count": null,
   "metadata": {},
   "outputs": [],
   "source": [
    "cell_corr_df = pd.DataFrame({\n",
    "    \"Strict AUC\": strict_cell_corr_list,\n",
    "    \"Scaler\": cg_cell_corr_list_zscore,\n",
    "    \"Strict scaler\": strict_cell_corr_list_zscore,\n",
    "    \"Robust scaler\": cg_cell_corr_list_robustz,\n",
    "    \"Strict robust scaler\": strict_cell_corr_list_robustz,\n",
    "    })"
   ]
  },
  {
   "cell_type": "code",
   "execution_count": null,
   "metadata": {},
   "outputs": [],
   "source": [
    "cell_corr_boxplot = get_boxplot(cell_corr_df, \"Cross-Validation stringencies\", \"Performance\\nSpearman ρ (Predicted vs. Actual)\")"
   ]
  },
  {
   "cell_type": "code",
   "execution_count": null,
   "metadata": {},
   "outputs": [],
   "source": [
    "cell_corr_violinplot = get_violinplot(cell_corr_df, \"Cross-Validation stringencies\", \"Performance\\nSpearman ρ (Predicted vs. Actual)\")"
   ]
  },
  {
   "cell_type": "code",
   "execution_count": null,
   "metadata": {},
   "outputs": [],
   "source": []
  },
  {
   "cell_type": "code",
   "execution_count": null,
   "metadata": {},
   "outputs": [],
   "source": [
    "#ont = 'cg'\n",
    "#dataset = \"_drug_loo\"\n",
    "\n",
    "#top_100_drugs = list(ref_drug_variance_map.keys())[:100]\n",
    "\n",
    "#cg_drug_loo_test, cg_drug_loo_pred = get_cv_data(dataset, ont, fold_size=100)"
   ]
  },
  {
   "cell_type": "code",
   "execution_count": null,
   "metadata": {},
   "outputs": [],
   "source": [
    "#cg_drug_loo_corr_list, _ = get_avg_corr_list(top_100_drugs, cg_drug_loo_test, cg_drug_loo_pred)\n",
    "#cg_100 = get_top_100_corr(top_100_drugs, cg_drug_corr_list)\n",
    "#cg_drug_loo_scatterplot = create_scatter_plot(cg_drug_loo_corr_list, cg_100, \"Drug LOO NeST\", \"CTG-NeST\")"
   ]
  },
  {
   "cell_type": "code",
   "execution_count": null,
   "metadata": {},
   "outputs": [],
   "source": [
    "#cg_drug_loo_test_list = [cg_drug_loo_test[k] for k in cg_drug_loo_test.keys()]\n",
    "#cg_drug_loo_pred_list = [cg_drug_loo_pred[k] for k in cg_drug_loo_pred.keys()]\n",
    "#cg_drug_loo_test_concat = pd.concat(cg_drug_loo_test_list, axis=0, ignore_index=True, sort=False)\n",
    "#cg_drug_loo_pred_concat = np.concatenate(cg_drug_loo_pred_list, axis=0)"
   ]
  },
  {
   "cell_type": "code",
   "execution_count": null,
   "metadata": {},
   "outputs": [],
   "source": [
    "#cg_drug_loo_corr_list = get_corr_list(top_100_drugs, cg_drug_loo_test_concat, cg_drug_loo_pred_concat)\n",
    "\n",
    "#cg_100 = get_top_100_corr(top_100_drugs, cg_drug_corr_list)\n",
    "#drug_loo_100 = get_top_100_corr(top_100_drugs, cg_drug_loo_corr_list)\n",
    "    \n",
    "#cg_drug_loo_100_scatterplot = create_scatter_plot(drug_loo_100, cg_100, \"Drug LOO NeST\", \"CPG-NeST\")"
   ]
  },
  {
   "cell_type": "code",
   "execution_count": null,
   "metadata": {},
   "outputs": [],
   "source": []
  }
 ],
 "metadata": {
  "kernelspec": {
   "display_name": "Python 3 (ipykernel)",
   "language": "python",
   "name": "python3"
  },
  "language_info": {
   "codemirror_mode": {
    "name": "ipython",
    "version": 3
   },
   "file_extension": ".py",
   "mimetype": "text/x-python",
   "name": "python",
   "nbconvert_exporter": "python",
   "pygments_lexer": "ipython3",
   "version": "3.7.10"
  }
 },
 "nbformat": 4,
 "nbformat_minor": 4
}
