{
 "cells": [
  {
   "cell_type": "code",
   "execution_count": 1,
   "metadata": {},
   "outputs": [],
   "source": [
    "import pandas as pd\n",
    "import numpy as np\n",
    "import math\n",
    "import matplotlib.pyplot as plt\n",
    "from scipy import stats\n",
    "import glob"
   ]
  },
  {
   "cell_type": "code",
   "execution_count": 2,
   "metadata": {},
   "outputs": [],
   "source": [
    "SMALL_SIZE = 12\n",
    "MEDIUM_SIZE = 16\n",
    "BIGGER_SIZE = 22\n",
    "\n",
    "plt.rc('font', size=SMALL_SIZE)          # controls default text sizes\n",
    "plt.rc('axes', titlesize=SMALL_SIZE)     # fontsize of the axes title\n",
    "plt.rc('axes', labelsize=MEDIUM_SIZE)    # fontsize of the x and y labels\n",
    "plt.rc('xtick', labelsize=SMALL_SIZE)    # fontsize of the tick labels\n",
    "plt.rc('ytick', labelsize=SMALL_SIZE)    # fontsize of the tick labels\n",
    "plt.rc('legend', fontsize=SMALL_SIZE)    # legend fontsize\n",
    "plt.rc('figure', titlesize=BIGGER_SIZE)  # fontsize of the figure title"
   ]
  },
  {
   "cell_type": "code",
   "execution_count": 3,
   "metadata": {},
   "outputs": [],
   "source": [
    "#Separating data for each drug\n",
    "\n",
    "def get_drug_pos_map(test_df, drugs):\n",
    "    drug_pos_map = {d:[] for d in drugs}\n",
    "    for i, row in test_df.iterrows():\n",
    "        drug_pos_map[row['D']].append(i)\n",
    "    return drug_pos_map"
   ]
  },
  {
   "cell_type": "code",
   "execution_count": 4,
   "metadata": {},
   "outputs": [],
   "source": [
    "#Arrange the drugs in descending order of correlation\n",
    "\n",
    "def sort_drugs_corr(drugs, test_df, predicted):\n",
    "    drug_corr_map = {}\n",
    "    drug_pos_map = get_drug_pos_map(test_df, drugs)\n",
    "    for d in drugs:\n",
    "        test_vals = np.take(test_df['AUC'], drug_pos_map[d])\n",
    "        pred_vals = np.take(predicted, drug_pos_map[d])\n",
    "        drug_corr_map[d] = stats.spearmanr(test_vals, pred_vals)[0]\n",
    "    return {drug:corr for drug,corr in sorted(drug_corr_map.items(), key=lambda item:item[1], reverse=True)}\n"
   ]
  },
  {
   "cell_type": "code",
   "execution_count": 5,
   "metadata": {},
   "outputs": [],
   "source": [
    "def plot_drug_performance(drug_corr_map):\n",
    "    fig = plt.figure(figsize=(9, 8))\n",
    "    ax = fig.add_subplot(111)\n",
    "    x_red = []\n",
    "    y_red = []\n",
    "    x_blue = []\n",
    "    y_blue = []\n",
    "    for d in drug_corr_map.keys():\n",
    "        if drug_corr_map[d] > 0.5:\n",
    "            x_red.append(d)\n",
    "            y_red.append(drug_corr_map[d])\n",
    "        else:\n",
    "            x_blue.append(d)\n",
    "            y_blue.append(drug_corr_map[d])\n",
    "    \n",
    "    ratio = float(len(x_red))/float(len(drug_corr_map.keys()))\n",
    "    print('Red ratio = ' + str(ratio))\n",
    "    ax.bar(x_red, y_red, color='red', width=1.0)\n",
    "    ax.bar(x_blue, y_blue, color='blue', width=1.0)\n",
    "    ax.set_xticks([])\n",
    "    ax.set_xlabel('Drugs')\n",
    "    ax.set_ylabel('Performance\\nSpearman ρ (Predicted vs. Actual)')\n",
    "    plt.show()\n",
    "    return fig"
   ]
  },
  {
   "cell_type": "code",
   "execution_count": 6,
   "metadata": {},
   "outputs": [],
   "source": [
    "def create_drug_performance_plot(drugs, test_df, predicted_result):\n",
    "    drug_corr_map = sort_drugs_corr(drugs, test_df, predicted_result)\n",
    "    fig_drug_perf = plot_drug_performance(drug_corr_map)\n",
    "    print('Median spearman rho:', np.median(list(drug_corr_map.values())))\n",
    "    return fig_drug_perf"
   ]
  },
  {
   "cell_type": "code",
   "execution_count": 7,
   "metadata": {},
   "outputs": [],
   "source": [
    "def get_boxplot(test_df, predicted, x_title, y_title):\n",
    "    \n",
    "    df = pd.DataFrame(list(zip(test_df['AUC'], predicted)), columns=['t', 'p'])\n",
    "    df = df.sort_values(by=['t'])\n",
    "\n",
    "    data = []\n",
    "    for i in range(9):\n",
    "        temp = []\n",
    "        data.append(temp)\n",
    "\n",
    "    for i, row in df.iterrows():\n",
    "        if row['t'] < 0.3:\n",
    "            data[0].append(row['p'])\n",
    "        elif row['t'] < 0.4:\n",
    "            data[1].append(row['p'])\n",
    "        elif row['t'] < 0.5:\n",
    "            data[2].append(row['p'])\n",
    "        elif row['t'] < 0.6:\n",
    "            data[3].append(row['p'])\n",
    "        elif row['t'] < 0.7:\n",
    "            data[4].append(row['p'])\n",
    "        elif row['t'] < 0.8:\n",
    "            data[5].append(row['p'])\n",
    "        elif row['t'] < 0.9:\n",
    "            data[6].append(row['p'])\n",
    "        elif row['t'] < 1.0:\n",
    "            data[7].append(row['p'])\n",
    "        else:\n",
    "            data[8].append(row['p'])\n",
    "    \n",
    "    fig = plt.figure(figsize=(6, 5))\n",
    "    ax = fig.add_subplot(111)\n",
    "    ax.boxplot(data, showfliers=False, widths=0.99, patch_artist=True)\n",
    "    ax.set_yticks([0, 0.1, 0.2, 0.3, 0.4, 0.5, 0.6, 0.7, 0.8, 0.9, 1.0])\n",
    "    ax.set_xticks(np.arange(.5, 10, 1))\n",
    "    ax.set_xticklabels(['0', '0.3', '0.4', '0.5', '0.6', '0.7', '0.8', '0.9', '1.0', 'Inf'])\n",
    "    ax.grid(True)\n",
    "    ax.set_xlabel(x_title)\n",
    "    ax.set_ylabel(y_title)\n",
    "    \n",
    "    plt.show()\n",
    "    \n",
    "    return fig\n"
   ]
  },
  {
   "cell_type": "code",
   "execution_count": 15,
   "metadata": {},
   "outputs": [],
   "source": [
    "def compare_corr(x_test_df, y_test_df, x_label, y_label, x_title, y_title):\n",
    "    X_corr = []\n",
    "    Y_corr = []\n",
    "    x_drug_pos_map = get_drug_pos_map(x_test_df, drugs)\n",
    "    y_drug_pos_map = get_drug_pos_map(y_test_df, drugs)\n",
    "    for d in drugs:\n",
    "        x_test_vals = np.take(x_test_df['AUC'], x_drug_pos_map[d])\n",
    "        y_test_vals = np.take(y_test_df['AUC'], y_drug_pos_map[d])\n",
    "        X_vals = np.take(x_label, x_drug_pos_map[d])\n",
    "        Y_vals = np.take(y_label, y_drug_pos_map[d])\n",
    "        X_c = Y_c = 0\n",
    "        all_same = np.all(X_vals == X_vals[0])\n",
    "        if all_same:\n",
    "            X_c = 0\n",
    "        else:\n",
    "            X_c = stats.spearmanr(X_vals, x_test_vals)[0]\n",
    "        all_same = np.all(Y_vals == Y_vals[0])\n",
    "        if all_same:\n",
    "            Y_c = 0\n",
    "        else:\n",
    "            Y_c = stats.spearmanr(Y_vals, y_test_vals)[0]\n",
    "        X_corr.append(X_c)\n",
    "        Y_corr.append(Y_c)\n",
    "        #if X_c > (Y_c + 0.1) and X_c > 0.5:\n",
    "        #    print(d)\n",
    "\n",
    "    fig = plt.figure(figsize=(9, 6))\n",
    "    ax = fig.add_subplot(111)\n",
    "    ax.scatter(X_corr, Y_corr, s = 10)\n",
    "    \n",
    "    ax.set_xlabel(x_title)\n",
    "    ax.set_ylabel(y_title)\n",
    "    lims = [\n",
    "        np.min([ax.get_xlim(), ax.get_ylim()]),  # min of both axes\n",
    "        np.max([ax.get_xlim(), ax.get_ylim()]),  # max of both axes\n",
    "    ]\n",
    "    ax.plot(lims, lims, 'k-', alpha=0.75, zorder=0)\n",
    "    ax.set_aspect('equal')\n",
    "    ax.set_xlim(lims)\n",
    "    ax.set_ylim(lims)\n",
    "    plt.show()\n",
    "    \n",
    "    return X_corr, Y_corr, fig"
   ]
  },
  {
   "cell_type": "code",
   "execution_count": 9,
   "metadata": {},
   "outputs": [],
   "source": [
    "def compare_corr_violin(test_df, pred_auc_list, title_list, pos):\n",
    "    \n",
    "    corr_list = []\n",
    "    test_drug_pos_map = dict()\n",
    "    \n",
    "    drug_pos_map = get_drug_pos_map(test_df, drugs)\n",
    "    for d in drugs:\n",
    "        test_drug_pos_map[d] = np.take(test_df['AUC'], drug_pos_map[d])\n",
    "    \n",
    "    for pred_auc in pred_auc_list:\n",
    "        corr = []\n",
    "        for d in drugs:\n",
    "            c = 0\n",
    "            auc_per_drug = np.take(pred_auc, drug_pos_map[d])\n",
    "            \n",
    "            all_same = np.all(auc_per_drug == auc_per_drug[0])\n",
    "            if all_same:\n",
    "                c = 0\n",
    "            else:\n",
    "                c = stats.spearmanr(test_drug_pos_map[d], auc_per_drug)[0]\n",
    "            corr.append(c)\n",
    "        corr_list.append(corr)\n",
    "\n",
    "    fig = plt.figure(figsize=(12, 6))\n",
    "    ax = fig.add_subplot(111)\n",
    "    ax.violinplot(corr_list, pos, showmedians = True)\n",
    "    ax.set_xticks(pos)\n",
    "    ax.set_xticklabels(title_list)\n",
    "    ax.hlines([0, 0.2, 0.4], 0, pos[len(pos)-1] + 1, linestyles='dotted')\n",
    "    plt.show()\n",
    "    \n",
    "    return fig"
   ]
  },
  {
   "cell_type": "code",
   "execution_count": 10,
   "metadata": {},
   "outputs": [],
   "source": [
    "def get_corr_values(ntype):\n",
    "    all_pred = []\n",
    "    sum = 0.0\n",
    "    for i in range(1, 6):\n",
    "        test_file = '../data/' + str(i) + '_drugcell_test.txt'\n",
    "        pred_file = '../result/' + str(i) + '_drugcell_' + ntype + '.predict'\n",
    "        test = pd.read_csv(test_file, sep='\\t', header=None, names=['C', 'D', 'AUC'])['AUC']\n",
    "        pred = np.loadtxt(pred_file)\n",
    "        all_pred = np.concatenate((all_pred, pred), axis=0)\n",
    "        corr = stats.spearmanr(pred, test)[0]\n",
    "        print('Correlation for #', i, corr)\n",
    "        sum += corr\n",
    "    print('Avg Correlation: {:.3f}'.format(sum/5.0))\n",
    "    return all_pred"
   ]
  },
  {
   "cell_type": "code",
   "execution_count": 11,
   "metadata": {},
   "outputs": [],
   "source": [
    "def compare_model(net_type):\n",
    "\n",
    "    nest_pred = get_corr_values(net_type)\n",
    "    corr = stats.spearmanr(nest_pred, test_df['AUC'])[0]\n",
    "    print('Correlation: {:.3f}'.format(corr))\n",
    "\n",
    "    boxplot = get_boxplot(test_df, nest_pred, \"True AUC\", \"NeST \" + net_type + \" Predicted AUC\")\n",
    "    boxplot.savefig('../plots/nest_' + net_type + '_drugcell_auc.png')\n",
    "\n",
    "    X_c, Y_c, cc_scatterplot = compare_corr(test_df, test_df, drugcell_pred_cv, \n",
    "                                            pcnet_pred, \"Drugcell\", \"NeST \" + net_type + \" Drugcell\")\n",
    "    print('t-test p-value:', stats.ttest_ind(X_c, Y_c)[1])\n",
    "    cc_scatterplot.savefig('../plots/nest_' + net_type + 'drugcell_vs_drugcell.png', bbox_inches = 'tight')\n",
    "\n",
    "    drug_perf_barplot = create_drug_performance_plot(drugs, test_df, nest_pred)\n",
    "    drug_perf_barplot.savefig('../plots/nest_' + net_type + '_drug_perf.png')\n",
    "    \n",
    "    elastic_net_pred = np.loadtxt('../result/elastic_net.predict')\n",
    "    corr = stats.spearmanr(elastic_net_pred, test_df['AUC'])[0]\n",
    "    print('Elastic Net: {:.3f}'.format(corr))\n",
    "\n",
    "    X_c, Y_c, en_scatterplot = compare_corr(test_df, test_df, elastic_net_pred, nest_pred, \n",
    "                                    \"Elastic Net\", \"NeST \" + net_type + \" Drugcell\")\n",
    "    print('t-test p-value:', stats.ttest_ind(X_c, Y_c)[1])\n",
    "    en_scatterplot.savefig('../plots/nest_' + net_type + '_drugcell_vs_elastic_net.png', bbox_inches = 'tight')"
   ]
  },
  {
   "cell_type": "code",
   "execution_count": 12,
   "metadata": {},
   "outputs": [],
   "source": [
    "test_df = pd.read_csv('../data/drugcell_all.txt', sep='\\t', header=None, names=['C', 'D', 'AUC'])\n",
    "drugs = pd.read_csv('../data/drug2ind.txt', sep='\\t', header=None, names=['I', 'D'])['D']"
   ]
  },
  {
   "cell_type": "code",
   "execution_count": null,
   "metadata": {},
   "outputs": [],
   "source": [
    "net_type = 'clinical_trial'\n",
    "\n",
    "nest_ct_pred = get_corr_values('ct')\n",
    "corr = stats.spearmanr(nest_ct_pred, test_df['AUC'])[0]\n",
    "print('Correlation: {:.3f}'.format(corr))\n",
    "\n",
    "nest_r_pred = get_corr_values('r')\n",
    "corr = stats.spearmanr(nest_r_pred, test_df['AUC'])[0]\n",
    "print('Correlation: {:.3f}'.format(corr))\n",
    "\n",
    "nest_mf_pred = get_corr_values('mf')\n",
    "corr = stats.spearmanr(nest_mf_pred, test_df['AUC'])[0]\n",
    "print('Correlation: {:.3f}'.format(corr))\n",
    "\n",
    "nest_bb_pred = get_corr_values('bb')\n",
    "corr = stats.spearmanr(nest_bb_pred, test_df['AUC'])[0]\n",
    "print('Correlation: {:.3f}'.format(corr))\n",
    "\n",
    "X_c, Y_c, r_scatterplot = compare_corr(test_df, test_df, nest_r_pred, nest_ct_pred, \n",
    "                                        \"Random\", \"Clinical Trial\")\n",
    "print('t-test p-value:', stats.ttest_ind(X_c, Y_c)[1])\n",
    "r_scatterplot.savefig('../plots/nest_' + net_type + '_drugcell_vs_random.png', bbox_inches = 'tight')\n",
    "\n",
    "X_c, Y_c, mf_scatterplot = compare_corr(test_df, test_df, nest_mf_pred, nest_ct_pred, \n",
    "                                        \"Most Frequent\", \"Clinical Trial\")\n",
    "print('t-test p-value:', stats.ttest_ind(X_c, Y_c)[1])\n",
    "mf_scatterplot.savefig('../plots/nest_' + net_type + '_drugcell_vs_mf.png', bbox_inches = 'tight')\n",
    "\n",
    "X_c, Y_c, bb_scatterplot = compare_corr(test_df, test_df, nest_bb_pred, nest_ct_pred, \n",
    "                                        \"Black Box\", \"Clinical Trial\")\n",
    "print('t-test p-value:', stats.ttest_ind(X_c, Y_c)[1])\n",
    "bb_scatterplot.savefig('../plots/nest_' + net_type + '_drugcell_vs_bb.png', bbox_inches = 'tight')\n",
    "\n",
    "elastic_net_pred = np.loadtxt('../result/elastic_net_clinical_trial.predict')\n",
    "corr = stats.spearmanr(elastic_net_pred, test_df['AUC'])[0]\n",
    "print('Elastic Net: {:.3f}'.format(corr))\n",
    "\n",
    "X_c, Y_c, en_scatterplot = compare_corr(test_df, test_df, elastic_net_pred, nest_ct_pred, \n",
    "                                        \"Elastic Net\", \"NeST \" + net_type + \" Drugcell\")\n",
    "print('t-test p-value:', stats.ttest_ind(X_c, Y_c)[1])\n",
    "en_scatterplot.savefig('../plots/nest_' + net_type + '_drugcell_vs_elastic_net.png', bbox_inches = 'tight')"
   ]
  },
  {
   "cell_type": "code",
   "execution_count": null,
   "metadata": {},
   "outputs": [],
   "source": [
    "bc_test_df = pd.read_csv('../data/drugcell_breast_cancer_test.txt', sep='\\t', header=None, names=['C', 'D', 'AUC'])\n",
    "nest_all_pred = np.loadtxt('../result/drugcell_breast_cancer.predict')\n",
    "corr = stats.spearmanr(nest_all_pred, bc_test_df['AUC'])[0]\n",
    "print('NeST breast cancer cell lines: {:.3f}'.format(corr))"
   ]
  },
  {
   "cell_type": "code",
   "execution_count": null,
   "metadata": {},
   "outputs": [],
   "source": [
    "net_type = 'ddram'\n",
    "\n",
    "nest_ddram_pred = get_corr_values(net_type)\n",
    "corr = stats.spearmanr(nest_ddram_pred, test_df['AUC'])[0]\n",
    "print('Correlation: {:.3f}'.format(corr))\n",
    "\n",
    "nest_ct_pred = get_corr_values('ct')\n",
    "corr = stats.spearmanr(nest_ct_pred, test_df['AUC'])[0]\n",
    "print('Correlation: {:.3f}'.format(corr))\n",
    "\n",
    "X_c, Y_c, r_scatterplot = compare_corr(test_df, test_df, nest_ddram_pred, nest_ct_pred, \n",
    "                                        \"DDRAM\", \"NeST Clinical Trial\")\n",
    "print('t-test p-value:', stats.ttest_ind(X_c, Y_c)[1])\n",
    "r_scatterplot.savefig('../plots/nest_cinical_trial_drugcell_vs_ddram.png', bbox_inches = 'tight')"
   ]
  },
  {
   "cell_type": "code",
   "execution_count": 16,
   "metadata": {},
   "outputs": [
    {
     "name": "stdout",
     "output_type": "stream",
     "text": [
      "Correlation for # 1 0.7696617391105585\n",
      "Correlation for # 2 0.7652900184707693\n",
      "Correlation for # 3 0.7670544836219881\n",
      "Correlation for # 4 0.7619722342373748\n",
      "Correlation for # 5 0.7720463782746719\n",
      "Avg Correlation: 0.767\n",
      "Correlation for # 1 0.7432755088134123\n",
      "Correlation for # 2 0.7513782656713943\n",
      "Correlation for # 3 0.752172898269549\n",
      "Correlation for # 4 0.7515691880346465\n",
      "Correlation for # 5 0.7462172948321972\n",
      "Avg Correlation: 0.749\n"
     ]
    },
    {
     "data": {
      "image/png": "[encoded data removed]",
      "text/plain": [
       "<Figure size 648x432 with 1 Axes>"
      ]
     },
     "metadata": {
      "needs_background": "light"
     },
     "output_type": "display_data"
    },
    {
     "name": "stdout",
     "output_type": "stream",
     "text": [
      "t-test p-value: 1.889183283852479e-27\n",
      "Correlation for # 1 0.7526732885450811\n",
      "Correlation for # 2 0.7510513148757297\n",
      "Correlation for # 3 0.750073121363783\n",
      "Correlation for # 4 0.7466491991957941\n",
      "Correlation for # 5 0.7545551098689919\n",
      "Avg Correlation: 0.751\n"
     ]
    },
    {
     "data": {
      "image/png": "[encoded data removed]",
      "text/plain": [
       "<Figure size 648x432 with 1 Axes>"
      ]
     },
     "metadata": {
      "needs_background": "light"
     },
     "output_type": "display_data"
    },
    {
     "name": "stdout",
     "output_type": "stream",
     "text": [
      "t-test p-value: 3.9547149802821427e-19\n"
     ]
    }
   ],
   "source": [
    "dc_pred = []\n",
    "sum = 0.0\n",
    "for i in range(1, 6):\n",
    "    test_file = '../../drugcell/data/' + str(i) + '_drugcell_test.txt'\n",
    "    pred_file = '../../drugcell/result/' + str(i) + '_drugcell.predict'\n",
    "    test = pd.read_csv(test_file, sep='\\t', header=None, names=['C', 'D', 'AUC'])['AUC']\n",
    "    pred = np.loadtxt(pred_file)\n",
    "    dc_pred = np.concatenate((dc_pred, pred), axis=0)\n",
    "    corr = stats.spearmanr(pred, test)[0]\n",
    "    print('Correlation for #', i, corr)\n",
    "    sum += corr\n",
    "print('Avg Correlation: {:.3f}'.format(sum/5.0))\n",
    "corr = stats.spearmanr(dc_pred, test_df['AUC'])[0]\n",
    "\n",
    "\n",
    "nest_ct_pred = get_corr_values('ct')\n",
    "corr = stats.spearmanr(nest_ct_pred, test_df['AUC'])[0]\n",
    "\n",
    "X_c, Y_c, r_scatterplot = compare_corr(test_df, test_df, dc_pred, nest_ct_pred, \n",
    "                                        \"DrugCell\", \"NeST Clinical Trial DrugCell\")\n",
    "print('t-test p-value:', stats.ttest_ind(X_c, Y_c)[1])\n",
    "r_scatterplot.savefig('../plots/nest_cinical_trial_drugcell_vs_drugcell.png', bbox_inches = 'tight')\n",
    "\n",
    "\n",
    "nest_mf_pred = get_corr_values('mf')\n",
    "corr = stats.spearmanr(nest_ct_pred, test_df['AUC'])[0]\n",
    "\n",
    "X_c, Y_c, r_scatterplot = compare_corr(test_df, test_df, dc_pred, nest_mf_pred, \n",
    "                                        \"DrugCell\", \"NeST Most Frequent 336g DrugCell\")\n",
    "print('t-test p-value:', stats.ttest_ind(X_c, Y_c)[1])\n",
    "r_scatterplot.savefig('../plots/nest_mf_drugcell_vs_drugcell.png', bbox_inches = 'tight')"
   ]
  }
 ],
 "metadata": {
  "kernelspec": {
   "display_name": "Python 3",
   "language": "python",
   "name": "python3"
  },
  "language_info": {
   "codemirror_mode": {
    "name": "ipython",
    "version": 3
   },
   "file_extension": ".py",
   "mimetype": "text/x-python",
   "name": "python",
   "nbconvert_exporter": "python",
   "pygments_lexer": "ipython3",
   "version": "3.7.6"
  }
 },
 "nbformat": 4,
 "nbformat_minor": 4
}
