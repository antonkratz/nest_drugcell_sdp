{
 "cells": [
  {
   "cell_type": "code",
   "execution_count": 1,
   "metadata": {},
   "outputs": [],
   "source": [
    "import os\n",
    "import math\n",
    "import pandas as pd\n",
    "import numpy as np\n",
    "from ddot import Ontology"
   ]
  },
  {
   "cell_type": "code",
   "execution_count": 2,
   "metadata": {},
   "outputs": [],
   "source": [
    "def load_hierarchy_network():\n",
    "    \n",
    "    network_name = '../data/NeST/NeST'\n",
    "    \n",
    "    nodes_df = pd.read_csv(network_name + '_node.csv')[['name', 'Genes']]\n",
    "    \n",
    "    edges_df = pd.read_csv(network_name + '_edge.sif', sep='\\t', header=None, names = ['S', 'M', 'T'])\n",
    "    \n",
    "    return nodes_df, edges_df"
   ]
  },
  {
   "cell_type": "code",
   "execution_count": 3,
   "metadata": {},
   "outputs": [],
   "source": [
    "def filter_ontology(ont, ont_file):\n",
    "    \n",
    "    if len(ont.get_roots()) > 1:\n",
    "        cur_roots = ont.get_roots()\n",
    "        ont.add_root(\"NEST_ROOT\", inplace=True)\n",
    "        ont.delete(to_delete=cur_roots, inplace=True)\n",
    "    \n",
    "    ont.propagate(direction='reverse', inplace=True)\n",
    "    ont = ont.collapse_ontology(method='python')\n",
    "    \n",
    "    terms_to_delete = []\n",
    "    for key in ont.term_2_gene.keys():\n",
    "        if len(ont.term_2_gene[key]) < 3:\n",
    "            terms_to_delete.append(key)\n",
    "    ont.delete(to_delete=terms_to_delete, inplace=True)\n",
    "    \n",
    "    ont.to_table(ont_file, clixo_format=True)\n",
    "    \n",
    "    return ont"
   ]
  },
  {
   "cell_type": "code",
   "execution_count": 4,
   "metadata": {},
   "outputs": [],
   "source": [
    "def convert_to_clixo_format(hierarchy_edges_df, hierarchy_nodes_df, gene_list, ont_file):\n",
    "    \n",
    "    ont = pd.DataFrame()\n",
    "    temp_file = '../data/temp_ont.txt'\n",
    "    \n",
    "    for _, row in hierarchy_edges_df.iterrows():\n",
    "        ont = ont.append({'Source' : row['S'], 'Target' : row['T'], 'Mapping' : 'default'}, ignore_index=True)\n",
    "\n",
    "    for _, row in hierarchy_nodes_df.iterrows():\n",
    "        if pd.isna(row['Genes']):\n",
    "            continue\n",
    "        genes = row['Genes'].split()\n",
    "        for gene in genes:\n",
    "            if gene in gene_list:\n",
    "                ont = ont.append({'Source' : row['name'], 'Target' : gene, 'Mapping' : 'gene'}, ignore_index=True)\n",
    "\n",
    "    ont = ont[['Source', 'Target', 'Mapping']]\n",
    "    ont.to_csv(temp_file, sep='\\t', header=False, index=False)\n",
    "    ont = Ontology.from_table(temp_file, clixo_format=True)\n",
    "    os.remove(temp_file)\n",
    "    \n",
    "    return filter_ontology(ont, ont_file)"
   ]
  },
  {
   "cell_type": "code",
   "execution_count": 12,
   "metadata": {},
   "outputs": [],
   "source": [
    "n_type = 'nci'\n",
    "\n",
    "gene_list = list(pd.read_csv('../data/gene2ind_' + n_type + '.txt', sep='\\t', header=None, names=['I', 'G'])['G'])\n",
    "\n",
    "h_nodes_df, h_edges_df = load_hierarchy_network()"
   ]
  },
  {
   "cell_type": "code",
   "execution_count": 13,
   "metadata": {},
   "outputs": [
    {
     "name": "stdout",
     "output_type": "stream",
     "text": [
      "Unifying 2 roots into one super-root\n",
      "718 genes, 164 terms, 1482 gene-term relations, 200 term-term relations\n",
      "node_attributes: []\n",
      "edge_attributes: []\n",
      "['NEST_ROOT']\n"
     ]
    }
   ],
   "source": [
    "ont_file = '../data/ontology_' + n_type + '.txt'\n",
    "\n",
    "ont = convert_to_clixo_format(h_edges_df, h_nodes_df, gene_list, ont_file)\n",
    "\n",
    "print(ont)\n",
    "print(ont.get_roots())"
   ]
  },
  {
   "cell_type": "code",
   "execution_count": 11,
   "metadata": {},
   "outputs": [
    {
     "name": "stdout",
     "output_type": "stream",
     "text": [
      "718 genes, 164 terms, 1405 gene-term relations, 200 term-term relations\n",
      "node_attributes: []\n",
      "edge_attributes: []\n",
      "['NEST_ROOT']\n"
     ]
    }
   ],
   "source": [
    "#Randomize the genes\n",
    "\n",
    "ont = Ontology.from_table(ont_file, clixo_format=True)\n",
    "ont2_file = '../data/ontology_' + n_type + '_bb_e.txt'\n",
    "\n",
    "ont2 = ont.shuffle_genes()\n",
    "\n",
    "ont2 = filter_ontology(ont2, ont2_file)\n",
    "\n",
    "print(ont2)\n",
    "print(ont2.get_roots())"
   ]
  },
  {
   "cell_type": "code",
   "execution_count": null,
   "metadata": {},
   "outputs": [],
   "source": []
  }
 ],
 "metadata": {
  "kernelspec": {
   "display_name": "Python 3 (ipykernel)",
   "language": "python",
   "name": "python3"
  },
  "language_info": {
   "codemirror_mode": {
    "name": "ipython",
    "version": 3
   },
   "file_extension": ".py",
   "mimetype": "text/x-python",
   "name": "python",
   "nbconvert_exporter": "python",
   "pygments_lexer": "ipython3",
   "version": "3.7.3"
  }
 },
 "nbformat": 4,
 "nbformat_minor": 4
}
