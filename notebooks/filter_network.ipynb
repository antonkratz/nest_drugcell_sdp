{
 "cells": [
  {
   "cell_type": "code",
   "execution_count": null,
   "metadata": {},
   "outputs": [],
   "source": [
    "import os\n",
    "import math\n",
    "import pandas as pd\n",
    "import numpy as np\n",
    "from ddot import Ontology"
   ]
  },
  {
   "cell_type": "code",
   "execution_count": null,
   "metadata": {},
   "outputs": [],
   "source": [
    "def load_hierarchy_network():\n",
    "    \n",
    "    network_name = '../data/NeST/NeST'\n",
    "    \n",
    "    nodes_df = pd.read_csv(network_name + '_node.csv')[['name', 'Genes']]\n",
    "    \n",
    "    edges_df = pd.read_csv(network_name + '_edge.sif', sep='\\t', header=None, names = ['S', 'M', 'T'])\n",
    "    \n",
    "    return nodes_df, edges_df"
   ]
  },
  {
   "cell_type": "code",
   "execution_count": null,
   "metadata": {},
   "outputs": [],
   "source": [
    "def convert_to_clixo_format(hierarchy_edges_df, hierarchy_nodes_df, gene_list, min_size):\n",
    "    \n",
    "    ont_df = pd.DataFrame()\n",
    "    temp_file = '../data/temp_ont.txt'\n",
    "    \n",
    "    for _, row in hierarchy_edges_df.iterrows():\n",
    "        ont_df = ont_df.append({'Source' : row['S'], 'Target' : row['T'], 'Mapping' : 'default'}, ignore_index=True)\n",
    "\n",
    "    for _, row in hierarchy_nodes_df.iterrows():\n",
    "        genes = row['Genes'].split()\n",
    "        for gene in genes:\n",
    "            if gene in gene_list:\n",
    "                ont_df = ont_df.append({'Source' : row['name'], 'Target' : gene, 'Mapping' : 'gene'}, ignore_index=True)\n",
    "\n",
    "    ont_df = ont_df[['Source', 'Target', 'Mapping']]\n",
    "    ont_df.to_csv(temp_file, sep='\\t', header=False, index=False)\n",
    "    ont = Ontology.from_table(temp_file, clixo_format=True)\n",
    "    os.remove(temp_file)\n",
    "    \n",
    "    ont = ont.collapse_ontology(method='python', min_term_size=min_size)\n",
    "    ont = ont.propagate(direction='reverse')\n",
    "        \n",
    "    return ont"
   ]
  },
  {
   "cell_type": "code",
   "execution_count": null,
   "metadata": {},
   "outputs": [],
   "source": [
    "def ont_neuron_count(ont, k):\n",
    "    total = 0\n",
    "    for term in ont.term_2_gene.keys():\n",
    "        g = len(ont.term_2_gene[term])\n",
    "        c = len(ont.parent_2_child[term])\n",
    "        size = k * (k*c + g)\n",
    "        total += size\n",
    "    return total"
   ]
  },
  {
   "cell_type": "code",
   "execution_count": null,
   "metadata": {},
   "outputs": [],
   "source": [
    "n_type = 'random_718_e'\n",
    "min_term_size = 5\n",
    "\n",
    "gene_list = list(pd.read_csv('../data/gene2ind_' + n_type + '.txt', sep='\\t', header=None, names=['I', 'G'])['G'])\n",
    "\n",
    "h_nodes_df, h_edges_df = load_hierarchy_network()"
   ]
  },
  {
   "cell_type": "code",
   "execution_count": null,
   "metadata": {},
   "outputs": [],
   "source": [
    "ont_file = '../data/ontology_' + n_type + '.txt'\n",
    "\n",
    "ont = convert_to_clixo_format(h_edges_df, h_nodes_df, gene_list, min_term_size)\n",
    "ont.to_table(ont_file, clixo_format=True)\n",
    "\n",
    "print(ont)\n",
    "print(ont.get_roots())\n",
    "\n",
    "total_neuron_count = ont_neuron_count(ont, 6) + len(gene_list)\n",
    "print(total_neuron_count)"
   ]
  },
  {
   "cell_type": "code",
   "execution_count": null,
   "metadata": {},
   "outputs": [],
   "source": [
    "#Randomize the genes\n",
    "\n",
    "ont2_file = '../data/ontology_' + n_type + '_bb_d.txt'\n",
    "\n",
    "ont = Ontology.from_table(ont_file, clixo_format=True)\n",
    "\n",
    "ont2 = ont.shuffle_genes()\n",
    "ont2 = ont2.collapse_ontology(method='python', min_term_size=min_term_size)\n",
    "ont2.to_table(ont2_file, clixo_format=True)\n",
    "\n",
    "print(ont2)\n",
    "print(ont2.get_roots())"
   ]
  },
  {
   "cell_type": "code",
   "execution_count": null,
   "metadata": {},
   "outputs": [],
   "source": [
    "# Filter go ontology\n",
    "\n",
    "network_name = \"cg_go\"\n",
    "\n",
    "go_ont_file = \"../data/ontology_\" + network_name + \".txt\"\n",
    "go_ont = Ontology.from_table(go_ont_file, clixo_format=True)\n",
    "print(go_ont)\n",
    "print(go_ont.get_roots())\n",
    "total_neuron_count = ont_neuron_count(go_ont, 6) + len(gene_list)\n",
    "print(total_neuron_count)"
   ]
  },
  {
   "cell_type": "code",
   "execution_count": null,
   "metadata": {},
   "outputs": [],
   "source": [
    "for term in go_ont.term_2_gene.keys():\n",
    "    if len(go_ont.term_2_gene[term]) <= 2:\n",
    "        print(term, go_ont.term_2_gene[term], go_ont.parent_2_child[term])"
   ]
  }
 ],
 "metadata": {
  "kernelspec": {
   "display_name": "Python 3 (ipykernel)",
   "language": "python",
   "name": "python3"
  },
  "language_info": {
   "codemirror_mode": {
    "name": "ipython",
    "version": 3
   },
   "file_extension": ".py",
   "mimetype": "text/x-python",
   "name": "python",
   "nbconvert_exporter": "python",
   "pygments_lexer": "ipython3",
   "version": "3.7.10"
  }
 },
 "nbformat": 4,
 "nbformat_minor": 4
}
