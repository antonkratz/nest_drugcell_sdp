{
 "cells": [
  {
   "cell_type": "code",
   "execution_count": 1,
   "metadata": {},
   "outputs": [],
   "source": [
    "import os\n",
    "import math\n",
    "import pandas as pd\n",
    "import numpy as np\n",
    "import matplotlib.pyplot as plt\n",
    "from ddot import Ontology\n",
    "import networkx as nx\n",
    "from sklearn.preprocessing import StandardScaler"
   ]
  },
  {
   "cell_type": "code",
   "execution_count": 19,
   "metadata": {},
   "outputs": [],
   "source": [
    "def load_hierarchy_network():\n",
    "    \n",
    "    network_name = '../data/NeST/NeST'\n",
    "    \n",
    "    nodes_df = pd.read_csv(network_name + '_node.csv')[['name', 'Annotation', 'Genes']]\n",
    "    \n",
    "    edges_df = pd.read_csv(network_name + '_edge.sif', sep='\\t', header=None, names = ['S', 'M', 'T'])\n",
    "    \n",
    "    return nodes_df, edges_df"
   ]
  },
  {
   "cell_type": "code",
   "execution_count": 3,
   "metadata": {},
   "outputs": [],
   "source": [
    "def convert_to_clixo_format(hierarchy_nodes_df, hierarchy_edges_df, gene_list, n_type):\n",
    "    \n",
    "    ont = pd.DataFrame()\n",
    "    temp_file = '../data/' + n_type + '.txt'\n",
    "    ont_file = '../data/NeST_' + n_type + '_ont.txt'\n",
    "    \n",
    "    for _, row in hierarchy_edges_df.iterrows():\n",
    "        ont = ont.append({'Source' : row['S'], 'Target' : row['T'], 'Mapping' : 'default'}, ignore_index=True)\n",
    "\n",
    "    for _, row in hierarchy_nodes_df.iterrows():\n",
    "        if pd.isna(row['Genes']):\n",
    "            continue\n",
    "        genes = row['Genes'].split()\n",
    "        for gene in genes:\n",
    "            if gene in gene_list:\n",
    "                ont = ont.append({'Source' : row['name'], 'Target' : gene, 'Mapping' : 'gene'}, ignore_index=True)\n",
    "\n",
    "    ont = ont[['Source', 'Target', 'Mapping']]\n",
    "    \n",
    "    ont.to_csv(temp_file, sep='\\t', header=False, index=False)\n",
    "    ont = Ontology.from_table(temp_file, clixo_format=True)\n",
    "    os.remove(temp_file)\n",
    "    \n",
    "    ont.propagate(direction='reverse', inplace=True)\n",
    "    \n",
    "    ont = ont.collapse_ontology(method='python')\n",
    "    \n",
    "    ont.to_table(ont_file, clixo_format=True)\n",
    "    \n",
    "    return ont"
   ]
  },
  {
   "cell_type": "code",
   "execution_count": 4,
   "metadata": {},
   "outputs": [],
   "source": [
    "def create_gene_mutation_feature(gene_list, cell_mutation_matrix):\n",
    "    g_m = {}        \n",
    "    cell_mutation_matrix = cell_mutation_matrix.transpose()\n",
    "    for i, gene in enumerate(gene_list):\n",
    "        g_m[gene] = np.sum(cell_mutation_matrix[i])/float(len(cell_mutation_matrix[i]))\n",
    "        \n",
    "    return g_m"
   ]
  },
  {
   "cell_type": "code",
   "execution_count": 5,
   "metadata": {},
   "outputs": [],
   "source": [
    "def get_subsystem_count(gene, hierarchy_nodes_df):\n",
    "    counter = 0\n",
    "    for _,row in hierarchy_nodes_df.iterrows():\n",
    "        if pd.isna(row['Genes']):\n",
    "            continue\n",
    "        if gene in row['Genes']:\n",
    "            counter += 1\n",
    "    \n",
    "    return counter"
   ]
  },
  {
   "cell_type": "code",
   "execution_count": 6,
   "metadata": {},
   "outputs": [],
   "source": [
    "def create_gene_subsystem_feature(hierarchy_nodes_df, hierarchy_edges_df, gene_list):\n",
    "    dG = nx.DiGraph()\n",
    "    for _,row in hierarchy_edges_df.iterrows():\n",
    "        dG.add_edge(row['S'], row['T'])\n",
    "    leaf_nodes = [n for n in dG.nodes() if dG.out_degree(n) == 0]\n",
    "    \n",
    "    g_s = {}\n",
    "    for gene in gene_list:\n",
    "        g_s[gene] = get_subsystem_count(gene, hierarchy_nodes_df)/float(len(hierarchy_nodes_df))\n",
    "        \n",
    "    return g_s, leaf_nodes"
   ]
  },
  {
   "cell_type": "code",
   "execution_count": 7,
   "metadata": {},
   "outputs": [],
   "source": [
    "def create_feature_matrix(gene_list, g_m, g_s):\n",
    "    feature_df = pd.DataFrame()\n",
    "    for g in gene_list:\n",
    "        feature_df = feature_df.append({'G' : g, 'M' : g_m[g], 'S' : g_s[g]}, ignore_index=True)\n",
    "    \n",
    "    return feature_df"
   ]
  },
  {
   "cell_type": "code",
   "execution_count": 8,
   "metadata": {},
   "outputs": [],
   "source": [
    "def score_subsystems(hierarchy_nodes_df, gene_list, feature_df):\n",
    "    s_score = {}\n",
    "    for _,row in hierarchy_nodes_df.iterrows():\n",
    "        if pd.isna(row['Genes']):\n",
    "            continue\n",
    "        genes = row['Genes'].split()\n",
    "        num = 0\n",
    "        den = 0\n",
    "        for g in genes:\n",
    "            if g not in gene_list:\n",
    "                continue\n",
    "            gm = float(feature_df[feature_df.G == g]['M'])\n",
    "            gs = float(feature_df[feature_df.G == g]['S'])\n",
    "            num += gs * math.sqrt(gm)\n",
    "            den += gs\n",
    "        if num == 0:\n",
    "            s_score[row['name']] = 0\n",
    "        else:\n",
    "            s_score[row['name']] = num/den\n",
    "    \n",
    "    return s_score"
   ]
  },
  {
   "cell_type": "code",
   "execution_count": 20,
   "metadata": {},
   "outputs": [],
   "source": [
    "n_type = 'clinical_trial'\n",
    "\n",
    "gene_list = list(pd.read_csv('../data/gene2ind_' + n_type + '.txt', sep='\\t', header=None, names=['I', 'G'])['G'])\n",
    "cell_mutation = np.loadtxt('../data/cell2mutation_' + n_type + '.txt', delimiter=',')\n",
    "\n",
    "h_nodes_df, h_edges_df = load_hierarchy_network()"
   ]
  },
  {
   "cell_type": "code",
   "execution_count": 21,
   "metadata": {},
   "outputs": [],
   "source": [
    "g_m = create_gene_mutation_feature(gene_list, cell_mutation)\n",
    "g_s, leaf_subsystems = create_gene_subsystem_feature(h_nodes_df, h_edges_df, gene_list)"
   ]
  },
  {
   "cell_type": "code",
   "execution_count": 22,
   "metadata": {},
   "outputs": [],
   "source": [
    "feature_df = create_feature_matrix(gene_list, g_m, g_s)"
   ]
  },
  {
   "cell_type": "code",
   "execution_count": 23,
   "metadata": {},
   "outputs": [],
   "source": [
    "s_score = score_subsystems(h_nodes_df, gene_list, feature_df)"
   ]
  },
  {
   "cell_type": "code",
   "execution_count": 24,
   "metadata": {},
   "outputs": [],
   "source": [
    "leaf_subsystem_score = {}\n",
    "for ls in leaf_subsystems:\n",
    "    leaf_subsystem_score[ls] = s_score[ls]\n",
    "leaf_subsystem_score = {s:sc for s,sc in sorted(leaf_subsystem_score.items(), key=lambda item:item[1])}"
   ]
  },
  {
   "cell_type": "code",
   "execution_count": 25,
   "metadata": {},
   "outputs": [],
   "source": [
    "low_score_systems = [sys for sys in leaf_subsystem_score.keys() if leaf_subsystem_score[sys] < 0.001]\n",
    "low_score_df = h_nodes_df[h_nodes_df.name.isin(low_score_systems)]\n",
    "for _,row in low_score_df.iterrows():\n",
    "    gene_count = len(row['Genes'].split())\n",
    "    if gene_count > 10:\n",
    "        low_score_systems.remove(row['name'])"
   ]
  },
  {
   "cell_type": "code",
   "execution_count": 26,
   "metadata": {},
   "outputs": [
    {
     "data": {
      "text/plain": [
       "82"
      ]
     },
     "execution_count": 26,
     "metadata": {},
     "output_type": "execute_result"
    }
   ],
   "source": [
    "len(low_score_systems)"
   ]
  },
  {
   "cell_type": "code",
   "execution_count": 27,
   "metadata": {},
   "outputs": [],
   "source": [
    "h_nodes_df = h_nodes_df.query(\"name not in @low_score_systems\")\n",
    "h_edges_df = h_edges_df.query(\"T not in @low_score_systems\")"
   ]
  },
  {
   "cell_type": "code",
   "execution_count": 28,
   "metadata": {},
   "outputs": [],
   "source": [
    "ont = convert_to_clixo_format(h_nodes_df, h_edges_df, gene_list, n_type)"
   ]
  },
  {
   "cell_type": "code",
   "execution_count": 29,
   "metadata": {},
   "outputs": [
    {
     "name": "stdout",
     "output_type": "stream",
     "text": [
      "326 genes, 194 terms, 835 gene-term relations, 234 term-term relations\n",
      "node_attributes: []\n",
      "edge_attributes: []\n"
     ]
    }
   ],
   "source": [
    "print(ont)"
   ]
  },
  {
   "cell_type": "code",
   "execution_count": 49,
   "metadata": {},
   "outputs": [],
   "source": [
    "#Randomize the genes\n",
    "\n",
    "ont2_file = '../data/NeST_' + n_type + '_bb_ont.txt'\n",
    "ont2 = ont.shuffle_genes()\n",
    "ont2.propagate(direction='reverse', inplace=True)\n",
    "ont2 = ont2.collapse_ontology(method='python')\n",
    "ont2.to_table(ont2_file, clixo_format=True)\n",
    "print(ont2)"
   ]
  }
 ],
 "metadata": {
  "kernelspec": {
   "display_name": "Python 3",
   "language": "python",
   "name": "python3"
  },
  "language_info": {
   "codemirror_mode": {
    "name": "ipython",
    "version": 3
   },
   "file_extension": ".py",
   "mimetype": "text/x-python",
   "name": "python",
   "nbconvert_exporter": "python",
   "pygments_lexer": "ipython3",
   "version": "3.7.6"
  }
 },
 "nbformat": 4,
 "nbformat_minor": 4
}
