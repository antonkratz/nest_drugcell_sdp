{
 "cells": [
  {
   "cell_type": "code",
   "execution_count": null,
   "metadata": {},
   "outputs": [],
   "source": [
    "import pandas as pd\n",
    "import numpy as np\n",
    "import math\n",
    "import matplotlib.pyplot as plt\n",
    "import glob"
   ]
  },
  {
   "cell_type": "code",
   "execution_count": null,
   "metadata": {},
   "outputs": [],
   "source": [
    "SMALL_SIZE = 12\n",
    "MEDIUM_SIZE = 16\n",
    "BIGGER_SIZE = 22\n",
    "\n",
    "plt.rc('font', size=SMALL_SIZE)          # controls default text sizes\n",
    "plt.rc('axes', titlesize=SMALL_SIZE)     # fontsize of the axes title\n",
    "plt.rc('axes', labelsize=MEDIUM_SIZE)    # fontsize of the x and y labels\n",
    "plt.rc('xtick', labelsize=SMALL_SIZE)    # fontsize of the tick labels\n",
    "plt.rc('ytick', labelsize=SMALL_SIZE)    # fontsize of the tick labels\n",
    "plt.rc('legend', fontsize=SMALL_SIZE)    # legend fontsize\n",
    "plt.rc('figure', titlesize=BIGGER_SIZE)  # fontsize of the figure title"
   ]
  },
  {
   "cell_type": "code",
   "execution_count": null,
   "metadata": {},
   "outputs": [],
   "source": [
    "def create_loss_validation_curves(train_score_df):\n",
    "    fig1 = plt.figure(figsize=(9, 6))\n",
    "    ax = fig1.add_subplot(111)\n",
    "    ax.plot(train_score_df['Epoch'], train_score_df['Train'], label='Training')\n",
    "    ax.plot(train_score_df['Epoch'], train_score_df['Validate'], label='Validation')\n",
    "    ax.set_xlabel('Epochs')\n",
    "    ax.set_ylabel('Spearman Correlation')\n",
    "    ax.xaxis.grid(True)\n",
    "    \n",
    "    fig2 = plt.figure(figsize=(9, 6))\n",
    "    ax = fig2.add_subplot(111)\n",
    "    ax.plot(train_score_df['Epoch'], train_score_df['Loss'], label='Loss')\n",
    "    ax.set_xlabel('Epochs')\n",
    "    ax.set_ylabel('MSE Loss')\n",
    "    ax.xaxis.grid(True)\n",
    "    \n",
    "    plt.show()"
   ]
  },
  {
   "cell_type": "code",
   "execution_count": null,
   "metadata": {},
   "outputs": [],
   "source": [
    "logfile_name = '../logs/train_epoch_all_nodes.log'\n",
    "output_file = '../result/train_epoch_all_nodes.csv'"
   ]
  },
  {
   "cell_type": "code",
   "execution_count": null,
   "metadata": {},
   "outputs": [],
   "source": [
    "%%bash -s \"$logfile_name\" \"$output_file\"\n",
    "\n",
    "sed -n \"/^epoch/p\" $1 | awk -v OFS='\\t' '{print $2, $4, $6, $8}' > $2"
   ]
  },
  {
   "cell_type": "code",
   "execution_count": null,
   "metadata": {},
   "outputs": [],
   "source": [
    "train_score_df = pd.read_csv('../result/train_epoch_all_nodes.csv', sep='\\t', header=None, names=['Epoch', 'Train', 'Validate', 'Loss'])\n",
    "create_loss_validation_curves(train_score_df.head(50))\n",
    "\n",
    "train_score_df = pd.read_csv('../result/train_epoch_top_node.csv', sep='\\t', header=None, names=['Epoch', 'Train', 'Validate', 'Loss'])\n",
    "create_loss_validation_curves(train_score_df)\n",
    "\n",
    "train_score_df = pd.read_csv('../result/train_loss_top_node.csv', sep='\\t', header=None, names=['Epoch', 'Train', 'Validate', 'Loss'])\n",
    "create_loss_validation_curves(train_score_df.head(50))"
   ]
  },
  {
   "cell_type": "code",
   "execution_count": null,
   "metadata": {},
   "outputs": [],
   "source": []
  }
 ],
 "metadata": {
  "kernelspec": {
   "display_name": "Python 3",
   "language": "python",
   "name": "python3"
  },
  "language_info": {
   "codemirror_mode": {
    "name": "ipython",
    "version": 3
   },
   "file_extension": ".py",
   "mimetype": "text/x-python",
   "name": "python",
   "nbconvert_exporter": "python",
   "pygments_lexer": "ipython3",
   "version": "3.7.6"
  }
 },
 "nbformat": 4,
 "nbformat_minor": 4
}
