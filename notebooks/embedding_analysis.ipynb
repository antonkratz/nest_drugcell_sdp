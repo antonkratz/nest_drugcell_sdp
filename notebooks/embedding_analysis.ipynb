{
 "cells": [
  {
   "cell_type": "code",
   "execution_count": null,
   "metadata": {},
   "outputs": [],
   "source": [
    "import pandas as pd\n",
    "import numpy as np\n",
    "import matplotlib.pyplot as plt\n",
    "from sklearn.decomposition import PCA\n",
    "from sklearn.preprocessing import StandardScaler"
   ]
  },
  {
   "cell_type": "code",
   "execution_count": null,
   "metadata": {},
   "outputs": [],
   "source": [
    "SMALL_SIZE = 12\n",
    "MEDIUM_SIZE = 16\n",
    "BIGGER_SIZE = 22\n",
    "\n",
    "plt.rc('font', size=SMALL_SIZE)          # controls default text sizes\n",
    "plt.rc('axes', titlesize=SMALL_SIZE)     # fontsize of the axes title\n",
    "plt.rc('axes', labelsize=MEDIUM_SIZE)    # fontsize of the x and y labels\n",
    "plt.rc('xtick', labelsize=SMALL_SIZE)    # fontsize of the tick labels\n",
    "plt.rc('ytick', labelsize=SMALL_SIZE)    # fontsize of the tick labels\n",
    "plt.rc('legend', fontsize=SMALL_SIZE)    # legend fontsize\n",
    "plt.rc('figure', titlesize=BIGGER_SIZE)  # fontsize of the figure title"
   ]
  },
  {
   "cell_type": "code",
   "execution_count": null,
   "metadata": {},
   "outputs": [],
   "source": [
    "#for each cell line, get PCs of the output of the final layer of the VNN and plot pc1 vs pc2\n",
    "\n",
    "cell_types_df = pd.read_csv('../data/ccle_maf.txt', sep='\\t')\n",
    "cell_annot_df = pd.read_csv(\"../data/cell_line_annotations.txt\", sep=\"\\t\")\n",
    "cell_annot_map = dict(zip(cell_annot_df.depMapID, cell_annot_df.CCLE_ID))\n",
    "cell_lines = set(pd.read_csv('../data/cell2ind.txt', sep='\\t', header=None, names=['I', 'C'])['C'])\n",
    "test_file_df = pd.read_csv('../data/drugcell_all.txt', sep='\\t', header=None, names=['C', 'D', 'AUC'])\n",
    "root_hidden_df = pd.read_csv('../hidden/NEST.hidden', sep=' ', header=None, names=['N1', 'N2', 'N3', 'N4', 'N5', 'N6', 'N7', 'N8', 'N9', 'N10'])\n",
    "root_hidden_df = pd.concat([test_file_df, root_hidden_df], axis=1).reindex(test_file_df.index)"
   ]
  },
  {
   "cell_type": "code",
   "execution_count": null,
   "metadata": {},
   "outputs": [],
   "source": [
    "def get_mutated_cell_lines(mut_type_list):\n",
    "    mut_cell_lines = set()\n",
    "    ct = cell_types_df[cell_types_df.Hugo_Symbol.isin(mut_type_list)]\n",
    "    for i,row in ct.iterrows():\n",
    "        if row['Broad_ID'] in cell_annot_map and cell_annot_map[row['Broad_ID']] in cell_lines:\n",
    "            mut_cell_lines.add(cell_annot_map[row['Broad_ID']])\n",
    "    return mut_cell_lines"
   ]
  },
  {
   "cell_type": "code",
   "execution_count": null,
   "metadata": {},
   "outputs": [],
   "source": [
    "def get_cell_lines_by_tissue_type(tissue_type):\n",
    "    tissue_cl = set()\n",
    "    for _,row in cell_annot_df.iterrows():\n",
    "        if row['Site_Primary'] == tissue_type and row['CCLE_ID'] in cell_lines:\n",
    "            tissue_cl.add(row['CCLE_ID'])\n",
    "    return tissue_cl"
   ]
  },
  {
   "cell_type": "code",
   "execution_count": null,
   "metadata": {},
   "outputs": [],
   "source": [
    "def get_embedding_plot(pcs, mut_index):\n",
    "    \n",
    "    pc1 = pcs[:,0]\n",
    "    pc2 = pcs[:,1]\n",
    "\n",
    "    pc1_color = [pc1[i] for i in mut_index]\n",
    "    pc2_color = [pc2[i] for i in mut_index]\n",
    "    pc1_grey = [pc for i, pc in enumerate(pc1) if i not in mut_index]\n",
    "    pc2_grey = [pc for i, pc in enumerate(pc2) if i not in mut_index]\n",
    "\n",
    "    fig = plt.figure(figsize = (5, 5))\n",
    "    ax = fig.add_subplot(111)\n",
    "    ax.set_xlim(-5, 5)\n",
    "    ax.set_ylim(-5, 5)\n",
    "    ax.set_xlabel('PC 1')\n",
    "    ax.set_ylabel('PC 2')\n",
    "    ax.set_xticks([])\n",
    "    ax.set_yticks([])\n",
    "    ax.scatter(pc1_grey, pc2_grey, color = 'silver', s = 6)\n",
    "    ax.scatter(pc1_color, pc2_color, color = 'green', s = 12)\n",
    "    plt.show()\n",
    "    return fig"
   ]
  },
  {
   "cell_type": "code",
   "execution_count": null,
   "metadata": {},
   "outputs": [],
   "source": [
    "def get_embedding_plot_contigous(pcs, mut_index, score):\n",
    "    \n",
    "    pc1 = pcs[:,0]\n",
    "    pc2 = pcs[:,1]\n",
    "    \n",
    "    pc1_color = [pc1[i] for i in mut_index]\n",
    "    pc2_color = [pc2[i] for i in mut_index]\n",
    "    pc1_grey = [pc for i, pc in enumerate(pc1) if i not in mut_index]\n",
    "    pc2_grey = [pc for i, pc in enumerate(pc2) if i not in mut_index]\n",
    "\n",
    "    fig = plt.figure(figsize = (5, 5))\n",
    "    ax = fig.add_subplot(111)\n",
    "    ax.set_xlabel('PC 1')\n",
    "    ax.set_ylabel('PC 2')\n",
    "    ax.set_xlim(-5, 5)\n",
    "    ax.set_ylim(-5, 5)\n",
    "    ax.set_xticks([])\n",
    "    ax.set_yticks([])\n",
    "    ax.scatter(pc1_grey, pc2_grey, color = 'silver', s = 6)\n",
    "    points = ax.scatter(pc1_color, pc2_color, c = score, cmap = 'coolwarm', s = 12)\n",
    "    fig.colorbar(points)\n",
    "    plt.show()\n",
    "    return fig"
   ]
  },
  {
   "cell_type": "code",
   "execution_count": null,
   "metadata": {},
   "outputs": [],
   "source": [
    "root_hidden_cell_df = root_hidden_df.drop(['D', 'AUC'], 1).drop_duplicates()\n",
    "hiddens = root_hidden_cell_df.drop('C', 1)\n",
    "\n",
    "scaler = StandardScaler()\n",
    "scaled_hiddens = scaler.fit_transform(hiddens)\n",
    "\n",
    "pca = PCA()\n",
    "pca.fit(scaled_hiddens)\n",
    "root_hidden_pcs = pca.transform(scaled_hiddens)\n",
    "\n",
    "n = len(root_hidden_pcs[0])\n",
    "pc_df = pd.DataFrame(root_hidden_pcs[:, :n], index=root_hidden_cell_df.index)\n",
    "pc_df = pd.concat([root_hidden_cell_df['C'], pc_df], axis=1).reindex(root_hidden_cell_df.index)"
   ]
  },
  {
   "cell_type": "code",
   "execution_count": null,
   "metadata": {},
   "outputs": [],
   "source": [
    "mut_list = ['BRAF']\n",
    "braf_cell_lines = get_mutated_cell_lines(mut_list)\n",
    "\n",
    "mut_index = [i for i, cell in enumerate(list(root_hidden_cell_df['C'])) if cell in braf_cell_lines]\n",
    "print('n =', len(mut_index))\n",
    "\n",
    "fig = get_embedding_plot(root_hidden_pcs, mut_index)"
   ]
  },
  {
   "cell_type": "code",
   "execution_count": null,
   "metadata": {},
   "outputs": [],
   "source": [
    "fig.savefig('../plots/braf_mutations.png')"
   ]
  },
  {
   "cell_type": "code",
   "execution_count": null,
   "metadata": {},
   "outputs": [],
   "source": [
    "#Selumetinib\n",
    "drug = 'CN1C=NC2=C1C=C(C(=C2F)NC3=C(C=C(C=C3)Br)Cl)C(=O)NOCCO'\n",
    "root_hidden_drug_df = root_hidden_df[root_hidden_df.D == drug].drop(['D'], 1)\n",
    "\n",
    "mut_indices = []\n",
    "c_score = []\n",
    "\n",
    "for i, cell in enumerate(list(root_hidden_cell_df['C'])):\n",
    "    for idx in root_hidden_drug_df.index[root_hidden_drug_df['C'] == cell].tolist():\n",
    "        c_df = root_hidden_cell_df.iloc[i].drop(['C'])\n",
    "        d_df = root_hidden_drug_df.loc[idx].drop(['C', 'AUC'])\n",
    "        if c_df.equals(d_df):\n",
    "            mut_indices.append(i)\n",
    "            c_score.append(root_hidden_drug_df.loc[idx]['AUC'])\n",
    "\n",
    "print('n =', len(mut_indices))\n",
    "\n",
    "fig = get_embedding_plot_contigous(root_hidden_pcs, mut_indices, c_score)"
   ]
  },
  {
   "cell_type": "code",
   "execution_count": null,
   "metadata": {},
   "outputs": [],
   "source": [
    "fig.savefig('../plots/selumetinib_embedding.png')"
   ]
  },
  {
   "cell_type": "code",
   "execution_count": null,
   "metadata": {},
   "outputs": [],
   "source": [
    "#Tremitinib\n",
    "drug = 'CC1=C2C(=C(N(C1=O)C)NC3=C(C=C(C=C3)I)F)C(=O)N(C(=O)N2C4=CC(=CC=C4)NC(=O)C)C5CC5'\n",
    "root_hidden_drug_df = root_hidden_df[root_hidden_df.D == drug].drop(['D'], 1)\n",
    "\n",
    "mut_indices = []\n",
    "c_score = []\n",
    "\n",
    "for i, cell in enumerate(list(root_hidden_cell_df['C'])):\n",
    "    for idx in root_hidden_drug_df.index[root_hidden_drug_df['C'] == cell].tolist():\n",
    "        c_df = root_hidden_cell_df.iloc[i].drop(['C'])\n",
    "        d_df = root_hidden_drug_df.loc[idx].drop(['C', 'AUC'])\n",
    "        if c_df.equals(d_df):\n",
    "            mut_indices.append(i)\n",
    "            c_score.append(root_hidden_drug_df.loc[idx]['AUC'])\n",
    "\n",
    "print('n =', len(mut_indices))\n",
    "\n",
    "fig = get_embedding_plot_contigous(root_hidden_pcs, mut_indices, c_score)"
   ]
  },
  {
   "cell_type": "code",
   "execution_count": null,
   "metadata": {},
   "outputs": [],
   "source": [
    "mut_list = ['BRAF', 'EGFR', 'LKB1']\n",
    "braf_cell_lines = get_mutated_cell_lines(mut_list)\n",
    "\n",
    "mut_index = [i for i, cell in enumerate(list(root_hidden_cell_df['C'])) if cell in braf_cell_lines]\n",
    "print('n =', len(mut_index))\n",
    "\n",
    "fig = get_embedding_plot(root_hidden_pcs, mut_index)"
   ]
  },
  {
   "cell_type": "code",
   "execution_count": null,
   "metadata": {},
   "outputs": [],
   "source": [
    "fig.savefig('../plots/braf_egfr_lkb1_embedding.png')"
   ]
  },
  {
   "cell_type": "code",
   "execution_count": null,
   "metadata": {},
   "outputs": [],
   "source": [
    "drug = 'CC1=C(SC2=C1C(=N[C@H](C3=NN=C(N32)C)CC(=O)OC(C)(C)C)C4=CC=C(C=C4)Cl)C'\n",
    "root_hidden_drug_df = root_hidden_df[root_hidden_df.D == drug].drop(['D'], 1)\n",
    "\n",
    "mut_indices = []\n",
    "c_score = []\n",
    "\n",
    "for i, cell in enumerate(list(root_hidden_cell_df['C'])):\n",
    "    for idx in root_hidden_drug_df.index[root_hidden_drug_df['C'] == cell].tolist():\n",
    "        c_df = root_hidden_cell_df.iloc[i].drop(['C'])\n",
    "        d_df = root_hidden_drug_df.loc[idx].drop(['C', 'AUC'])\n",
    "        if c_df.equals(d_df):\n",
    "            mut_indices.append(i)\n",
    "            c_score.append(root_hidden_drug_df.loc[idx]['AUC'])\n",
    "\n",
    "print('n =', len(mut_indices))\n",
    "\n",
    "fig = get_embedding_plot_contigous(root_hidden_pcs, mut_indices, c_score)"
   ]
  },
  {
   "cell_type": "code",
   "execution_count": null,
   "metadata": {},
   "outputs": [],
   "source": [
    "fig.savefig('../plots/JQ1_embedding.png')"
   ]
  },
  {
   "cell_type": "code",
   "execution_count": null,
   "metadata": {},
   "outputs": [],
   "source": [
    "drug = 'CC1=C2[C@H](C(=O)[C@@]3([C@H](C[C@@H]4[C@](C3[C@@H]([C@@](C2(C)C)(C[C@@H]1OC(=O)[C@@H]([C@H](C5=CC=CC=C5)NC(=O)C6=CC=CC=C6)O)O)OC(=O)C7=CC=CC=C7)(CO4)OC(=O)C)O)C)OC(=O)C'\n",
    "root_hidden_drug_df = root_hidden_df[root_hidden_df.D == drug].drop(['D'], 1)\n",
    "\n",
    "mut_indices = []\n",
    "c_score = []\n",
    "\n",
    "for i, cell in enumerate(list(root_hidden_cell_df['C'])):\n",
    "    for idx in root_hidden_drug_df.index[root_hidden_drug_df['C'] == cell].tolist():\n",
    "        c_df = root_hidden_cell_df.iloc[i].drop(['C'])\n",
    "        d_df = root_hidden_drug_df.loc[idx].drop(['C', 'AUC'])\n",
    "        if c_df.equals(d_df):\n",
    "            mut_indices.append(i)\n",
    "            c_score.append(root_hidden_drug_df.loc[idx]['AUC'])\n",
    "\n",
    "print('n =', len(mut_indices))\n",
    "\n",
    "fig = get_embedding_plot_contigous(root_hidden_pcs, mut_indices, c_score)"
   ]
  },
  {
   "cell_type": "code",
   "execution_count": null,
   "metadata": {},
   "outputs": [],
   "source": [
    "fig.savefig('../plots/paclitaxel_embedding.png')"
   ]
  },
  {
   "cell_type": "code",
   "execution_count": null,
   "metadata": {},
   "outputs": [],
   "source": [
    "cell_annot_df['Site_Primary'].unique()"
   ]
  },
  {
   "cell_type": "code",
   "execution_count": null,
   "metadata": {},
   "outputs": [],
   "source": [
    "tissue = 'lung'\n",
    "tissue_cl = get_cell_lines_by_tissue_type(tissue)\n",
    "\n",
    "mut_index = [i for i, cell in enumerate(list(root_hidden_cell_df['C'])) if cell in tissue_cl]\n",
    "print('n =', len(mut_index))\n",
    "\n",
    "fig = get_embedding_plot(root_hidden_pcs, mut_index)"
   ]
  },
  {
   "cell_type": "code",
   "execution_count": null,
   "metadata": {},
   "outputs": [],
   "source": [
    "fig.savefig('../plots/lung_embedding.png')"
   ]
  },
  {
   "cell_type": "code",
   "execution_count": null,
   "metadata": {},
   "outputs": [],
   "source": [
    "tissue = 'breast'\n",
    "tissue_cl = get_cell_lines_by_tissue_type(tissue)\n",
    "\n",
    "mut_index = [i for i, cell in enumerate(list(root_hidden_cell_df['C'])) if cell in tissue_cl]\n",
    "print('n =', len(mut_index))\n",
    "\n",
    "fig = get_embedding_plot(root_hidden_pcs, mut_index)"
   ]
  },
  {
   "cell_type": "code",
   "execution_count": null,
   "metadata": {},
   "outputs": [],
   "source": [
    "fig.savefig('../plots/breast_embedding.png')"
   ]
  },
  {
   "cell_type": "code",
   "execution_count": null,
   "metadata": {},
   "outputs": [],
   "source": [
    "tissue = 'skin'\n",
    "tissue_cl = get_cell_lines_by_tissue_type(tissue)\n",
    "\n",
    "mut_index = [i for i, cell in enumerate(list(root_hidden_cell_df['C'])) if cell in tissue_cl]\n",
    "print('n =', len(mut_index))\n",
    "\n",
    "fig = get_embedding_plot(root_hidden_pcs, mut_index)"
   ]
  },
  {
   "cell_type": "code",
   "execution_count": null,
   "metadata": {},
   "outputs": [],
   "source": [
    "fig.savefig('../plots/skin_embedding.png')"
   ]
  },
  {
   "cell_type": "code",
   "execution_count": null,
   "metadata": {},
   "outputs": [],
   "source": [
    "tissue = 'haematopoietic_and_lymphoid_tissue'\n",
    "tissue_cl = get_cell_lines_by_tissue_type(tissue)\n",
    "\n",
    "mut_index = [i for i, cell in enumerate(list(root_hidden_cell_df['C'])) if cell in tissue_cl]\n",
    "print('n =', len(mut_index))\n",
    "\n",
    "fig = get_embedding_plot(root_hidden_pcs, mut_index)"
   ]
  },
  {
   "cell_type": "code",
   "execution_count": null,
   "metadata": {},
   "outputs": [],
   "source": [
    "fig.savefig('../plots/blood_embedding.png')"
   ]
  },
  {
   "cell_type": "code",
   "execution_count": null,
   "metadata": {},
   "outputs": [],
   "source": [
    "tissue = 'central_nervous_system'\n",
    "tissue_cl = get_cell_lines_by_tissue_type(tissue)\n",
    "\n",
    "mut_index = [i for i, cell in enumerate(list(root_hidden_cell_df['C'])) if cell in tissue_cl]\n",
    "print('n =', len(mut_index))\n",
    "\n",
    "fig = get_embedding_plot(root_hidden_pcs, mut_index)"
   ]
  },
  {
   "cell_type": "code",
   "execution_count": null,
   "metadata": {},
   "outputs": [],
   "source": [
    "fig.savefig('../plots/cns_embedding.png')"
   ]
  }
 ],
 "metadata": {
  "kernelspec": {
   "display_name": "Python 3",
   "language": "python",
   "name": "python3"
  },
  "language_info": {
   "codemirror_mode": {
    "name": "ipython",
    "version": 3
   },
   "file_extension": ".py",
   "mimetype": "text/x-python",
   "name": "python",
   "nbconvert_exporter": "python",
   "pygments_lexer": "ipython3",
   "version": "3.7.6"
  }
 },
 "nbformat": 4,
 "nbformat_minor": 4
}
