{
 "cells": [
  {
   "cell_type": "code",
   "execution_count": null,
   "metadata": {},
   "outputs": [],
   "source": [
    "import math\n",
    "import pandas as pd\n",
    "import numpy as np\n",
    "import ndex2.client as nc"
   ]
  },
  {
   "cell_type": "code",
   "execution_count": null,
   "metadata": {},
   "outputs": [],
   "source": [
    "my_account = 'a2singha'\n",
    "my_password = input()\n",
    "try:\n",
    "    ndex=nc.Ndex2('http://public.ndexbio.org', my_account, my_password)\n",
    "    ndex.update_status()\n",
    "except Exception as inst:\n",
    "    print(\"Could not access account %s with password %s\" % (my_account, my_password))\n",
    "    print(inst.args)"
   ]
  },
  {
   "cell_type": "code",
   "execution_count": null,
   "metadata": {},
   "outputs": [],
   "source": [
    "net_type = 'm41'\n",
    "query = ''\n",
    "with open('../data/PCNet/gene_list_' + net_type + '.txt', 'r') as file:\n",
    "    query = file.read().replace('\\n', ' ')"
   ]
  },
  {
   "cell_type": "code",
   "execution_count": null,
   "metadata": {},
   "outputs": [],
   "source": [
    "onco_kb_data = pd.read_csv(\"../data/ONCO_KB/oncokb_biomarker_drug_associations.tsv\", sep='\\t')\n",
    "drug_names = pd.read_csv(\"../data/compound_names.txt\", sep='\\t')\n",
    "genes = sorted(set(onco_kb_data['Gene']))\n",
    "query = ' '.join([str(g) for g in genes])"
   ]
  },
  {
   "cell_type": "code",
   "execution_count": null,
   "metadata": {},
   "outputs": [],
   "source": [
    "UUID = '4de852d9-9908-11e9-bcaf-0ac135e8bacf'\n",
    "result = ndex.get_interconnectquery(UUID, query, edge_limit=0)\n",
    "result"
   ]
  }
 ],
 "metadata": {
  "kernelspec": {
   "display_name": "Python 3",
   "language": "python",
   "name": "python3"
  },
  "language_info": {
   "codemirror_mode": {
    "name": "ipython",
    "version": 3
   },
   "file_extension": ".py",
   "mimetype": "text/x-python",
   "name": "python",
   "nbconvert_exporter": "python",
   "pygments_lexer": "ipython3",
   "version": "3.7.6"
  }
 },
 "nbformat": 4,
 "nbformat_minor": 4
}
