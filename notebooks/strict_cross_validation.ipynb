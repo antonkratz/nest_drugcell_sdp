{
 "cells": [
  {
   "cell_type": "code",
   "execution_count": 1,
   "metadata": {},
   "outputs": [],
   "source": [
    "import random as rd\n",
    "import pandas as pd\n",
    "import numpy as np\n",
    "from collections import Counter"
   ]
  },
  {
   "cell_type": "code",
   "execution_count": null,
   "metadata": {},
   "outputs": [],
   "source": [
    "def partition(lst, n): \n",
    "    division = len(lst) / float(n) \n",
    "    return [lst[int(round(division * i)): int(round(division * (i + 1)))] for i in xrange(n)]"
   ]
  },
  {
   "cell_type": "code",
   "execution_count": null,
   "metadata": {},
   "outputs": [],
   "source": [
    "def create_cell_data(cell_lines, cell_mutations_df, train_data):\n",
    "    cl_count = len(cell_lines)\n",
    "    randomized_cell_lines = rd.sample(cell_lines, k=cl_count)\n",
    "    partitions = partition(randomized_cell_lines, 5)\n",
    "    \n",
    "    cell_mutations_df = pd.concat([cell_lines, cell_mutations], axis=1)\n",
    "    \n",
    "    for i, test_cl in enumerate(partitions):\n",
    "        \n",
    "        test_cl = sorted(test_cl)\n",
    "        train_cl = sorted(list(set(partitions) - set(test_cl)))\n",
    "        \n",
    "        test_mutations_df = cell_mutations_df.query('C in @test_cl')\n",
    "        train_mutations_df = cell_mutations_df.query('C in @train_cl')\n",
    "        \n",
    "        "
   ]
  }
 ],
 "metadata": {
  "kernelspec": {
   "display_name": "Python 3",
   "language": "python",
   "name": "python3"
  },
  "language_info": {
   "codemirror_mode": {
    "name": "ipython",
    "version": 3
   },
   "file_extension": ".py",
   "mimetype": "text/x-python",
   "name": "python",
   "nbconvert_exporter": "python",
   "pygments_lexer": "ipython3",
   "version": "3.7.6"
  }
 },
 "nbformat": 4,
 "nbformat_minor": 4
}
