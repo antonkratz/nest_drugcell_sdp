{
 "cells": [
  {
   "cell_type": "code",
   "execution_count": 1,
   "metadata": {},
   "outputs": [],
   "source": [
    "import pandas as pd\n",
    "import numpy as np\n",
    "from sklearn.linear_model import RidgeCV\n",
    "from scipy import stats"
   ]
  },
  {
   "cell_type": "code",
   "execution_count": 2,
   "metadata": {},
   "outputs": [],
   "source": [
    "genes = pd.read_csv('../data/gene2ind.txt', sep='\\t', header=None, names=(['I', 'G']))['G']\n",
    "cell_gene_matrix = np.loadtxt('../data/cell2mutation.txt', delimiter=',')\n",
    "cell_index = pd.read_csv(\"../data/cell2ind.txt\", sep=\"\\t\", header=None, names=['I', 'C'])\n",
    "test_df = pd.read_csv(\"../data/drugcell_all.txt\", sep='\\t', header=None, names=['C', 'D', 'AUC'])\n",
    "drugs = pd.read_csv('../data/drug2ind.txt', sep='\\t', header=None, names=['I', 'D'])['D']\n",
    "ontology = pd.read_csv('../data/drugcell_ont.txt', sep='\\t', header=None, names=['S', 'T', 'I'])\n",
    "\n",
    "predicted_vals = np.loadtxt('../rlipp/drugcell_all.predict')\n",
    "\n",
    "\n",
    "terms = ontology['S'].unique().tolist()"
   ]
  },
  {
   "cell_type": "code",
   "execution_count": 3,
   "metadata": {},
   "outputs": [],
   "source": [
    "#creating hidden files for genes to be used in rlipp\n",
    "\n",
    "cell_id_map = dict(zip(cell_index['C'], cell_index['I']))\n",
    "cell_line_ids = np.array([cell_id_map[x] for x in test_df['C'].tolist()])\n",
    "for i, gene in enumerate(genes):\n",
    "    file_name = '../rlipp/hidden/' + gene + '.hidden'\n",
    "    mat_data_sub = cell_gene_matrix[cell_line_ids, i].ravel()\n",
    "    np.savetxt(file_name, mat_data_sub, fmt='%.3f')"
   ]
  },
  {
   "cell_type": "code",
   "execution_count": 5,
   "metadata": {},
   "outputs": [],
   "source": [
    "#Separating data for each drug\n",
    "drug_pos_map = {d:[] for d in drugs}\n",
    "for i, row in test_df.iterrows():\n",
    "    drug_pos_map[row['D']].append(i)\n"
   ]
  },
  {
   "cell_type": "code",
   "execution_count": 8,
   "metadata": {},
   "outputs": [],
   "source": [
    "def get_features(term, index_list):\n",
    "    file_name = '../rlipp/hidden/' + term + '.hidden'\n",
    "    features = []\n",
    "    if term in terms:\n",
    "        features = np.loadtxt(file_name, usecols=range(6))\n",
    "    else:\n",
    "        features = np.loadtxt(file_name, usecols=range(1))\n",
    "    return np.take(features, index_list, axis=0)\n",
    "\n",
    "\n",
    "def get_child_features(term, index_list):\n",
    "    child_features = []\n",
    "    children = [row['T'] for _,row in ontology.iterrows() if row['S']==term]\n",
    "    for child in children:\n",
    "        child_features.append(get_features(child, index_list))\n",
    "    return np.column_stack((f for f in child_features))\n",
    "\n",
    "\n",
    "def exec_lm(X, y):\n",
    "    regr = RidgeCV(fit_intercept=False, cv=5)\n",
    "    regr.fit(X, y)\n",
    "    y_pred = regr.predict(X)\n",
    "    return stats.spearmanr(y_pred, y)[0]"
   ]
  },
  {
   "cell_type": "code",
   "execution_count": null,
   "metadata": {},
   "outputs": [],
   "source": [
    "f = open('../rlipp/rlipp.out', \"w\")\n",
    "f.write('Drug\\tTerm\\tP_rho\\tC_rho\\tRLIPP\\n')\n",
    "\n",
    "for i,d in enumerate(drugs):\n",
    "    y = np.take(predicted_vals, drug_pos_map[d])\n",
    "    for j,t in enumerate(terms):\n",
    "        X_parent = get_features(t, drug_pos_map[d])\n",
    "        X_child = get_child_features(t, drug_pos_map[d])\n",
    "        p_rho = exec_lm(X_parent, y)\n",
    "        c_rho = exec_lm(X_child, y)\n",
    "        rlipp = (p_rho - c_rho)/c_rho\n",
    "        result = '{}\\t{}\\t{:.3f}\\t{:.3f}\\t{:.3f}\\n'.format(d, t, p_rho, c_rho, rlipp)\n",
    "        f.write(result)\n",
    "f.close()"
   ]
  }
 ],
 "metadata": {
  "kernelspec": {
   "display_name": "Python 3",
   "language": "python",
   "name": "python3"
  },
  "language_info": {
   "codemirror_mode": {
    "name": "ipython",
    "version": 3
   },
   "file_extension": ".py",
   "mimetype": "text/x-python",
   "name": "python",
   "nbconvert_exporter": "python",
   "pygments_lexer": "ipython3",
   "version": "3.7.7"
  }
 },
 "nbformat": 4,
 "nbformat_minor": 4
}
