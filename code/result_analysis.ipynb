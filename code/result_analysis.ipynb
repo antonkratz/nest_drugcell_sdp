{
 "cells": [
  {
   "cell_type": "code",
   "execution_count": 31,
   "metadata": {},
   "outputs": [],
   "source": [
    "import pandas as pd\n",
    "import numpy as np\n",
    "import math\n",
    "import matplotlib.pyplot as plt"
   ]
  },
  {
   "cell_type": "code",
   "execution_count": 2,
   "metadata": {},
   "outputs": [],
   "source": [
    "test = pd.read_csv(\"../data/drugcell_test.txt\", sep=\"\\t\", header=None, names=(['cell', 'drug', 't_auc']))\n",
    "\n",
    "predicted = pd.read_csv(\"../result/drugcell.predict\", header=None, names=(['p_auc']))\n",
    "predicted_bb = pd.read_csv(\"../result/drugcell_bb.predict\", header=None, names=(['p_auc']))\n",
    "\n",
    "#test_orig = pd.read_csv(\"../data/drugcell_test.txt\", sep=\"\\t\", header=None, names=(['cell', 'drug', 't_auc']))\n",
    "#predicted_orig = pd.read_csv(\"drugcell_orig.predict\", header=None, names=(['p_auc']))\n"
   ]
  },
  {
   "cell_type": "code",
   "execution_count": 30,
   "metadata": {},
   "outputs": [],
   "source": [
    "def get_boxplot(test, predicted):\n",
    "    \n",
    "    df = pd.DataFrame(list(zip(test['t_auc'], predicted['p_auc'])), columns=['t', 'p'])\n",
    "    df = df.sort_values(by=['t'])\n",
    "\n",
    "    data = []\n",
    "    for i in range(9):\n",
    "        temp = []\n",
    "        data.append(temp)\n",
    "\n",
    "    for i, row in df.iterrows():\n",
    "        if row['t'] < 0.3:\n",
    "            data[0].append(row['p'])\n",
    "        elif row['t'] < 0.4:\n",
    "            data[1].append(row['p'])\n",
    "        elif row['t'] < 0.5:\n",
    "            data[2].append(row['p'])\n",
    "        elif row['t'] < 0.6:\n",
    "            data[3].append(row['p'])\n",
    "        elif row['t'] < 0.7:\n",
    "            data[4].append(row['p'])\n",
    "        elif row['t'] < 0.8:\n",
    "            data[5].append(row['p'])\n",
    "        elif row['t'] < 0.9:\n",
    "            data[6].append(row['p'])\n",
    "        elif row['t'] < 1.0:\n",
    "            data[7].append(row['p'])\n",
    "        else:\n",
    "            data[8].append(row['p'])\n",
    "    \n",
    "    fig = plt.figure(figsize=(9, 6))\n",
    "    ax = fig.add_subplot(111)\n",
    "    bp = ax.boxplot(data, showfliers=False, labels=['0.3', '0.4', '0.5', '0.6', '0.7', '0.8', '0.9', '1.0', 'Inf'])\n",
    "    ax.grid()\n",
    "    plt.show()\n"
   ]
  },
  {
   "cell_type": "code",
   "execution_count": 4,
   "metadata": {},
   "outputs": [
    {
     "data": {
      "image/png": "[encoded data removed]",
      "text/plain": [
       "<Figure size 648x432 with 1 Axes>"
      ]
     },
     "metadata": {
      "needs_background": "light"
     },
     "output_type": "display_data"
    }
   ],
   "source": [
    "#NeST data CV\n",
    "\n",
    "get_boxplot(test, predicted)"
   ]
  },
  {
   "cell_type": "code",
   "execution_count": 5,
   "metadata": {},
   "outputs": [
    {
     "data": {
      "image/png": "[encoded data removed]",
      "text/plain": [
       "<Figure size 648x432 with 1 Axes>"
      ]
     },
     "metadata": {
      "needs_background": "light"
     },
     "output_type": "display_data"
    }
   ],
   "source": [
    "#NeST Black box\n",
    "\n",
    "get_boxplot(test, predicted_bb)"
   ]
  },
  {
   "cell_type": "code",
   "execution_count": 6,
   "metadata": {},
   "outputs": [],
   "source": [
    "def load_mapping(mapping_file):\n",
    "    mapping = {}\n",
    "    file_handle = open(mapping_file)\n",
    "    for line in file_handle:\n",
    "        line = line.rstrip().split()\n",
    "        mapping[line[1]] = int(line[0])\n",
    "    file_handle.close()\n",
    "    return mapping\n",
    "\n",
    "\n",
    "def load_test_data(file_name, cell2id, drug2id):\n",
    "    feature = []\n",
    "    label = []\n",
    "    with open(file_name, 'r') as fi:\n",
    "        for line in fi:\n",
    "            tokens = line.strip().split('\\t')\n",
    "            feature.append([cell2id[tokens[0]], drug2id[tokens[1]]])\n",
    "            label.append([float(tokens[2])])\n",
    "    return feature, label\n",
    "\n",
    "\n",
    "def pearson_corr(x, y):\n",
    "    xx = x - np.mean(x)\n",
    "    yy = y - np.mean(y)\n",
    "    return np.sum(xx*yy) / (np.linalg.norm(xx, 2) * np.linalg.norm(yy, 2))\n",
    "\n"
   ]
  },
  {
   "cell_type": "code",
   "execution_count": 23,
   "metadata": {},
   "outputs": [],
   "source": [
    "cell_id_mapping = load_mapping('../data/cell2ind.txt')\n",
    "drug_id_mapping = load_mapping('../data/drug2ind.txt')\n",
    "\n",
    "test_feature, test_label = load_test_data(\"../data/drugcell_test.txt\", cell_id_mapping, drug_id_mapping)\n",
    "predicted_label = np.array(predicted)\n",
    "predicted_bb_label = np.array(predicted_bb)"
   ]
  },
  {
   "cell_type": "code",
   "execution_count": 24,
   "metadata": {},
   "outputs": [
    {
     "name": "stdout",
     "output_type": "stream",
     "text": [
      "0.8059636882180176\n"
     ]
    }
   ],
   "source": [
    "corr = pearson_corr(predicted_label, test_label)\n",
    "print(corr)"
   ]
  },
  {
   "cell_type": "code",
   "execution_count": 25,
   "metadata": {},
   "outputs": [
    {
     "name": "stdout",
     "output_type": "stream",
     "text": [
      "0.6457917156663441\n"
     ]
    }
   ],
   "source": [
    "corr = pearson_corr(predicted_bb_label, test_label)\n",
    "print(corr)"
   ]
  },
  {
   "cell_type": "code",
   "execution_count": 27,
   "metadata": {},
   "outputs": [
    {
     "name": "stdout",
     "output_type": "stream",
     "text": [
      "684\n",
      "684\n"
     ]
    }
   ],
   "source": [
    "drug_ids = set([d[1] for d in test_feature])\n",
    "\n",
    "drug_pred_corr = []\n",
    "drug_p_bb_corr = []\n",
    "\n",
    "for drug in drug_ids:\n",
    "    test_vals = []\n",
    "    pred_vals = []\n",
    "    p_bb_vals = []\n",
    "    \n",
    "    for i, feature in enumerate(test_feature):\n",
    "        if feature[1] == drug:\n",
    "            test_vals.append(test_label[i])\n",
    "            pred_vals.append(predicted_label[i])\n",
    "            p_bb_vals.append(predicted_bb_label[i])\n",
    "            \n",
    "    p_corr = pearson_corr(np.array(pred_vals), np.array(test_vals))\n",
    "    p_bb_coor = pearson_corr(np.array(p_bb_vals), np.array(test_vals))\n",
    "    drug_pred_corr.append(p_corr)\n",
    "    drug_p_bb_corr.append(p_bb_coor)\n",
    "    \n"
   ]
  },
  {
   "cell_type": "code",
   "execution_count": 35,
   "metadata": {},
   "outputs": [
    {
     "data": {
      "image/png": "[encoded data removed]",
      "text/plain": [
       "<Figure size 648x432 with 1 Axes>"
      ]
     },
     "metadata": {
      "needs_background": "light"
     },
     "output_type": "display_data"
    }
   ],
   "source": [
    "fig = plt.figure(figsize=(9, 6))\n",
    "ax = fig.add_subplot(111)\n",
    "ax.scatter(drug_p_bb_corr, drug_pred_corr)\n",
    "\n",
    "plt.xlabel(\"Black box NN\")\n",
    "plt.ylabel(\"Visible NN\")\n",
    "\n",
    "lims = [\n",
    "    np.min([ax.get_xlim(), ax.get_ylim()]),  # min of both axes\n",
    "    np.max([ax.get_xlim(), ax.get_ylim()]),  # max of both axes\n",
    "]\n",
    "\n",
    "ax.plot(lims, lims, 'k-', alpha=0.75, zorder=0)\n",
    "ax.set_aspect('equal')\n",
    "ax.set_xlim(lims)\n",
    "ax.set_ylim(lims)\n",
    "\n",
    "plt.show()"
   ]
  }
 ],
 "metadata": {
  "kernelspec": {
   "display_name": "Python 3",
   "language": "python",
   "name": "python3"
  },
  "language_info": {
   "codemirror_mode": {
    "name": "ipython",
    "version": 3
   },
   "file_extension": ".py",
   "mimetype": "text/x-python",
   "name": "python",
   "nbconvert_exporter": "python",
   "pygments_lexer": "ipython3",
   "version": "3.7.6"
  }
 },
 "nbformat": 4,
 "nbformat_minor": 4
}
