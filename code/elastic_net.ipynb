{
 "cells": [
  {
   "cell_type": "code",
   "execution_count": 1,
   "metadata": {},
   "outputs": [],
   "source": [
    "import numpy as np\n",
    "import pandas as pd\n",
    "from sklearn.linear_model import ElasticNetCV"
   ]
  },
  {
   "cell_type": "code",
   "execution_count": 4,
   "metadata": {},
   "outputs": [],
   "source": [
    "data = pd.read_csv('../data/drugcell_all.txt', sep='\\t', header=None, names=(['cell', 'drug', 'auc']))\n",
    "\n",
    "gene_index = pd.read_csv('../data/gene2ind.txt', sep='\\t', header=None, names=(['I', 'G']))\n",
    "gene_list = gene_index['G']\n",
    "\n",
    "cell_index = pd.read_csv('../data/cell2ind.txt', sep='\\t', header=None, names=(['I', 'C']))\n",
    "cell_map = dict(zip(cell_index['C'], cell_index['I']))\n",
    "\n",
    "cell_features = pd.read_csv('../data/cell2mutation.txt', header=None, names=gene_list)"
   ]
  },
  {
   "cell_type": "code",
   "execution_count": 5,
   "metadata": {},
   "outputs": [],
   "source": [
    "train_Y = np.array(data['auc'])\n",
    "\n",
    "train_X = np.empty(shape = (len(data['cell']), len(gene_list)))\n",
    "for i, cell in enumerate(data['cell']):\n",
    "    train_X[i] = np.array(cell_features.iloc[int(cell_map[cell])])\n"
   ]
  },
  {
   "cell_type": "code",
   "execution_count": 7,
   "metadata": {},
   "outputs": [],
   "source": [
    "regr = ElasticNetCV(fit_intercept=True, cv=5, max_iter=2000, tol=1e-2, n_jobs=-2)\n",
    "regr.fit(train_X, train_Y)\n",
    "predicted_Y = regr.predict(train_X)"
   ]
  },
  {
   "cell_type": "code",
   "execution_count": 9,
   "metadata": {},
   "outputs": [],
   "source": [
    "np.savetxt('../result/elastic_net.predict', predicted_Y, fmt = '%.4e')"
   ]
  },
  {
   "cell_type": "code",
   "execution_count": 8,
   "metadata": {},
   "outputs": [
    {
     "name": "stdout",
     "output_type": "stream",
     "text": [
      "[0.89880106 0.86527201 0.70405351 ... 0.74372754 0.91772359 0.86692368]\n"
     ]
    }
   ],
   "source": [
    "print(predicted_Y)"
   ]
  }
 ],
 "metadata": {
  "kernelspec": {
   "display_name": "Python 3",
   "language": "python",
   "name": "python3"
  },
  "language_info": {
   "codemirror_mode": {
    "name": "ipython",
    "version": 3
   },
   "file_extension": ".py",
   "mimetype": "text/x-python",
   "name": "python",
   "nbconvert_exporter": "python",
   "pygments_lexer": "ipython3",
   "version": "3.7.7"
  }
 },
 "nbformat": 4,
 "nbformat_minor": 4
}
