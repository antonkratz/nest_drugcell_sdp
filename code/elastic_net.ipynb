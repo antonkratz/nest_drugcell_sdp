{
 "cells": [
  {
   "cell_type": "code",
   "execution_count": 1,
   "metadata": {},
   "outputs": [],
   "source": [
    "import numpy as np\n",
    "import pandas as pd\n",
    "from sklearn.linear_model import ElasticNet"
   ]
  },
  {
   "cell_type": "code",
   "execution_count": 7,
   "metadata": {},
   "outputs": [],
   "source": [
    "train_data = pd.read_csv('../data/drugcell_train.txt', sep='\\t', header=None, names=(['cell', 'drug', 'auc']))\n",
    "test_data = pd.read_csv('../data/drugcell_test.txt', sep='\\t', header=None, names=(['cell', 'drug', 'auc']))\n",
    "\n",
    "gene_index = pd.read_csv('../data/gene2ind.txt', sep='\\t', header=None, names=(['I', 'G']))\n",
    "gene_list = gene_index['G']\n",
    "\n",
    "cell_index = pd.read_csv('../data/cell2ind.txt', sep='\\t', header=None, names=(['I', 'C']))\n",
    "cell_map = dict(zip(cell_index['C'], cell_index['I']))\n",
    "\n",
    "cell_features = pd.read_csv('../data/cell2mutation.txt', header=None, names=gene_list)"
   ]
  },
  {
   "cell_type": "code",
   "execution_count": 8,
   "metadata": {},
   "outputs": [],
   "source": [
    "train_Y = np.array(train_data['auc'])\n",
    "train_X = np.empty(shape = (len(train_data['cell']), len(gene_list)))\n",
    "for i, cell in enumerate(train_data['cell']):\n",
    "    train_X[i] = np.array(cell_features.iloc[int(cell_map[cell])])\n",
    "    \n",
    "test_Y = np.array(test_data['auc'])\n",
    "test_X = np.empty(shape = (len(test_data['cell']), len(gene_list)))\n",
    "for i, cell in enumerate(test_data['cell']):\n",
    "    test_X[i] = np.array(cell_features.iloc[int(cell_map[cell])])"
   ]
  },
  {
   "cell_type": "code",
   "execution_count": 9,
   "metadata": {},
   "outputs": [],
   "source": [
    "regr = ElasticNet(fit_intercept = False, max_iter = 400, tol = 1e-7)\n",
    "regr.fit(train_X, train_Y)\n",
    "predicted_Y = regr.predict(test_X)"
   ]
  },
  {
   "cell_type": "code",
   "execution_count": 10,
   "metadata": {},
   "outputs": [],
   "source": [
    "np.savetxt('../result/elastic_net.predict', predicted_Y, fmt = '%.4e')"
   ]
  },
  {
   "cell_type": "code",
   "execution_count": 11,
   "metadata": {},
   "outputs": [
    {
     "name": "stdout",
     "output_type": "stream",
     "text": [
      "[0.0623191  0.0623191  0.04856999 ... 0.1108891  0.         0.1108891 ]\n"
     ]
    }
   ],
   "source": [
    "print(predicted_Y)"
   ]
  }
 ],
 "metadata": {
  "kernelspec": {
   "display_name": "Python 3",
   "language": "python",
   "name": "python3"
  },
  "language_info": {
   "codemirror_mode": {
    "name": "ipython",
    "version": 3
   },
   "file_extension": ".py",
   "mimetype": "text/x-python",
   "name": "python",
   "nbconvert_exporter": "python",
   "pygments_lexer": "ipython3",
   "version": "3.7.6"
  }
 },
 "nbformat": 4,
 "nbformat_minor": 4
}
