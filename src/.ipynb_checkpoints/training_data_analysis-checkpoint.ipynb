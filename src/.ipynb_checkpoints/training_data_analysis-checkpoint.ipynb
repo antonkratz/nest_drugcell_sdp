{
 "cells": [
  {
   "cell_type": "code",
   "execution_count": 46,
   "metadata": {},
   "outputs": [],
   "source": [
    "import pandas as pd\n",
    "import numpy as np\n",
    "import math\n",
    "import matplotlib.pyplot as plt\n",
    "from matplotlib.ticker import ScalarFormatter\n",
    "from scipy import stats"
   ]
  },
  {
   "cell_type": "code",
   "execution_count": 12,
   "metadata": {},
   "outputs": [],
   "source": [
    "train_df = pd.read_csv('../data/drugcell_all.txt', sep='\\t', header=None, names=['C', 'D', 'AUC'])\n",
    "drugs = pd.read_csv('../data/drug2ind.txt', sep='\\t', header=None, names=['I', 'D'])['D']\n",
    "cell_mutation = np.loadtxt('../data/cell2mutation.txt', delimiter=',')\n",
    "ontology = pd.read_csv('../data/drugcell_ont.txt', sep='\\t', header=None, names=['S', 'T', 'I'])"
   ]
  },
  {
   "cell_type": "code",
   "execution_count": 14,
   "metadata": {},
   "outputs": [],
   "source": [
    "# No. of mutations in cell-lines\n",
    "\n",
    "mutation_count = np.count_nonzero(cell_mutation == 1, axis=1)"
   ]
  },
  {
   "cell_type": "code",
   "execution_count": 47,
   "metadata": {},
   "outputs": [
    {
     "data": {
      "image/png": "[encoded data removed]",
      "text/plain": [
       "<Figure size 648x576 with 1 Axes>"
      ]
     },
     "metadata": {
      "needs_background": "light"
     },
     "output_type": "display_data"
    }
   ],
   "source": [
    "fig = plt.figure(figsize=(9, 8))\n",
    "ax = fig.add_subplot(111)\n",
    "ax.hist(x=mutation_count, bins='auto', alpha=0.7, rwidth=0.85)\n",
    "ax.grid(False)\n",
    "ax.set_xlabel('Number of mutations')\n",
    "ax.set_ylabel('Number of cell lines')\n",
    "ax.set_xscale(\"log\")\n",
    "ax.set_xlim(1, 1000)\n",
    "ax.xaxis.set_major_formatter(ScalarFormatter())\n",
    "plt.show()"
   ]
  },
  {
   "cell_type": "code",
   "execution_count": null,
   "metadata": {},
   "outputs": [],
   "source": [
    "def load_ontology(self, file_name):\n",
    "    dG = nx.DiGraph()\n",
    "    term_direct_gene_map = {}\n",
    "    term_size_map = {}\n",
    "    gene_set = set()\n",
    "\n",
    "    file_handle = open(file_name)\n",
    "    for line in file_handle:\n",
    "        line = line.rstrip().split()\n",
    "        if line[2] == 'default':\n",
    "            dG.add_edge(line[0], line[1])\n",
    "        else:\n",
    "            if line[1] not in self.gene_id_mapping:\n",
    "                continue\n",
    "            if line[0] not in term_direct_gene_map:\n",
    "                term_direct_gene_map[line[0]] = set()\n",
    "            term_direct_gene_map[line[0]].add(self.gene_id_mapping[line[1]])\n",
    "            gene_set.add(line[1])\n",
    "    file_handle.close()\n",
    "\n",
    "    print('There are', len(gene_set), 'genes')\n",
    "\n",
    "    for term in dG.nodes():\n",
    "        term_gene_set = set()\n",
    "        if term in term_direct_gene_map:\n",
    "            term_gene_set = term_direct_gene_map[term]\n",
    "        deslist = nxadag.descendants(dG, term)\n",
    "        for child in deslist:\n",
    "            if child in term_direct_gene_map:\n",
    "                term_gene_set = term_gene_set | term_direct_gene_map[child]\n",
    "        # jisoo\n",
    "        if len(term_gene_set) == 0:\n",
    "            print('There is empty terms, please delete term:', term)\n",
    "            sys.exit(1)\n",
    "        else:\n",
    "            term_size_map[term] = len(term_gene_set)\n",
    "\n",
    "    roots = [n for n in dG.nodes if dG.in_degree(n) == 0]\n",
    "\n",
    "    uG = dG.to_undirected()\n",
    "    connected_subG_list = list(nxacc.connected_components(uG))\n",
    "\n",
    "    print('There are', len(roots), 'roots:', roots[0])\n",
    "    print('There are', len(dG.nodes()), 'terms')\n",
    "    print('There are', len(connected_subG_list), 'connected componenets')\n",
    "    \n",
    "    return dG"
   ]
  }
 ],
 "metadata": {
  "kernelspec": {
   "display_name": "Python 3",
   "language": "python",
   "name": "python3"
  },
  "language_info": {
   "codemirror_mode": {
    "name": "ipython",
    "version": 3
   },
   "file_extension": ".py",
   "mimetype": "text/x-python",
   "name": "python",
   "nbconvert_exporter": "python",
   "pygments_lexer": "ipython3",
   "version": "3.7.7"
  }
 },
 "nbformat": 4,
 "nbformat_minor": 4
}
